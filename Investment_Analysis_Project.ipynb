{
 "cells": [
  {
   "cell_type": "code",
   "execution_count": 2,
   "metadata": {},
   "outputs": [],
   "source": [
    "# Import Libraries\n",
    "import pandas as pd\n",
    "import numpy as np\n",
    "import chardet"
   ]
  },
  {
   "cell_type": "markdown",
   "metadata": {},
   "source": [
    "# Reading Data"
   ]
  },
  {
   "cell_type": "code",
   "execution_count": 6,
   "metadata": {},
   "outputs": [
    {
     "name": "stdout",
     "output_type": "stream",
     "text": [
      "{'encoding': 'utf-8', 'confidence': 0.7525, 'language': ''}\n"
     ]
    }
   ],
   "source": [
    "with open(\"companies.csv\", 'rb') as rawdata:\n",
    "    result = chardet.detect(rawdata.read(10000))\n",
    "    \n",
    "# check the character encoding\n",
    "print(result)"
   ]
  },
  {
   "cell_type": "code",
   "execution_count": 25,
   "metadata": {},
   "outputs": [],
   "source": [
    "# Create companies Dataframe with latin1 encoding\n",
    "companies = pd.read_csv(\"companies.csv\", encoding='latin1')\n",
    "\n",
    "# Create rounds2 Dataframe\n",
    "rounds2 = pd.read_csv(\"rounds2.csv\", encoding='latin1')"
   ]
  },
  {
   "cell_type": "code",
   "execution_count": 10,
   "metadata": {},
   "outputs": [
    {
     "data": {
      "text/html": [
       "<div>\n",
       "<style scoped>\n",
       "    .dataframe tbody tr th:only-of-type {\n",
       "        vertical-align: middle;\n",
       "    }\n",
       "\n",
       "    .dataframe tbody tr th {\n",
       "        vertical-align: top;\n",
       "    }\n",
       "\n",
       "    .dataframe thead th {\n",
       "        text-align: right;\n",
       "    }\n",
       "</style>\n",
       "<table border=\"1\" class=\"dataframe\">\n",
       "  <thead>\n",
       "    <tr style=\"text-align: right;\">\n",
       "      <th></th>\n",
       "      <th>permalink</th>\n",
       "      <th>name</th>\n",
       "      <th>homepage_url</th>\n",
       "      <th>category_list</th>\n",
       "      <th>status</th>\n",
       "      <th>country_code</th>\n",
       "      <th>state_code</th>\n",
       "      <th>region</th>\n",
       "      <th>city</th>\n",
       "      <th>founded_at</th>\n",
       "    </tr>\n",
       "  </thead>\n",
       "  <tbody>\n",
       "    <tr>\n",
       "      <th>0</th>\n",
       "      <td>/Organization/-Fame</td>\n",
       "      <td>#fame</td>\n",
       "      <td>http://livfame.com</td>\n",
       "      <td>Media</td>\n",
       "      <td>operating</td>\n",
       "      <td>IND</td>\n",
       "      <td>16</td>\n",
       "      <td>Mumbai</td>\n",
       "      <td>Mumbai</td>\n",
       "      <td>NaN</td>\n",
       "    </tr>\n",
       "    <tr>\n",
       "      <th>1</th>\n",
       "      <td>/Organization/-Qounter</td>\n",
       "      <td>:Qounter</td>\n",
       "      <td>http://www.qounter.com</td>\n",
       "      <td>Application Platforms|Real Time|Social Network...</td>\n",
       "      <td>operating</td>\n",
       "      <td>USA</td>\n",
       "      <td>DE</td>\n",
       "      <td>DE - Other</td>\n",
       "      <td>Delaware City</td>\n",
       "      <td>04-09-2014</td>\n",
       "    </tr>\n",
       "    <tr>\n",
       "      <th>2</th>\n",
       "      <td>/Organization/-The-One-Of-Them-Inc-</td>\n",
       "      <td>(THE) ONE of THEM,Inc.</td>\n",
       "      <td>http://oneofthem.jp</td>\n",
       "      <td>Apps|Games|Mobile</td>\n",
       "      <td>operating</td>\n",
       "      <td>NaN</td>\n",
       "      <td>NaN</td>\n",
       "      <td>NaN</td>\n",
       "      <td>NaN</td>\n",
       "      <td>NaN</td>\n",
       "    </tr>\n",
       "    <tr>\n",
       "      <th>3</th>\n",
       "      <td>/Organization/0-6-Com</td>\n",
       "      <td>0-6.com</td>\n",
       "      <td>http://www.0-6.com</td>\n",
       "      <td>Curated Web</td>\n",
       "      <td>operating</td>\n",
       "      <td>CHN</td>\n",
       "      <td>22</td>\n",
       "      <td>Beijing</td>\n",
       "      <td>Beijing</td>\n",
       "      <td>01-01-2007</td>\n",
       "    </tr>\n",
       "    <tr>\n",
       "      <th>4</th>\n",
       "      <td>/Organization/004-Technologies</td>\n",
       "      <td>004 Technologies</td>\n",
       "      <td>http://004gmbh.de/en/004-interact</td>\n",
       "      <td>Software</td>\n",
       "      <td>operating</td>\n",
       "      <td>USA</td>\n",
       "      <td>IL</td>\n",
       "      <td>Springfield, Illinois</td>\n",
       "      <td>Champaign</td>\n",
       "      <td>01-01-2010</td>\n",
       "    </tr>\n",
       "  </tbody>\n",
       "</table>\n",
       "</div>"
      ],
      "text/plain": [
       "                             permalink                    name  \\\n",
       "0                  /Organization/-Fame                   #fame   \n",
       "1               /Organization/-Qounter                :Qounter   \n",
       "2  /Organization/-The-One-Of-Them-Inc-  (THE) ONE of THEM,Inc.   \n",
       "3                /Organization/0-6-Com                 0-6.com   \n",
       "4       /Organization/004-Technologies        004 Technologies   \n",
       "\n",
       "                        homepage_url  \\\n",
       "0                 http://livfame.com   \n",
       "1             http://www.qounter.com   \n",
       "2                http://oneofthem.jp   \n",
       "3                 http://www.0-6.com   \n",
       "4  http://004gmbh.de/en/004-interact   \n",
       "\n",
       "                                       category_list     status country_code  \\\n",
       "0                                              Media  operating          IND   \n",
       "1  Application Platforms|Real Time|Social Network...  operating          USA   \n",
       "2                                  Apps|Games|Mobile  operating          NaN   \n",
       "3                                        Curated Web  operating          CHN   \n",
       "4                                           Software  operating          USA   \n",
       "\n",
       "  state_code                 region           city  founded_at  \n",
       "0         16                 Mumbai         Mumbai         NaN  \n",
       "1         DE             DE - Other  Delaware City  04-09-2014  \n",
       "2        NaN                    NaN            NaN         NaN  \n",
       "3         22                Beijing        Beijing  01-01-2007  \n",
       "4         IL  Springfield, Illinois      Champaign  01-01-2010  "
      ]
     },
     "execution_count": 10,
     "metadata": {},
     "output_type": "execute_result"
    }
   ],
   "source": [
    "companies.head()"
   ]
  },
  {
   "cell_type": "markdown",
   "metadata": {},
   "source": [
    "# Data Exploration"
   ]
  },
  {
   "cell_type": "code",
   "execution_count": 13,
   "metadata": {},
   "outputs": [
    {
     "data": {
      "text/html": [
       "<div>\n",
       "<style scoped>\n",
       "    .dataframe tbody tr th:only-of-type {\n",
       "        vertical-align: middle;\n",
       "    }\n",
       "\n",
       "    .dataframe tbody tr th {\n",
       "        vertical-align: top;\n",
       "    }\n",
       "\n",
       "    .dataframe thead th {\n",
       "        text-align: right;\n",
       "    }\n",
       "</style>\n",
       "<table border=\"1\" class=\"dataframe\">\n",
       "  <thead>\n",
       "    <tr style=\"text-align: right;\">\n",
       "      <th></th>\n",
       "      <th>permalink</th>\n",
       "      <th>name</th>\n",
       "      <th>homepage_url</th>\n",
       "      <th>category_list</th>\n",
       "      <th>status</th>\n",
       "      <th>country_code</th>\n",
       "      <th>state_code</th>\n",
       "      <th>region</th>\n",
       "      <th>city</th>\n",
       "      <th>founded_at</th>\n",
       "    </tr>\n",
       "  </thead>\n",
       "  <tbody>\n",
       "    <tr>\n",
       "      <th>66363</th>\n",
       "      <td>/Organization/Zznode-Science-And-Technology-Co...</td>\n",
       "      <td>ZZNode Science and Technology</td>\n",
       "      <td>http://www.zznode.com</td>\n",
       "      <td>Enterprise Software</td>\n",
       "      <td>operating</td>\n",
       "      <td>CHN</td>\n",
       "      <td>22</td>\n",
       "      <td>Beijing</td>\n",
       "      <td>Beijing</td>\n",
       "      <td>NaN</td>\n",
       "    </tr>\n",
       "    <tr>\n",
       "      <th>66364</th>\n",
       "      <td>/Organization/Zzzzapp-Com</td>\n",
       "      <td>Zzzzapp Wireless ltd.</td>\n",
       "      <td>http://www.zzzzapp.com</td>\n",
       "      <td>Advertising|Mobile|Web Development|Wireless</td>\n",
       "      <td>operating</td>\n",
       "      <td>HRV</td>\n",
       "      <td>15</td>\n",
       "      <td>Split</td>\n",
       "      <td>Split</td>\n",
       "      <td>13-05-2012</td>\n",
       "    </tr>\n",
       "    <tr>\n",
       "      <th>66365</th>\n",
       "      <td>/Organization/ÃEron</td>\n",
       "      <td>ÃERON</td>\n",
       "      <td>http://www.aeron.hu/</td>\n",
       "      <td>NaN</td>\n",
       "      <td>operating</td>\n",
       "      <td>NaN</td>\n",
       "      <td>NaN</td>\n",
       "      <td>NaN</td>\n",
       "      <td>NaN</td>\n",
       "      <td>01-01-2011</td>\n",
       "    </tr>\n",
       "    <tr>\n",
       "      <th>66366</th>\n",
       "      <td>/Organization/ÃAsys-2</td>\n",
       "      <td>Ãasys</td>\n",
       "      <td>http://www.oasys.io/</td>\n",
       "      <td>Consumer Electronics|Internet of Things|Teleco...</td>\n",
       "      <td>operating</td>\n",
       "      <td>USA</td>\n",
       "      <td>CA</td>\n",
       "      <td>SF Bay Area</td>\n",
       "      <td>San Francisco</td>\n",
       "      <td>01-01-2014</td>\n",
       "    </tr>\n",
       "    <tr>\n",
       "      <th>66367</th>\n",
       "      <td>/Organization/Ä°Novatiff-Reklam-Ve-Tanä±Tä±M-H...</td>\n",
       "      <td>Ä°novatiff Reklam ve TanÄ±tÄ±m Hizmetleri Tic</td>\n",
       "      <td>http://inovatiff.com</td>\n",
       "      <td>Consumer Goods|E-Commerce|Internet</td>\n",
       "      <td>operating</td>\n",
       "      <td>NaN</td>\n",
       "      <td>NaN</td>\n",
       "      <td>NaN</td>\n",
       "      <td>NaN</td>\n",
       "      <td>NaN</td>\n",
       "    </tr>\n",
       "  </tbody>\n",
       "</table>\n",
       "</div>"
      ],
      "text/plain": [
       "                                               permalink  \\\n",
       "66363  /Organization/Zznode-Science-And-Technology-Co...   \n",
       "66364                          /Organization/Zzzzapp-Com   \n",
       "66365                               /Organization/ÃEron   \n",
       "66366                             /Organization/ÃAsys-2   \n",
       "66367  /Organization/Ä°Novatiff-Reklam-Ve-Tanä±Tä±M-H...   \n",
       "\n",
       "                                                name            homepage_url  \\\n",
       "66363                  ZZNode Science and Technology   http://www.zznode.com   \n",
       "66364                          Zzzzapp Wireless ltd.  http://www.zzzzapp.com   \n",
       "66365                                         ÃERON    http://www.aeron.hu/   \n",
       "66366                                         Ãasys    http://www.oasys.io/   \n",
       "66367  Ä°novatiff Reklam ve TanÄ±tÄ±m Hizmetleri Tic    http://inovatiff.com   \n",
       "\n",
       "                                           category_list     status  \\\n",
       "66363                                Enterprise Software  operating   \n",
       "66364        Advertising|Mobile|Web Development|Wireless  operating   \n",
       "66365                                                NaN  operating   \n",
       "66366  Consumer Electronics|Internet of Things|Teleco...  operating   \n",
       "66367                 Consumer Goods|E-Commerce|Internet  operating   \n",
       "\n",
       "      country_code state_code       region           city  founded_at  \n",
       "66363          CHN         22      Beijing        Beijing         NaN  \n",
       "66364          HRV         15        Split          Split  13-05-2012  \n",
       "66365          NaN        NaN          NaN            NaN  01-01-2011  \n",
       "66366          USA         CA  SF Bay Area  San Francisco  01-01-2014  \n",
       "66367          NaN        NaN          NaN            NaN         NaN  "
      ]
     },
     "execution_count": 13,
     "metadata": {},
     "output_type": "execute_result"
    }
   ],
   "source": [
    "companies.tail()"
   ]
  },
  {
   "cell_type": "code",
   "execution_count": 14,
   "metadata": {},
   "outputs": [
    {
     "data": {
      "text/plain": [
       "(66368, 10)"
      ]
     },
     "execution_count": 14,
     "metadata": {},
     "output_type": "execute_result"
    }
   ],
   "source": [
    "companies.shape"
   ]
  },
  {
   "cell_type": "code",
   "execution_count": 15,
   "metadata": {},
   "outputs": [
    {
     "data": {
      "text/plain": [
       "Index(['permalink', 'name', 'homepage_url', 'category_list', 'status',\n",
       "       'country_code', 'state_code', 'region', 'city', 'founded_at'],\n",
       "      dtype='object')"
      ]
     },
     "execution_count": 15,
     "metadata": {},
     "output_type": "execute_result"
    }
   ],
   "source": [
    "companies.columns"
   ]
  },
  {
   "cell_type": "code",
   "execution_count": 16,
   "metadata": {},
   "outputs": [
    {
     "name": "stdout",
     "output_type": "stream",
     "text": [
      "<class 'pandas.core.frame.DataFrame'>\n",
      "RangeIndex: 66368 entries, 0 to 66367\n",
      "Data columns (total 10 columns):\n",
      " #   Column         Non-Null Count  Dtype \n",
      "---  ------         --------------  ----- \n",
      " 0   permalink      66368 non-null  object\n",
      " 1   name           66367 non-null  object\n",
      " 2   homepage_url   61310 non-null  object\n",
      " 3   category_list  63220 non-null  object\n",
      " 4   status         66368 non-null  object\n",
      " 5   country_code   59410 non-null  object\n",
      " 6   state_code     57821 non-null  object\n",
      " 7   region         58338 non-null  object\n",
      " 8   city           58340 non-null  object\n",
      " 9   founded_at     51147 non-null  object\n",
      "dtypes: object(10)\n",
      "memory usage: 5.1+ MB\n"
     ]
    }
   ],
   "source": [
    "companies.info()"
   ]
  },
  {
   "cell_type": "code",
   "execution_count": 18,
   "metadata": {},
   "outputs": [
    {
     "data": {
      "text/html": [
       "<div>\n",
       "<style scoped>\n",
       "    .dataframe tbody tr th:only-of-type {\n",
       "        vertical-align: middle;\n",
       "    }\n",
       "\n",
       "    .dataframe tbody tr th {\n",
       "        vertical-align: top;\n",
       "    }\n",
       "\n",
       "    .dataframe thead th {\n",
       "        text-align: right;\n",
       "    }\n",
       "</style>\n",
       "<table border=\"1\" class=\"dataframe\">\n",
       "  <thead>\n",
       "    <tr style=\"text-align: right;\">\n",
       "      <th></th>\n",
       "      <th>permalink</th>\n",
       "      <th>name</th>\n",
       "      <th>homepage_url</th>\n",
       "      <th>category_list</th>\n",
       "      <th>status</th>\n",
       "      <th>country_code</th>\n",
       "      <th>state_code</th>\n",
       "      <th>region</th>\n",
       "      <th>city</th>\n",
       "      <th>founded_at</th>\n",
       "    </tr>\n",
       "  </thead>\n",
       "  <tbody>\n",
       "    <tr>\n",
       "      <th>count</th>\n",
       "      <td>66368</td>\n",
       "      <td>66367</td>\n",
       "      <td>61310</td>\n",
       "      <td>63220</td>\n",
       "      <td>66368</td>\n",
       "      <td>59410</td>\n",
       "      <td>57821</td>\n",
       "      <td>58338</td>\n",
       "      <td>58340</td>\n",
       "      <td>51147</td>\n",
       "    </tr>\n",
       "    <tr>\n",
       "      <th>unique</th>\n",
       "      <td>66368</td>\n",
       "      <td>66099</td>\n",
       "      <td>61191</td>\n",
       "      <td>27296</td>\n",
       "      <td>4</td>\n",
       "      <td>137</td>\n",
       "      <td>311</td>\n",
       "      <td>1092</td>\n",
       "      <td>5111</td>\n",
       "      <td>3978</td>\n",
       "    </tr>\n",
       "    <tr>\n",
       "      <th>top</th>\n",
       "      <td>/Organization/Zerto</td>\n",
       "      <td>Blink</td>\n",
       "      <td>http://www.askforoffer.com</td>\n",
       "      <td>Software</td>\n",
       "      <td>operating</td>\n",
       "      <td>USA</td>\n",
       "      <td>CA</td>\n",
       "      <td>SF Bay Area</td>\n",
       "      <td>San Francisco</td>\n",
       "      <td>01-01-2012</td>\n",
       "    </tr>\n",
       "    <tr>\n",
       "      <th>freq</th>\n",
       "      <td>1</td>\n",
       "      <td>4</td>\n",
       "      <td>5</td>\n",
       "      <td>3995</td>\n",
       "      <td>53034</td>\n",
       "      <td>37601</td>\n",
       "      <td>12900</td>\n",
       "      <td>8804</td>\n",
       "      <td>3526</td>\n",
       "      <td>2730</td>\n",
       "    </tr>\n",
       "  </tbody>\n",
       "</table>\n",
       "</div>"
      ],
      "text/plain": [
       "                  permalink   name                homepage_url category_list  \\\n",
       "count                 66368  66367                       61310         63220   \n",
       "unique                66368  66099                       61191         27296   \n",
       "top     /Organization/Zerto  Blink  http://www.askforoffer.com      Software   \n",
       "freq                      1      4                           5          3995   \n",
       "\n",
       "           status country_code state_code       region           city  \\\n",
       "count       66368        59410      57821        58338          58340   \n",
       "unique          4          137        311         1092           5111   \n",
       "top     operating          USA         CA  SF Bay Area  San Francisco   \n",
       "freq        53034        37601      12900         8804           3526   \n",
       "\n",
       "        founded_at  \n",
       "count        51147  \n",
       "unique        3978  \n",
       "top     01-01-2012  \n",
       "freq          2730  "
      ]
     },
     "execution_count": 18,
     "metadata": {},
     "output_type": "execute_result"
    }
   ],
   "source": [
    "companies.describe(include=\"all\")"
   ]
  },
  {
   "cell_type": "code",
   "execution_count": 20,
   "metadata": {},
   "outputs": [
    {
     "data": {
      "text/plain": [
       "66368"
      ]
     },
     "execution_count": 20,
     "metadata": {},
     "output_type": "execute_result"
    }
   ],
   "source": [
    "len(companies.permalink.unique())"
   ]
  },
  {
   "cell_type": "code",
   "execution_count": 31,
   "metadata": {},
   "outputs": [],
   "source": [
    "# Create new column \"company_name\" and insert value from Taking out company name from permalink values \n",
    "# Convert all the values to lower case\n",
    "companies[\"company_name\"] = companies['permalink'].apply(lambda x : x[14:].lower())"
   ]
  },
  {
   "cell_type": "code",
   "execution_count": 32,
   "metadata": {},
   "outputs": [],
   "source": [
    "# Remove \"-\" special character from new column company name\n",
    "companies[\"company_name\"] = companies['company_name'].apply(lambda x : x[1:] if x[0] == \"-\" else x)"
   ]
  },
  {
   "cell_type": "code",
   "execution_count": 33,
   "metadata": {},
   "outputs": [
    {
     "data": {
      "text/plain": [
       "cardiac-dimensions    1\n",
       "positionly            1\n",
       "msi-security          1\n",
       "beautifeye            1\n",
       "zeenworld             1\n",
       "                     ..\n",
       "sandlinks             1\n",
       "biodata               1\n",
       "72798-com             1\n",
       "bethere               1\n",
       "flocktory             1\n",
       "Name: company_name, Length: 66368, dtype: int64"
      ]
     },
     "execution_count": 33,
     "metadata": {},
     "output_type": "execute_result"
    }
   ],
   "source": [
    "# Number of companies in companies Dataframe\n",
    "companies[\"company_name\"].value_counts()"
   ]
  },
  {
   "cell_type": "code",
   "execution_count": 26,
   "metadata": {},
   "outputs": [
    {
     "data": {
      "text/html": [
       "<div>\n",
       "<style scoped>\n",
       "    .dataframe tbody tr th:only-of-type {\n",
       "        vertical-align: middle;\n",
       "    }\n",
       "\n",
       "    .dataframe tbody tr th {\n",
       "        vertical-align: top;\n",
       "    }\n",
       "\n",
       "    .dataframe thead th {\n",
       "        text-align: right;\n",
       "    }\n",
       "</style>\n",
       "<table border=\"1\" class=\"dataframe\">\n",
       "  <thead>\n",
       "    <tr style=\"text-align: right;\">\n",
       "      <th></th>\n",
       "      <th>company_permalink</th>\n",
       "      <th>funding_round_permalink</th>\n",
       "      <th>funding_round_type</th>\n",
       "      <th>funding_round_code</th>\n",
       "      <th>funded_at</th>\n",
       "      <th>raised_amount_usd</th>\n",
       "    </tr>\n",
       "  </thead>\n",
       "  <tbody>\n",
       "    <tr>\n",
       "      <th>0</th>\n",
       "      <td>/organization/-fame</td>\n",
       "      <td>/funding-round/9a01d05418af9f794eebff7ace91f638</td>\n",
       "      <td>venture</td>\n",
       "      <td>B</td>\n",
       "      <td>05-01-2015</td>\n",
       "      <td>10000000.0</td>\n",
       "    </tr>\n",
       "    <tr>\n",
       "      <th>1</th>\n",
       "      <td>/ORGANIZATION/-QOUNTER</td>\n",
       "      <td>/funding-round/22dacff496eb7acb2b901dec1dfe5633</td>\n",
       "      <td>venture</td>\n",
       "      <td>A</td>\n",
       "      <td>14-10-2014</td>\n",
       "      <td>NaN</td>\n",
       "    </tr>\n",
       "    <tr>\n",
       "      <th>2</th>\n",
       "      <td>/organization/-qounter</td>\n",
       "      <td>/funding-round/b44fbb94153f6cdef13083530bb48030</td>\n",
       "      <td>seed</td>\n",
       "      <td>NaN</td>\n",
       "      <td>01-03-2014</td>\n",
       "      <td>700000.0</td>\n",
       "    </tr>\n",
       "    <tr>\n",
       "      <th>3</th>\n",
       "      <td>/ORGANIZATION/-THE-ONE-OF-THEM-INC-</td>\n",
       "      <td>/funding-round/650b8f704416801069bb178a1418776b</td>\n",
       "      <td>venture</td>\n",
       "      <td>B</td>\n",
       "      <td>30-01-2014</td>\n",
       "      <td>3406878.0</td>\n",
       "    </tr>\n",
       "    <tr>\n",
       "      <th>4</th>\n",
       "      <td>/organization/0-6-com</td>\n",
       "      <td>/funding-round/5727accaeaa57461bd22a9bdd945382d</td>\n",
       "      <td>venture</td>\n",
       "      <td>A</td>\n",
       "      <td>19-03-2008</td>\n",
       "      <td>2000000.0</td>\n",
       "    </tr>\n",
       "  </tbody>\n",
       "</table>\n",
       "</div>"
      ],
      "text/plain": [
       "                     company_permalink  \\\n",
       "0                  /organization/-fame   \n",
       "1               /ORGANIZATION/-QOUNTER   \n",
       "2               /organization/-qounter   \n",
       "3  /ORGANIZATION/-THE-ONE-OF-THEM-INC-   \n",
       "4                /organization/0-6-com   \n",
       "\n",
       "                           funding_round_permalink funding_round_type  \\\n",
       "0  /funding-round/9a01d05418af9f794eebff7ace91f638            venture   \n",
       "1  /funding-round/22dacff496eb7acb2b901dec1dfe5633            venture   \n",
       "2  /funding-round/b44fbb94153f6cdef13083530bb48030               seed   \n",
       "3  /funding-round/650b8f704416801069bb178a1418776b            venture   \n",
       "4  /funding-round/5727accaeaa57461bd22a9bdd945382d            venture   \n",
       "\n",
       "  funding_round_code   funded_at  raised_amount_usd  \n",
       "0                  B  05-01-2015         10000000.0  \n",
       "1                  A  14-10-2014                NaN  \n",
       "2                NaN  01-03-2014           700000.0  \n",
       "3                  B  30-01-2014          3406878.0  \n",
       "4                  A  19-03-2008          2000000.0  "
      ]
     },
     "execution_count": 26,
     "metadata": {},
     "output_type": "execute_result"
    }
   ],
   "source": [
    "rounds2.head()"
   ]
  },
  {
   "cell_type": "code",
   "execution_count": 27,
   "metadata": {},
   "outputs": [
    {
     "data": {
      "text/html": [
       "<div>\n",
       "<style scoped>\n",
       "    .dataframe tbody tr th:only-of-type {\n",
       "        vertical-align: middle;\n",
       "    }\n",
       "\n",
       "    .dataframe tbody tr th {\n",
       "        vertical-align: top;\n",
       "    }\n",
       "\n",
       "    .dataframe thead th {\n",
       "        text-align: right;\n",
       "    }\n",
       "</style>\n",
       "<table border=\"1\" class=\"dataframe\">\n",
       "  <thead>\n",
       "    <tr style=\"text-align: right;\">\n",
       "      <th></th>\n",
       "      <th>company_permalink</th>\n",
       "      <th>funding_round_permalink</th>\n",
       "      <th>funding_round_type</th>\n",
       "      <th>funding_round_code</th>\n",
       "      <th>funded_at</th>\n",
       "      <th>raised_amount_usd</th>\n",
       "    </tr>\n",
       "  </thead>\n",
       "  <tbody>\n",
       "    <tr>\n",
       "      <th>114944</th>\n",
       "      <td>/organization/zzzzapp-com</td>\n",
       "      <td>/funding-round/8f6d25b8ee4199e586484d817bceda05</td>\n",
       "      <td>convertible_note</td>\n",
       "      <td>NaN</td>\n",
       "      <td>01-03-2014</td>\n",
       "      <td>41313.0</td>\n",
       "    </tr>\n",
       "    <tr>\n",
       "      <th>114945</th>\n",
       "      <td>/ORGANIZATION/ZZZZAPP-COM</td>\n",
       "      <td>/funding-round/ff1aa06ed5da186c84f101549035d4ae</td>\n",
       "      <td>seed</td>\n",
       "      <td>NaN</td>\n",
       "      <td>01-05-2013</td>\n",
       "      <td>32842.0</td>\n",
       "    </tr>\n",
       "    <tr>\n",
       "      <th>114946</th>\n",
       "      <td>/organization/ãeron</td>\n",
       "      <td>/funding-round/59f4dce44723b794f21ded3daed6e4fe</td>\n",
       "      <td>venture</td>\n",
       "      <td>A</td>\n",
       "      <td>01-08-2014</td>\n",
       "      <td>NaN</td>\n",
       "    </tr>\n",
       "    <tr>\n",
       "      <th>114947</th>\n",
       "      <td>/ORGANIZATION/ÃASYS-2</td>\n",
       "      <td>/funding-round/35f09d0794651719b02bbfd859ba9ff5</td>\n",
       "      <td>seed</td>\n",
       "      <td>NaN</td>\n",
       "      <td>01-01-2015</td>\n",
       "      <td>18192.0</td>\n",
       "    </tr>\n",
       "    <tr>\n",
       "      <th>114948</th>\n",
       "      <td>/organization/ä°novatiff-reklam-ve-tanä±tä±m-h...</td>\n",
       "      <td>/funding-round/af942869878d2cd788ef5189b435ebc4</td>\n",
       "      <td>grant</td>\n",
       "      <td>NaN</td>\n",
       "      <td>01-10-2013</td>\n",
       "      <td>14851.0</td>\n",
       "    </tr>\n",
       "  </tbody>\n",
       "</table>\n",
       "</div>"
      ],
      "text/plain": [
       "                                        company_permalink  \\\n",
       "114944                          /organization/zzzzapp-com   \n",
       "114945                          /ORGANIZATION/ZZZZAPP-COM   \n",
       "114946                               /organization/ãeron   \n",
       "114947                             /ORGANIZATION/ÃASYS-2   \n",
       "114948  /organization/ä°novatiff-reklam-ve-tanä±tä±m-h...   \n",
       "\n",
       "                                funding_round_permalink funding_round_type  \\\n",
       "114944  /funding-round/8f6d25b8ee4199e586484d817bceda05   convertible_note   \n",
       "114945  /funding-round/ff1aa06ed5da186c84f101549035d4ae               seed   \n",
       "114946  /funding-round/59f4dce44723b794f21ded3daed6e4fe            venture   \n",
       "114947  /funding-round/35f09d0794651719b02bbfd859ba9ff5               seed   \n",
       "114948  /funding-round/af942869878d2cd788ef5189b435ebc4              grant   \n",
       "\n",
       "       funding_round_code   funded_at  raised_amount_usd  \n",
       "114944                NaN  01-03-2014            41313.0  \n",
       "114945                NaN  01-05-2013            32842.0  \n",
       "114946                  A  01-08-2014                NaN  \n",
       "114947                NaN  01-01-2015            18192.0  \n",
       "114948                NaN  01-10-2013            14851.0  "
      ]
     },
     "execution_count": 27,
     "metadata": {},
     "output_type": "execute_result"
    }
   ],
   "source": [
    "rounds2.tail()"
   ]
  },
  {
   "cell_type": "code",
   "execution_count": 28,
   "metadata": {},
   "outputs": [
    {
     "name": "stdout",
     "output_type": "stream",
     "text": [
      "<class 'pandas.core.frame.DataFrame'>\n",
      "RangeIndex: 114949 entries, 0 to 114948\n",
      "Data columns (total 6 columns):\n",
      " #   Column                   Non-Null Count   Dtype  \n",
      "---  ------                   --------------   -----  \n",
      " 0   company_permalink        114949 non-null  object \n",
      " 1   funding_round_permalink  114949 non-null  object \n",
      " 2   funding_round_type       114949 non-null  object \n",
      " 3   funding_round_code       31140 non-null   object \n",
      " 4   funded_at                114949 non-null  object \n",
      " 5   raised_amount_usd        94959 non-null   float64\n",
      "dtypes: float64(1), object(5)\n",
      "memory usage: 5.3+ MB\n"
     ]
    }
   ],
   "source": [
    "rounds2.info()"
   ]
  },
  {
   "cell_type": "code",
   "execution_count": 30,
   "metadata": {},
   "outputs": [
    {
     "data": {
      "text/html": [
       "<div>\n",
       "<style scoped>\n",
       "    .dataframe tbody tr th:only-of-type {\n",
       "        vertical-align: middle;\n",
       "    }\n",
       "\n",
       "    .dataframe tbody tr th {\n",
       "        vertical-align: top;\n",
       "    }\n",
       "\n",
       "    .dataframe thead th {\n",
       "        text-align: right;\n",
       "    }\n",
       "</style>\n",
       "<table border=\"1\" class=\"dataframe\">\n",
       "  <thead>\n",
       "    <tr style=\"text-align: right;\">\n",
       "      <th></th>\n",
       "      <th>company_permalink</th>\n",
       "      <th>funding_round_permalink</th>\n",
       "      <th>funding_round_type</th>\n",
       "      <th>funding_round_code</th>\n",
       "      <th>funded_at</th>\n",
       "      <th>raised_amount_usd</th>\n",
       "    </tr>\n",
       "  </thead>\n",
       "  <tbody>\n",
       "    <tr>\n",
       "      <th>count</th>\n",
       "      <td>114949</td>\n",
       "      <td>114949</td>\n",
       "      <td>114949</td>\n",
       "      <td>31140</td>\n",
       "      <td>114949</td>\n",
       "      <td>9.495900e+04</td>\n",
       "    </tr>\n",
       "    <tr>\n",
       "      <th>unique</th>\n",
       "      <td>90247</td>\n",
       "      <td>114949</td>\n",
       "      <td>14</td>\n",
       "      <td>8</td>\n",
       "      <td>5033</td>\n",
       "      <td>NaN</td>\n",
       "    </tr>\n",
       "    <tr>\n",
       "      <th>top</th>\n",
       "      <td>/ORGANIZATION/SOLARFLARE</td>\n",
       "      <td>/funding-round/59f86444dcf42082dc3c1b53d08b8d89</td>\n",
       "      <td>venture</td>\n",
       "      <td>A</td>\n",
       "      <td>01-01-2014</td>\n",
       "      <td>NaN</td>\n",
       "    </tr>\n",
       "    <tr>\n",
       "      <th>freq</th>\n",
       "      <td>10</td>\n",
       "      <td>1</td>\n",
       "      <td>55494</td>\n",
       "      <td>14747</td>\n",
       "      <td>779</td>\n",
       "      <td>NaN</td>\n",
       "    </tr>\n",
       "    <tr>\n",
       "      <th>mean</th>\n",
       "      <td>NaN</td>\n",
       "      <td>NaN</td>\n",
       "      <td>NaN</td>\n",
       "      <td>NaN</td>\n",
       "      <td>NaN</td>\n",
       "      <td>1.042687e+07</td>\n",
       "    </tr>\n",
       "    <tr>\n",
       "      <th>std</th>\n",
       "      <td>NaN</td>\n",
       "      <td>NaN</td>\n",
       "      <td>NaN</td>\n",
       "      <td>NaN</td>\n",
       "      <td>NaN</td>\n",
       "      <td>1.148212e+08</td>\n",
       "    </tr>\n",
       "    <tr>\n",
       "      <th>min</th>\n",
       "      <td>NaN</td>\n",
       "      <td>NaN</td>\n",
       "      <td>NaN</td>\n",
       "      <td>NaN</td>\n",
       "      <td>NaN</td>\n",
       "      <td>0.000000e+00</td>\n",
       "    </tr>\n",
       "    <tr>\n",
       "      <th>25%</th>\n",
       "      <td>NaN</td>\n",
       "      <td>NaN</td>\n",
       "      <td>NaN</td>\n",
       "      <td>NaN</td>\n",
       "      <td>NaN</td>\n",
       "      <td>3.225000e+05</td>\n",
       "    </tr>\n",
       "    <tr>\n",
       "      <th>50%</th>\n",
       "      <td>NaN</td>\n",
       "      <td>NaN</td>\n",
       "      <td>NaN</td>\n",
       "      <td>NaN</td>\n",
       "      <td>NaN</td>\n",
       "      <td>1.680511e+06</td>\n",
       "    </tr>\n",
       "    <tr>\n",
       "      <th>75%</th>\n",
       "      <td>NaN</td>\n",
       "      <td>NaN</td>\n",
       "      <td>NaN</td>\n",
       "      <td>NaN</td>\n",
       "      <td>NaN</td>\n",
       "      <td>7.000000e+06</td>\n",
       "    </tr>\n",
       "    <tr>\n",
       "      <th>max</th>\n",
       "      <td>NaN</td>\n",
       "      <td>NaN</td>\n",
       "      <td>NaN</td>\n",
       "      <td>NaN</td>\n",
       "      <td>NaN</td>\n",
       "      <td>2.127194e+10</td>\n",
       "    </tr>\n",
       "  </tbody>\n",
       "</table>\n",
       "</div>"
      ],
      "text/plain": [
       "               company_permalink  \\\n",
       "count                     114949   \n",
       "unique                     90247   \n",
       "top     /ORGANIZATION/SOLARFLARE   \n",
       "freq                          10   \n",
       "mean                         NaN   \n",
       "std                          NaN   \n",
       "min                          NaN   \n",
       "25%                          NaN   \n",
       "50%                          NaN   \n",
       "75%                          NaN   \n",
       "max                          NaN   \n",
       "\n",
       "                                funding_round_permalink funding_round_type  \\\n",
       "count                                            114949             114949   \n",
       "unique                                           114949                 14   \n",
       "top     /funding-round/59f86444dcf42082dc3c1b53d08b8d89            venture   \n",
       "freq                                                  1              55494   \n",
       "mean                                                NaN                NaN   \n",
       "std                                                 NaN                NaN   \n",
       "min                                                 NaN                NaN   \n",
       "25%                                                 NaN                NaN   \n",
       "50%                                                 NaN                NaN   \n",
       "75%                                                 NaN                NaN   \n",
       "max                                                 NaN                NaN   \n",
       "\n",
       "       funding_round_code   funded_at  raised_amount_usd  \n",
       "count               31140      114949       9.495900e+04  \n",
       "unique                  8        5033                NaN  \n",
       "top                     A  01-01-2014                NaN  \n",
       "freq                14747         779                NaN  \n",
       "mean                  NaN         NaN       1.042687e+07  \n",
       "std                   NaN         NaN       1.148212e+08  \n",
       "min                   NaN         NaN       0.000000e+00  \n",
       "25%                   NaN         NaN       3.225000e+05  \n",
       "50%                   NaN         NaN       1.680511e+06  \n",
       "75%                   NaN         NaN       7.000000e+06  \n",
       "max                   NaN         NaN       2.127194e+10  "
      ]
     },
     "execution_count": 30,
     "metadata": {},
     "output_type": "execute_result"
    }
   ],
   "source": [
    "rounds2.describe(include=\"all\")"
   ]
  },
  {
   "cell_type": "code",
   "execution_count": 34,
   "metadata": {},
   "outputs": [],
   "source": [
    "# Create new column \"company_name\" and insert value from Taking out company name from company_permalink values \n",
    "# Convert all the values to lower case\n",
    "rounds2[\"company_name\"] = rounds2['company_permalink'].apply(lambda x : x[14:].lower())"
   ]
  },
  {
   "cell_type": "code",
   "execution_count": 35,
   "metadata": {},
   "outputs": [],
   "source": [
    "# Remove \"-\" special character from new column company name\n",
    "rounds2[\"company_name\"] = rounds2['company_name'].apply(lambda x : x[1:] if x[0] == \"-\" else x)"
   ]
  },
  {
   "cell_type": "code",
   "execution_count": 37,
   "metadata": {},
   "outputs": [
    {
     "data": {
      "text/plain": [
       "solarflare               19\n",
       "exagen-diagnostics       18\n",
       "semprius                 18\n",
       "quellan                  18\n",
       "endogastric-solutions    17\n",
       "                         ..\n",
       "pext                      1\n",
       "yestodate-com             1\n",
       "rxapps                    1\n",
       "smartpocket               1\n",
       "q-bot                     1\n",
       "Name: company_name, Length: 66370, dtype: int64"
      ]
     },
     "execution_count": 37,
     "metadata": {},
     "output_type": "execute_result"
    }
   ],
   "source": [
    "# Number of companies in rounds2 Dataframe\n",
    "rounds2[\"company_name\"].value_counts()"
   ]
  },
  {
   "cell_type": "code",
   "execution_count": 38,
   "metadata": {},
   "outputs": [
    {
     "data": {
      "text/plain": [
       "66370"
      ]
     },
     "execution_count": 38,
     "metadata": {},
     "output_type": "execute_result"
    }
   ],
   "source": [
    "# Unique values in companies_name column in round2 Dataframe\n",
    "len(rounds2.company_name.unique())"
   ]
  },
  {
   "cell_type": "code",
   "execution_count": 39,
   "metadata": {},
   "outputs": [
    {
     "data": {
      "text/plain": [
       "0"
      ]
     },
     "execution_count": 39,
     "metadata": {},
     "output_type": "execute_result"
    }
   ],
   "source": [
    "rounds2.company_name.isnull().sum()"
   ]
  },
  {
   "cell_type": "code",
   "execution_count": 41,
   "metadata": {},
   "outputs": [
    {
     "data": {
      "text/plain": [
       "0"
      ]
     },
     "execution_count": 41,
     "metadata": {},
     "output_type": "execute_result"
    }
   ],
   "source": [
    "companies.company_name.isnull().sum()"
   ]
  },
  {
   "cell_type": "code",
   "execution_count": 43,
   "metadata": {},
   "outputs": [
    {
     "data": {
      "text/plain": [
       "66368"
      ]
     },
     "execution_count": 43,
     "metadata": {},
     "output_type": "execute_result"
    }
   ],
   "source": [
    "# Unique values in companies_name column in companies Dataframe\n",
    "len(companies.company_name.unique())"
   ]
  },
  {
   "cell_type": "code",
   "execution_count": 44,
   "metadata": {},
   "outputs": [
    {
     "data": {
      "text/html": [
       "<div>\n",
       "<style scoped>\n",
       "    .dataframe tbody tr th:only-of-type {\n",
       "        vertical-align: middle;\n",
       "    }\n",
       "\n",
       "    .dataframe tbody tr th {\n",
       "        vertical-align: top;\n",
       "    }\n",
       "\n",
       "    .dataframe thead th {\n",
       "        text-align: right;\n",
       "    }\n",
       "</style>\n",
       "<table border=\"1\" class=\"dataframe\">\n",
       "  <thead>\n",
       "    <tr style=\"text-align: right;\">\n",
       "      <th></th>\n",
       "      <th>permalink</th>\n",
       "      <th>name</th>\n",
       "      <th>homepage_url</th>\n",
       "      <th>category_list</th>\n",
       "      <th>status</th>\n",
       "      <th>country_code</th>\n",
       "      <th>state_code</th>\n",
       "      <th>region</th>\n",
       "      <th>city</th>\n",
       "      <th>founded_at</th>\n",
       "      <th>company_name</th>\n",
       "    </tr>\n",
       "  </thead>\n",
       "  <tbody>\n",
       "    <tr>\n",
       "      <th>0</th>\n",
       "      <td>/Organization/-Fame</td>\n",
       "      <td>#fame</td>\n",
       "      <td>http://livfame.com</td>\n",
       "      <td>Media</td>\n",
       "      <td>operating</td>\n",
       "      <td>IND</td>\n",
       "      <td>16</td>\n",
       "      <td>Mumbai</td>\n",
       "      <td>Mumbai</td>\n",
       "      <td>NaN</td>\n",
       "      <td>fame</td>\n",
       "    </tr>\n",
       "    <tr>\n",
       "      <th>1</th>\n",
       "      <td>/Organization/-Qounter</td>\n",
       "      <td>:Qounter</td>\n",
       "      <td>http://www.qounter.com</td>\n",
       "      <td>Application Platforms|Real Time|Social Network...</td>\n",
       "      <td>operating</td>\n",
       "      <td>USA</td>\n",
       "      <td>DE</td>\n",
       "      <td>DE - Other</td>\n",
       "      <td>Delaware City</td>\n",
       "      <td>04-09-2014</td>\n",
       "      <td>qounter</td>\n",
       "    </tr>\n",
       "    <tr>\n",
       "      <th>2</th>\n",
       "      <td>/Organization/-The-One-Of-Them-Inc-</td>\n",
       "      <td>(THE) ONE of THEM,Inc.</td>\n",
       "      <td>http://oneofthem.jp</td>\n",
       "      <td>Apps|Games|Mobile</td>\n",
       "      <td>operating</td>\n",
       "      <td>NaN</td>\n",
       "      <td>NaN</td>\n",
       "      <td>NaN</td>\n",
       "      <td>NaN</td>\n",
       "      <td>NaN</td>\n",
       "      <td>the-one-of-them-inc-</td>\n",
       "    </tr>\n",
       "    <tr>\n",
       "      <th>3</th>\n",
       "      <td>/Organization/0-6-Com</td>\n",
       "      <td>0-6.com</td>\n",
       "      <td>http://www.0-6.com</td>\n",
       "      <td>Curated Web</td>\n",
       "      <td>operating</td>\n",
       "      <td>CHN</td>\n",
       "      <td>22</td>\n",
       "      <td>Beijing</td>\n",
       "      <td>Beijing</td>\n",
       "      <td>01-01-2007</td>\n",
       "      <td>0-6-com</td>\n",
       "    </tr>\n",
       "    <tr>\n",
       "      <th>4</th>\n",
       "      <td>/Organization/004-Technologies</td>\n",
       "      <td>004 Technologies</td>\n",
       "      <td>http://004gmbh.de/en/004-interact</td>\n",
       "      <td>Software</td>\n",
       "      <td>operating</td>\n",
       "      <td>USA</td>\n",
       "      <td>IL</td>\n",
       "      <td>Springfield, Illinois</td>\n",
       "      <td>Champaign</td>\n",
       "      <td>01-01-2010</td>\n",
       "      <td>004-technologies</td>\n",
       "    </tr>\n",
       "  </tbody>\n",
       "</table>\n",
       "</div>"
      ],
      "text/plain": [
       "                             permalink                    name  \\\n",
       "0                  /Organization/-Fame                   #fame   \n",
       "1               /Organization/-Qounter                :Qounter   \n",
       "2  /Organization/-The-One-Of-Them-Inc-  (THE) ONE of THEM,Inc.   \n",
       "3                /Organization/0-6-Com                 0-6.com   \n",
       "4       /Organization/004-Technologies        004 Technologies   \n",
       "\n",
       "                        homepage_url  \\\n",
       "0                 http://livfame.com   \n",
       "1             http://www.qounter.com   \n",
       "2                http://oneofthem.jp   \n",
       "3                 http://www.0-6.com   \n",
       "4  http://004gmbh.de/en/004-interact   \n",
       "\n",
       "                                       category_list     status country_code  \\\n",
       "0                                              Media  operating          IND   \n",
       "1  Application Platforms|Real Time|Social Network...  operating          USA   \n",
       "2                                  Apps|Games|Mobile  operating          NaN   \n",
       "3                                        Curated Web  operating          CHN   \n",
       "4                                           Software  operating          USA   \n",
       "\n",
       "  state_code                 region           city  founded_at  \\\n",
       "0         16                 Mumbai         Mumbai         NaN   \n",
       "1         DE             DE - Other  Delaware City  04-09-2014   \n",
       "2        NaN                    NaN            NaN         NaN   \n",
       "3         22                Beijing        Beijing  01-01-2007   \n",
       "4         IL  Springfield, Illinois      Champaign  01-01-2010   \n",
       "\n",
       "           company_name  \n",
       "0                  fame  \n",
       "1               qounter  \n",
       "2  the-one-of-them-inc-  \n",
       "3               0-6-com  \n",
       "4      004-technologies  "
      ]
     },
     "execution_count": 44,
     "metadata": {},
     "output_type": "execute_result"
    }
   ],
   "source": [
    "companies.head()"
   ]
  },
  {
   "cell_type": "code",
   "execution_count": 45,
   "metadata": {},
   "outputs": [],
   "source": [
    "# Merge the two data frames (companies and rounds2)\n",
    "master_frame = pd.merge(companies,rounds2, left_on='company_name', right_on='company_name', how='inner')"
   ]
  },
  {
   "cell_type": "code",
   "execution_count": 46,
   "metadata": {},
   "outputs": [
    {
     "data": {
      "text/html": [
       "<div>\n",
       "<style scoped>\n",
       "    .dataframe tbody tr th:only-of-type {\n",
       "        vertical-align: middle;\n",
       "    }\n",
       "\n",
       "    .dataframe tbody tr th {\n",
       "        vertical-align: top;\n",
       "    }\n",
       "\n",
       "    .dataframe thead th {\n",
       "        text-align: right;\n",
       "    }\n",
       "</style>\n",
       "<table border=\"1\" class=\"dataframe\">\n",
       "  <thead>\n",
       "    <tr style=\"text-align: right;\">\n",
       "      <th></th>\n",
       "      <th>permalink</th>\n",
       "      <th>name</th>\n",
       "      <th>homepage_url</th>\n",
       "      <th>category_list</th>\n",
       "      <th>status</th>\n",
       "      <th>country_code</th>\n",
       "      <th>state_code</th>\n",
       "      <th>region</th>\n",
       "      <th>city</th>\n",
       "      <th>founded_at</th>\n",
       "      <th>company_name</th>\n",
       "      <th>company_permalink</th>\n",
       "      <th>funding_round_permalink</th>\n",
       "      <th>funding_round_type</th>\n",
       "      <th>funding_round_code</th>\n",
       "      <th>funded_at</th>\n",
       "      <th>raised_amount_usd</th>\n",
       "    </tr>\n",
       "  </thead>\n",
       "  <tbody>\n",
       "    <tr>\n",
       "      <th>0</th>\n",
       "      <td>/Organization/-Fame</td>\n",
       "      <td>#fame</td>\n",
       "      <td>http://livfame.com</td>\n",
       "      <td>Media</td>\n",
       "      <td>operating</td>\n",
       "      <td>IND</td>\n",
       "      <td>16</td>\n",
       "      <td>Mumbai</td>\n",
       "      <td>Mumbai</td>\n",
       "      <td>NaN</td>\n",
       "      <td>fame</td>\n",
       "      <td>/organization/-fame</td>\n",
       "      <td>/funding-round/9a01d05418af9f794eebff7ace91f638</td>\n",
       "      <td>venture</td>\n",
       "      <td>B</td>\n",
       "      <td>05-01-2015</td>\n",
       "      <td>10000000.0</td>\n",
       "    </tr>\n",
       "    <tr>\n",
       "      <th>1</th>\n",
       "      <td>/Organization/-Qounter</td>\n",
       "      <td>:Qounter</td>\n",
       "      <td>http://www.qounter.com</td>\n",
       "      <td>Application Platforms|Real Time|Social Network...</td>\n",
       "      <td>operating</td>\n",
       "      <td>USA</td>\n",
       "      <td>DE</td>\n",
       "      <td>DE - Other</td>\n",
       "      <td>Delaware City</td>\n",
       "      <td>04-09-2014</td>\n",
       "      <td>qounter</td>\n",
       "      <td>/ORGANIZATION/-QOUNTER</td>\n",
       "      <td>/funding-round/22dacff496eb7acb2b901dec1dfe5633</td>\n",
       "      <td>venture</td>\n",
       "      <td>A</td>\n",
       "      <td>14-10-2014</td>\n",
       "      <td>NaN</td>\n",
       "    </tr>\n",
       "    <tr>\n",
       "      <th>2</th>\n",
       "      <td>/Organization/-Qounter</td>\n",
       "      <td>:Qounter</td>\n",
       "      <td>http://www.qounter.com</td>\n",
       "      <td>Application Platforms|Real Time|Social Network...</td>\n",
       "      <td>operating</td>\n",
       "      <td>USA</td>\n",
       "      <td>DE</td>\n",
       "      <td>DE - Other</td>\n",
       "      <td>Delaware City</td>\n",
       "      <td>04-09-2014</td>\n",
       "      <td>qounter</td>\n",
       "      <td>/organization/-qounter</td>\n",
       "      <td>/funding-round/b44fbb94153f6cdef13083530bb48030</td>\n",
       "      <td>seed</td>\n",
       "      <td>NaN</td>\n",
       "      <td>01-03-2014</td>\n",
       "      <td>700000.0</td>\n",
       "    </tr>\n",
       "    <tr>\n",
       "      <th>3</th>\n",
       "      <td>/Organization/-The-One-Of-Them-Inc-</td>\n",
       "      <td>(THE) ONE of THEM,Inc.</td>\n",
       "      <td>http://oneofthem.jp</td>\n",
       "      <td>Apps|Games|Mobile</td>\n",
       "      <td>operating</td>\n",
       "      <td>NaN</td>\n",
       "      <td>NaN</td>\n",
       "      <td>NaN</td>\n",
       "      <td>NaN</td>\n",
       "      <td>NaN</td>\n",
       "      <td>the-one-of-them-inc-</td>\n",
       "      <td>/ORGANIZATION/-THE-ONE-OF-THEM-INC-</td>\n",
       "      <td>/funding-round/650b8f704416801069bb178a1418776b</td>\n",
       "      <td>venture</td>\n",
       "      <td>B</td>\n",
       "      <td>30-01-2014</td>\n",
       "      <td>3406878.0</td>\n",
       "    </tr>\n",
       "    <tr>\n",
       "      <th>4</th>\n",
       "      <td>/Organization/0-6-Com</td>\n",
       "      <td>0-6.com</td>\n",
       "      <td>http://www.0-6.com</td>\n",
       "      <td>Curated Web</td>\n",
       "      <td>operating</td>\n",
       "      <td>CHN</td>\n",
       "      <td>22</td>\n",
       "      <td>Beijing</td>\n",
       "      <td>Beijing</td>\n",
       "      <td>01-01-2007</td>\n",
       "      <td>0-6-com</td>\n",
       "      <td>/organization/0-6-com</td>\n",
       "      <td>/funding-round/5727accaeaa57461bd22a9bdd945382d</td>\n",
       "      <td>venture</td>\n",
       "      <td>A</td>\n",
       "      <td>19-03-2008</td>\n",
       "      <td>2000000.0</td>\n",
       "    </tr>\n",
       "  </tbody>\n",
       "</table>\n",
       "</div>"
      ],
      "text/plain": [
       "                             permalink                    name  \\\n",
       "0                  /Organization/-Fame                   #fame   \n",
       "1               /Organization/-Qounter                :Qounter   \n",
       "2               /Organization/-Qounter                :Qounter   \n",
       "3  /Organization/-The-One-Of-Them-Inc-  (THE) ONE of THEM,Inc.   \n",
       "4                /Organization/0-6-Com                 0-6.com   \n",
       "\n",
       "             homepage_url                                      category_list  \\\n",
       "0      http://livfame.com                                              Media   \n",
       "1  http://www.qounter.com  Application Platforms|Real Time|Social Network...   \n",
       "2  http://www.qounter.com  Application Platforms|Real Time|Social Network...   \n",
       "3     http://oneofthem.jp                                  Apps|Games|Mobile   \n",
       "4      http://www.0-6.com                                        Curated Web   \n",
       "\n",
       "      status country_code state_code      region           city  founded_at  \\\n",
       "0  operating          IND         16      Mumbai         Mumbai         NaN   \n",
       "1  operating          USA         DE  DE - Other  Delaware City  04-09-2014   \n",
       "2  operating          USA         DE  DE - Other  Delaware City  04-09-2014   \n",
       "3  operating          NaN        NaN         NaN            NaN         NaN   \n",
       "4  operating          CHN         22     Beijing        Beijing  01-01-2007   \n",
       "\n",
       "           company_name                    company_permalink  \\\n",
       "0                  fame                  /organization/-fame   \n",
       "1               qounter               /ORGANIZATION/-QOUNTER   \n",
       "2               qounter               /organization/-qounter   \n",
       "3  the-one-of-them-inc-  /ORGANIZATION/-THE-ONE-OF-THEM-INC-   \n",
       "4               0-6-com                /organization/0-6-com   \n",
       "\n",
       "                           funding_round_permalink funding_round_type  \\\n",
       "0  /funding-round/9a01d05418af9f794eebff7ace91f638            venture   \n",
       "1  /funding-round/22dacff496eb7acb2b901dec1dfe5633            venture   \n",
       "2  /funding-round/b44fbb94153f6cdef13083530bb48030               seed   \n",
       "3  /funding-round/650b8f704416801069bb178a1418776b            venture   \n",
       "4  /funding-round/5727accaeaa57461bd22a9bdd945382d            venture   \n",
       "\n",
       "  funding_round_code   funded_at  raised_amount_usd  \n",
       "0                  B  05-01-2015         10000000.0  \n",
       "1                  A  14-10-2014                NaN  \n",
       "2                NaN  01-03-2014           700000.0  \n",
       "3                  B  30-01-2014          3406878.0  \n",
       "4                  A  19-03-2008          2000000.0  "
      ]
     },
     "execution_count": 46,
     "metadata": {},
     "output_type": "execute_result"
    }
   ],
   "source": [
    "master_frame.head()"
   ]
  },
  {
   "cell_type": "code",
   "execution_count": 48,
   "metadata": {},
   "outputs": [
    {
     "data": {
      "text/plain": [
       "Index(['permalink', 'name', 'homepage_url', 'category_list', 'status',\n",
       "       'country_code', 'state_code', 'region', 'city', 'founded_at',\n",
       "       'company_name'],\n",
       "      dtype='object')"
      ]
     },
     "execution_count": 48,
     "metadata": {},
     "output_type": "execute_result"
    }
   ],
   "source": [
    "companies.columns"
   ]
  },
  {
   "cell_type": "code",
   "execution_count": 49,
   "metadata": {},
   "outputs": [
    {
     "data": {
      "text/plain": [
       "Index(['company_permalink', 'funding_round_permalink', 'funding_round_type',\n",
       "       'funding_round_code', 'funded_at', 'raised_amount_usd', 'company_name'],\n",
       "      dtype='object')"
      ]
     },
     "execution_count": 49,
     "metadata": {},
     "output_type": "execute_result"
    }
   ],
   "source": [
    "rounds2.columns"
   ]
  },
  {
   "cell_type": "code",
   "execution_count": 50,
   "metadata": {},
   "outputs": [
    {
     "data": {
      "text/plain": [
       "Index(['permalink', 'name', 'homepage_url', 'category_list', 'status',\n",
       "       'country_code', 'state_code', 'region', 'city', 'founded_at',\n",
       "       'company_name', 'company_permalink', 'funding_round_permalink',\n",
       "       'funding_round_type', 'funding_round_code', 'funded_at',\n",
       "       'raised_amount_usd'],\n",
       "      dtype='object')"
      ]
     },
     "execution_count": 50,
     "metadata": {},
     "output_type": "execute_result"
    }
   ],
   "source": [
    "master_frame.columns"
   ]
  },
  {
   "cell_type": "code",
   "execution_count": 51,
   "metadata": {},
   "outputs": [
    {
     "data": {
      "text/plain": [
       "(114942, 17)"
      ]
     },
     "execution_count": 51,
     "metadata": {},
     "output_type": "execute_result"
    }
   ],
   "source": [
    "master_frame.shape"
   ]
  },
  {
   "cell_type": "markdown",
   "metadata": {},
   "source": [
    "# Data Cleaning"
   ]
  },
  {
   "cell_type": "code",
   "execution_count": 52,
   "metadata": {},
   "outputs": [
    {
     "data": {
      "text/plain": [
       "permalink                      0\n",
       "name                           1\n",
       "homepage_url                6132\n",
       "category_list               3407\n",
       "status                         0\n",
       "country_code                8671\n",
       "state_code                 10939\n",
       "region                     10160\n",
       "city                       10157\n",
       "founded_at                 20520\n",
       "company_name                   0\n",
       "company_permalink              0\n",
       "funding_round_permalink        0\n",
       "funding_round_type             0\n",
       "funding_round_code         83803\n",
       "funded_at                      0\n",
       "raised_amount_usd          19984\n",
       "dtype: int64"
      ]
     },
     "execution_count": 52,
     "metadata": {},
     "output_type": "execute_result"
    }
   ],
   "source": [
    "master_frame.isnull().sum()"
   ]
  },
  {
   "cell_type": "code",
   "execution_count": 53,
   "metadata": {},
   "outputs": [],
   "source": [
    "master_frame1 = master_frame[(master_frame.funding_round_type == 'venture') | (master_frame.funding_round_type == 'angel') | (master_frame.funding_round_type == 'seed') | (master_frame.funding_round_type == 'private_equity')]"
   ]
  },
  {
   "cell_type": "code",
   "execution_count": 54,
   "metadata": {},
   "outputs": [
    {
     "data": {
      "text/plain": [
       "(114942, 17)"
      ]
     },
     "execution_count": 54,
     "metadata": {},
     "output_type": "execute_result"
    }
   ],
   "source": [
    "master_frame.shape"
   ]
  },
  {
   "cell_type": "code",
   "execution_count": 55,
   "metadata": {},
   "outputs": [
    {
     "data": {
      "text/plain": [
       "venture                  55493\n",
       "seed                     30518\n",
       "debt_financing            6895\n",
       "angel                     6094\n",
       "undisclosed               4897\n",
       "equity_crowdfunding       3257\n",
       "private_equity            2285\n",
       "grant                     2200\n",
       "convertible_note          1817\n",
       "post_ipo_equity            638\n",
       "product_crowdfunding       410\n",
       "non_equity_assistance      191\n",
       "post_ipo_debt              152\n",
       "secondary_market            95\n",
       "Name: funding_round_type, dtype: int64"
      ]
     },
     "execution_count": 55,
     "metadata": {},
     "output_type": "execute_result"
    }
   ],
   "source": [
    "master_frame.funding_round_type.value_counts()"
   ]
  },
  {
   "cell_type": "code",
   "execution_count": 56,
   "metadata": {},
   "outputs": [
    {
     "data": {
      "text/plain": [
       "(94390, 17)"
      ]
     },
     "execution_count": 56,
     "metadata": {},
     "output_type": "execute_result"
    }
   ],
   "source": [
    "master_frame1.shape"
   ]
  },
  {
   "cell_type": "code",
   "execution_count": 57,
   "metadata": {},
   "outputs": [
    {
     "data": {
      "text/plain": [
       "venture           55493\n",
       "seed              30518\n",
       "angel              6094\n",
       "private_equity     2285\n",
       "Name: funding_round_type, dtype: int64"
      ]
     },
     "execution_count": 57,
     "metadata": {},
     "output_type": "execute_result"
    }
   ],
   "source": [
    "master_frame1.funding_round_type.value_counts()"
   ]
  },
  {
   "cell_type": "code",
   "execution_count": 58,
   "metadata": {},
   "outputs": [
    {
     "data": {
      "text/plain": [
       "count     94390\n",
       "unique        2\n",
       "top        True\n",
       "freq      55493\n",
       "Name: funding_round_type, dtype: object"
      ]
     },
     "execution_count": 58,
     "metadata": {},
     "output_type": "execute_result"
    }
   ],
   "source": [
    "(master_frame1.funding_round_type == 'venture').describe()"
   ]
  },
  {
   "cell_type": "code",
   "execution_count": 59,
   "metadata": {},
   "outputs": [
    {
     "data": {
      "text/plain": [
       "13764"
      ]
     },
     "execution_count": 59,
     "metadata": {},
     "output_type": "execute_result"
    }
   ],
   "source": [
    "master_frame1.raised_amount_usd.isnull().sum()"
   ]
  },
  {
   "cell_type": "code",
   "execution_count": 61,
   "metadata": {},
   "outputs": [
    {
     "data": {
      "text/plain": [
       "permalink                   0.00\n",
       "name                        0.00\n",
       "homepage_url                4.39\n",
       "category_list               2.64\n",
       "status                      0.00\n",
       "country_code                7.75\n",
       "state_code                  9.82\n",
       "region                      9.06\n",
       "city                        9.06\n",
       "founded_at                 17.71\n",
       "company_name                0.00\n",
       "company_permalink           0.00\n",
       "funding_round_permalink     0.00\n",
       "funding_round_type          0.00\n",
       "funding_round_code         67.03\n",
       "funded_at                   0.00\n",
       "raised_amount_usd          14.58\n",
       "dtype: float64"
      ]
     },
     "execution_count": 61,
     "metadata": {},
     "output_type": "execute_result"
    }
   ],
   "source": [
    "# Percentage of missing values (column-wise)\n",
    "round(100*(master_frame1.isnull().sum()/len(master_frame1.index)),2)"
   ]
  },
  {
   "cell_type": "code",
   "execution_count": 62,
   "metadata": {},
   "outputs": [
    {
     "data": {
      "text/plain": [
       "count    8.062600e+04\n",
       "mean     9.348091e+06\n",
       "std      7.562986e+07\n",
       "min      0.000000e+00\n",
       "25%      4.000000e+05\n",
       "50%      2.000000e+06\n",
       "75%      7.976016e+06\n",
       "max      1.760000e+10\n",
       "Name: raised_amount_usd, dtype: float64"
      ]
     },
     "execution_count": 62,
     "metadata": {},
     "output_type": "execute_result"
    }
   ],
   "source": [
    "master_frame1.raised_amount_usd.describe()"
   ]
  },
  {
   "cell_type": "code",
   "execution_count": 63,
   "metadata": {},
   "outputs": [
    {
     "data": {
      "text/html": [
       "<div>\n",
       "<style scoped>\n",
       "    .dataframe tbody tr th:only-of-type {\n",
       "        vertical-align: middle;\n",
       "    }\n",
       "\n",
       "    .dataframe tbody tr th {\n",
       "        vertical-align: top;\n",
       "    }\n",
       "\n",
       "    .dataframe thead th {\n",
       "        text-align: right;\n",
       "    }\n",
       "</style>\n",
       "<table border=\"1\" class=\"dataframe\">\n",
       "  <thead>\n",
       "    <tr style=\"text-align: right;\">\n",
       "      <th></th>\n",
       "      <th>permalink</th>\n",
       "      <th>name</th>\n",
       "      <th>homepage_url</th>\n",
       "      <th>category_list</th>\n",
       "      <th>status</th>\n",
       "      <th>country_code</th>\n",
       "      <th>state_code</th>\n",
       "      <th>region</th>\n",
       "      <th>city</th>\n",
       "      <th>founded_at</th>\n",
       "      <th>company_name</th>\n",
       "      <th>company_permalink</th>\n",
       "      <th>funding_round_permalink</th>\n",
       "      <th>funding_round_type</th>\n",
       "      <th>funding_round_code</th>\n",
       "      <th>funded_at</th>\n",
       "      <th>raised_amount_usd</th>\n",
       "    </tr>\n",
       "  </thead>\n",
       "  <tbody>\n",
       "    <tr>\n",
       "      <th>1</th>\n",
       "      <td>/Organization/-Qounter</td>\n",
       "      <td>:Qounter</td>\n",
       "      <td>http://www.qounter.com</td>\n",
       "      <td>Application Platforms|Real Time|Social Network...</td>\n",
       "      <td>operating</td>\n",
       "      <td>USA</td>\n",
       "      <td>DE</td>\n",
       "      <td>DE - Other</td>\n",
       "      <td>Delaware City</td>\n",
       "      <td>04-09-2014</td>\n",
       "      <td>qounter</td>\n",
       "      <td>/ORGANIZATION/-QOUNTER</td>\n",
       "      <td>/funding-round/22dacff496eb7acb2b901dec1dfe5633</td>\n",
       "      <td>venture</td>\n",
       "      <td>A</td>\n",
       "      <td>14-10-2014</td>\n",
       "      <td>NaN</td>\n",
       "    </tr>\n",
       "    <tr>\n",
       "      <th>5</th>\n",
       "      <td>/Organization/004-Technologies</td>\n",
       "      <td>004 Technologies</td>\n",
       "      <td>http://004gmbh.de/en/004-interact</td>\n",
       "      <td>Software</td>\n",
       "      <td>operating</td>\n",
       "      <td>USA</td>\n",
       "      <td>IL</td>\n",
       "      <td>Springfield, Illinois</td>\n",
       "      <td>Champaign</td>\n",
       "      <td>01-01-2010</td>\n",
       "      <td>004-technologies</td>\n",
       "      <td>/ORGANIZATION/004-TECHNOLOGIES</td>\n",
       "      <td>/funding-round/1278dd4e6a37fa4b7d7e06c21b3c1830</td>\n",
       "      <td>venture</td>\n",
       "      <td>NaN</td>\n",
       "      <td>24-07-2014</td>\n",
       "      <td>NaN</td>\n",
       "    </tr>\n",
       "    <tr>\n",
       "      <th>33</th>\n",
       "      <td>/Organization/1000Lookz</td>\n",
       "      <td>1000Lookz</td>\n",
       "      <td>http://1000lookz.com</td>\n",
       "      <td>Beauty</td>\n",
       "      <td>operating</td>\n",
       "      <td>IND</td>\n",
       "      <td>25</td>\n",
       "      <td>Chennai</td>\n",
       "      <td>Chennai</td>\n",
       "      <td>01-01-2008</td>\n",
       "      <td>1000lookz</td>\n",
       "      <td>/ORGANIZATION/1000LOOKZ</td>\n",
       "      <td>/funding-round/e07f6e580046d00c7aeb33fafb9d90a3</td>\n",
       "      <td>venture</td>\n",
       "      <td>NaN</td>\n",
       "      <td>22-07-2013</td>\n",
       "      <td>NaN</td>\n",
       "    </tr>\n",
       "    <tr>\n",
       "      <th>42</th>\n",
       "      <td>/Organization/1000Museums-Com</td>\n",
       "      <td>1000museums.com</td>\n",
       "      <td>http://www.1000museums.com</td>\n",
       "      <td>Curated Web</td>\n",
       "      <td>operating</td>\n",
       "      <td>USA</td>\n",
       "      <td>MA</td>\n",
       "      <td>MA - Other</td>\n",
       "      <td>Lenox</td>\n",
       "      <td>01-01-2008</td>\n",
       "      <td>1000museums-com</td>\n",
       "      <td>/organization/1000museums-com</td>\n",
       "      <td>/funding-round/adf2f3272af9f552b87e01f10f0b9234</td>\n",
       "      <td>venture</td>\n",
       "      <td>NaN</td>\n",
       "      <td>01-02-2014</td>\n",
       "      <td>NaN</td>\n",
       "    </tr>\n",
       "    <tr>\n",
       "      <th>51</th>\n",
       "      <td>/Organization/1006-Tv</td>\n",
       "      <td>1006.tv</td>\n",
       "      <td>http://www.1006.tv/</td>\n",
       "      <td>Games|Media</td>\n",
       "      <td>operating</td>\n",
       "      <td>CHN</td>\n",
       "      <td>22</td>\n",
       "      <td>Beijing</td>\n",
       "      <td>Beijing</td>\n",
       "      <td>01-01-2009</td>\n",
       "      <td>1006-tv</td>\n",
       "      <td>/ORGANIZATION/1006-TV</td>\n",
       "      <td>/funding-round/a3631227d5232aa8c2303f252c4f1f87</td>\n",
       "      <td>angel</td>\n",
       "      <td>NaN</td>\n",
       "      <td>01-01-2011</td>\n",
       "      <td>NaN</td>\n",
       "    </tr>\n",
       "    <tr>\n",
       "      <th>...</th>\n",
       "      <td>...</td>\n",
       "      <td>...</td>\n",
       "      <td>...</td>\n",
       "      <td>...</td>\n",
       "      <td>...</td>\n",
       "      <td>...</td>\n",
       "      <td>...</td>\n",
       "      <td>...</td>\n",
       "      <td>...</td>\n",
       "      <td>...</td>\n",
       "      <td>...</td>\n",
       "      <td>...</td>\n",
       "      <td>...</td>\n",
       "      <td>...</td>\n",
       "      <td>...</td>\n",
       "      <td>...</td>\n",
       "      <td>...</td>\n",
       "    </tr>\n",
       "    <tr>\n",
       "      <th>114892</th>\n",
       "      <td>/Organization/Zymr-Inc-</td>\n",
       "      <td>Zymr, Inc.</td>\n",
       "      <td>http://www.zymr.com</td>\n",
       "      <td>Android|Apps|Cloud Computing|Cloud Infrastruct...</td>\n",
       "      <td>operating</td>\n",
       "      <td>USA</td>\n",
       "      <td>CA</td>\n",
       "      <td>SF Bay Area</td>\n",
       "      <td>Santa Clara</td>\n",
       "      <td>NaN</td>\n",
       "      <td>zymr-inc-</td>\n",
       "      <td>/ORGANIZATION/ZYMR-INC-</td>\n",
       "      <td>/funding-round/9048d1a80edeae803ed1790c9f473eec</td>\n",
       "      <td>angel</td>\n",
       "      <td>NaN</td>\n",
       "      <td>12-12-2012</td>\n",
       "      <td>NaN</td>\n",
       "    </tr>\n",
       "    <tr>\n",
       "      <th>114898</th>\n",
       "      <td>/Organization/Zynergy-Projects-Services</td>\n",
       "      <td>Zynergy Projects &amp; Services</td>\n",
       "      <td>http://www.zynergygroup.net/</td>\n",
       "      <td>Clean Technology</td>\n",
       "      <td>operating</td>\n",
       "      <td>IND</td>\n",
       "      <td>25</td>\n",
       "      <td>Chennai</td>\n",
       "      <td>Chennai</td>\n",
       "      <td>NaN</td>\n",
       "      <td>zynergy-projects-services</td>\n",
       "      <td>/ORGANIZATION/ZYNERGY-PROJECTS-SERVICES</td>\n",
       "      <td>/funding-round/3d7dbd2d92220d93e2b5455f914a0918</td>\n",
       "      <td>venture</td>\n",
       "      <td>NaN</td>\n",
       "      <td>19-08-2015</td>\n",
       "      <td>NaN</td>\n",
       "    </tr>\n",
       "    <tr>\n",
       "      <th>114906</th>\n",
       "      <td>/Organization/Zynga</td>\n",
       "      <td>Zynga</td>\n",
       "      <td>http://www.zynga.com</td>\n",
       "      <td>Facebook Applications|Games|Networking|Technology</td>\n",
       "      <td>ipo</td>\n",
       "      <td>USA</td>\n",
       "      <td>CA</td>\n",
       "      <td>SF Bay Area</td>\n",
       "      <td>San Francisco</td>\n",
       "      <td>01-07-2007</td>\n",
       "      <td>zynga</td>\n",
       "      <td>/ORGANIZATION/ZYNGA</td>\n",
       "      <td>/funding-round/d27f10a20b15b4ef3d9961d54eabf6b1</td>\n",
       "      <td>angel</td>\n",
       "      <td>NaN</td>\n",
       "      <td>01-01-2007</td>\n",
       "      <td>NaN</td>\n",
       "    </tr>\n",
       "    <tr>\n",
       "      <th>114920</th>\n",
       "      <td>/Organization/Zypsee</td>\n",
       "      <td>Whisk (formerly Zypsee)</td>\n",
       "      <td>http://whisk.me</td>\n",
       "      <td>Public Transportation</td>\n",
       "      <td>operating</td>\n",
       "      <td>USA</td>\n",
       "      <td>NY</td>\n",
       "      <td>New York City</td>\n",
       "      <td>New York</td>\n",
       "      <td>01-01-2011</td>\n",
       "      <td>zypsee</td>\n",
       "      <td>/ORGANIZATION/ZYPSEE</td>\n",
       "      <td>/funding-round/c67e22c5448435adaf5a2d101e449dde</td>\n",
       "      <td>seed</td>\n",
       "      <td>NaN</td>\n",
       "      <td>26-07-2013</td>\n",
       "      <td>NaN</td>\n",
       "    </tr>\n",
       "    <tr>\n",
       "      <th>114939</th>\n",
       "      <td>/Organization/ÃEron</td>\n",
       "      <td>ÃERON</td>\n",
       "      <td>http://www.aeron.hu/</td>\n",
       "      <td>NaN</td>\n",
       "      <td>operating</td>\n",
       "      <td>NaN</td>\n",
       "      <td>NaN</td>\n",
       "      <td>NaN</td>\n",
       "      <td>NaN</td>\n",
       "      <td>01-01-2011</td>\n",
       "      <td>ãeron</td>\n",
       "      <td>/organization/ãeron</td>\n",
       "      <td>/funding-round/59f4dce44723b794f21ded3daed6e4fe</td>\n",
       "      <td>venture</td>\n",
       "      <td>A</td>\n",
       "      <td>01-08-2014</td>\n",
       "      <td>NaN</td>\n",
       "    </tr>\n",
       "  </tbody>\n",
       "</table>\n",
       "<p>13764 rows × 17 columns</p>\n",
       "</div>"
      ],
      "text/plain": [
       "                                      permalink                         name  \\\n",
       "1                        /Organization/-Qounter                     :Qounter   \n",
       "5                /Organization/004-Technologies             004 Technologies   \n",
       "33                      /Organization/1000Lookz                    1000Lookz   \n",
       "42                /Organization/1000Museums-Com              1000museums.com   \n",
       "51                        /Organization/1006-Tv                      1006.tv   \n",
       "...                                         ...                          ...   \n",
       "114892                  /Organization/Zymr-Inc-                   Zymr, Inc.   \n",
       "114898  /Organization/Zynergy-Projects-Services  Zynergy Projects & Services   \n",
       "114906                      /Organization/Zynga                        Zynga   \n",
       "114920                     /Organization/Zypsee      Whisk (formerly Zypsee)   \n",
       "114939                     /Organization/ÃEron                       ÃERON   \n",
       "\n",
       "                             homepage_url  \\\n",
       "1                  http://www.qounter.com   \n",
       "5       http://004gmbh.de/en/004-interact   \n",
       "33                   http://1000lookz.com   \n",
       "42             http://www.1000museums.com   \n",
       "51                    http://www.1006.tv/   \n",
       "...                                   ...   \n",
       "114892                http://www.zymr.com   \n",
       "114898       http://www.zynergygroup.net/   \n",
       "114906               http://www.zynga.com   \n",
       "114920                    http://whisk.me   \n",
       "114939               http://www.aeron.hu/   \n",
       "\n",
       "                                            category_list     status  \\\n",
       "1       Application Platforms|Real Time|Social Network...  operating   \n",
       "5                                                Software  operating   \n",
       "33                                                 Beauty  operating   \n",
       "42                                            Curated Web  operating   \n",
       "51                                            Games|Media  operating   \n",
       "...                                                   ...        ...   \n",
       "114892  Android|Apps|Cloud Computing|Cloud Infrastruct...  operating   \n",
       "114898                                   Clean Technology  operating   \n",
       "114906  Facebook Applications|Games|Networking|Technology        ipo   \n",
       "114920                              Public Transportation  operating   \n",
       "114939                                                NaN  operating   \n",
       "\n",
       "       country_code state_code                 region           city  \\\n",
       "1               USA         DE             DE - Other  Delaware City   \n",
       "5               USA         IL  Springfield, Illinois      Champaign   \n",
       "33              IND         25                Chennai        Chennai   \n",
       "42              USA         MA             MA - Other          Lenox   \n",
       "51              CHN         22                Beijing        Beijing   \n",
       "...             ...        ...                    ...            ...   \n",
       "114892          USA         CA            SF Bay Area    Santa Clara   \n",
       "114898          IND         25                Chennai        Chennai   \n",
       "114906          USA         CA            SF Bay Area  San Francisco   \n",
       "114920          USA         NY          New York City       New York   \n",
       "114939          NaN        NaN                    NaN            NaN   \n",
       "\n",
       "        founded_at               company_name  \\\n",
       "1       04-09-2014                    qounter   \n",
       "5       01-01-2010           004-technologies   \n",
       "33      01-01-2008                  1000lookz   \n",
       "42      01-01-2008            1000museums-com   \n",
       "51      01-01-2009                    1006-tv   \n",
       "...            ...                        ...   \n",
       "114892         NaN                  zymr-inc-   \n",
       "114898         NaN  zynergy-projects-services   \n",
       "114906  01-07-2007                      zynga   \n",
       "114920  01-01-2011                     zypsee   \n",
       "114939  01-01-2011                     ãeron   \n",
       "\n",
       "                              company_permalink  \\\n",
       "1                        /ORGANIZATION/-QOUNTER   \n",
       "5                /ORGANIZATION/004-TECHNOLOGIES   \n",
       "33                      /ORGANIZATION/1000LOOKZ   \n",
       "42                /organization/1000museums-com   \n",
       "51                        /ORGANIZATION/1006-TV   \n",
       "...                                         ...   \n",
       "114892                  /ORGANIZATION/ZYMR-INC-   \n",
       "114898  /ORGANIZATION/ZYNERGY-PROJECTS-SERVICES   \n",
       "114906                      /ORGANIZATION/ZYNGA   \n",
       "114920                     /ORGANIZATION/ZYPSEE   \n",
       "114939                     /organization/ãeron   \n",
       "\n",
       "                                funding_round_permalink funding_round_type  \\\n",
       "1       /funding-round/22dacff496eb7acb2b901dec1dfe5633            venture   \n",
       "5       /funding-round/1278dd4e6a37fa4b7d7e06c21b3c1830            venture   \n",
       "33      /funding-round/e07f6e580046d00c7aeb33fafb9d90a3            venture   \n",
       "42      /funding-round/adf2f3272af9f552b87e01f10f0b9234            venture   \n",
       "51      /funding-round/a3631227d5232aa8c2303f252c4f1f87              angel   \n",
       "...                                                 ...                ...   \n",
       "114892  /funding-round/9048d1a80edeae803ed1790c9f473eec              angel   \n",
       "114898  /funding-round/3d7dbd2d92220d93e2b5455f914a0918            venture   \n",
       "114906  /funding-round/d27f10a20b15b4ef3d9961d54eabf6b1              angel   \n",
       "114920  /funding-round/c67e22c5448435adaf5a2d101e449dde               seed   \n",
       "114939  /funding-round/59f4dce44723b794f21ded3daed6e4fe            venture   \n",
       "\n",
       "       funding_round_code   funded_at  raised_amount_usd  \n",
       "1                       A  14-10-2014                NaN  \n",
       "5                     NaN  24-07-2014                NaN  \n",
       "33                    NaN  22-07-2013                NaN  \n",
       "42                    NaN  01-02-2014                NaN  \n",
       "51                    NaN  01-01-2011                NaN  \n",
       "...                   ...         ...                ...  \n",
       "114892                NaN  12-12-2012                NaN  \n",
       "114898                NaN  19-08-2015                NaN  \n",
       "114906                NaN  01-01-2007                NaN  \n",
       "114920                NaN  26-07-2013                NaN  \n",
       "114939                  A  01-08-2014                NaN  \n",
       "\n",
       "[13764 rows x 17 columns]"
      ]
     },
     "execution_count": 63,
     "metadata": {},
     "output_type": "execute_result"
    }
   ],
   "source": [
    "master_frame1[master_frame1.raised_amount_usd.isnull()]"
   ]
  },
  {
   "cell_type": "code",
   "execution_count": 68,
   "metadata": {},
   "outputs": [
    {
     "data": {
      "text/plain": [
       "0"
      ]
     },
     "execution_count": 68,
     "metadata": {},
     "output_type": "execute_result"
    }
   ],
   "source": [
    "master_frame1.isnull().all(axis=1).sum()"
   ]
  },
  {
   "cell_type": "code",
   "execution_count": 70,
   "metadata": {},
   "outputs": [
    {
     "data": {
      "text/html": [
       "<div>\n",
       "<style scoped>\n",
       "    .dataframe tbody tr th:only-of-type {\n",
       "        vertical-align: middle;\n",
       "    }\n",
       "\n",
       "    .dataframe tbody tr th {\n",
       "        vertical-align: top;\n",
       "    }\n",
       "\n",
       "    .dataframe thead th {\n",
       "        text-align: right;\n",
       "    }\n",
       "</style>\n",
       "<table border=\"1\" class=\"dataframe\">\n",
       "  <thead>\n",
       "    <tr style=\"text-align: right;\">\n",
       "      <th></th>\n",
       "      <th>raised_amount_usd</th>\n",
       "    </tr>\n",
       "  </thead>\n",
       "  <tbody>\n",
       "    <tr>\n",
       "      <th>count</th>\n",
       "      <td>8.062600e+04</td>\n",
       "    </tr>\n",
       "    <tr>\n",
       "      <th>mean</th>\n",
       "      <td>9.348091e+06</td>\n",
       "    </tr>\n",
       "    <tr>\n",
       "      <th>std</th>\n",
       "      <td>7.562986e+07</td>\n",
       "    </tr>\n",
       "    <tr>\n",
       "      <th>min</th>\n",
       "      <td>0.000000e+00</td>\n",
       "    </tr>\n",
       "    <tr>\n",
       "      <th>25%</th>\n",
       "      <td>4.000000e+05</td>\n",
       "    </tr>\n",
       "    <tr>\n",
       "      <th>50%</th>\n",
       "      <td>2.000000e+06</td>\n",
       "    </tr>\n",
       "    <tr>\n",
       "      <th>75%</th>\n",
       "      <td>7.976016e+06</td>\n",
       "    </tr>\n",
       "    <tr>\n",
       "      <th>max</th>\n",
       "      <td>1.760000e+10</td>\n",
       "    </tr>\n",
       "  </tbody>\n",
       "</table>\n",
       "</div>"
      ],
      "text/plain": [
       "       raised_amount_usd\n",
       "count       8.062600e+04\n",
       "mean        9.348091e+06\n",
       "std         7.562986e+07\n",
       "min         0.000000e+00\n",
       "25%         4.000000e+05\n",
       "50%         2.000000e+06\n",
       "75%         7.976016e+06\n",
       "max         1.760000e+10"
      ]
     },
     "execution_count": 70,
     "metadata": {},
     "output_type": "execute_result"
    }
   ],
   "source": [
    "master_frame1.loc[:,['raised_amount_usd']].describe()"
   ]
  },
  {
   "cell_type": "code",
   "execution_count": 72,
   "metadata": {},
   "outputs": [],
   "source": [
    "# removing NaN raised_amount_usd rows\n",
    "master_frame2 = master_frame1[~master_frame1.raised_amount_usd.isnull()]"
   ]
  },
  {
   "cell_type": "code",
   "execution_count": 74,
   "metadata": {},
   "outputs": [
    {
     "data": {
      "text/plain": [
       "0"
      ]
     },
     "execution_count": 74,
     "metadata": {},
     "output_type": "execute_result"
    }
   ],
   "source": [
    "master_frame2.raised_amount_usd.isnull().sum()"
   ]
  },
  {
   "cell_type": "code",
   "execution_count": 76,
   "metadata": {},
   "outputs": [
    {
     "data": {
      "text/plain": [
       "(94390, 17)"
      ]
     },
     "execution_count": 76,
     "metadata": {},
     "output_type": "execute_result"
    }
   ],
   "source": [
    "master_frame1.shape"
   ]
  },
  {
   "cell_type": "code",
   "execution_count": 77,
   "metadata": {},
   "outputs": [
    {
     "data": {
      "text/plain": [
       "(80626, 17)"
      ]
     },
     "execution_count": 77,
     "metadata": {},
     "output_type": "execute_result"
    }
   ],
   "source": [
    "master_frame2.shape"
   ]
  },
  {
   "cell_type": "code",
   "execution_count": 79,
   "metadata": {},
   "outputs": [],
   "source": [
    "means = master_frame2.groupby('funding_round_type')['raised_amount_usd'].mean()"
   ]
  },
  {
   "cell_type": "code",
   "execution_count": 80,
   "metadata": {},
   "outputs": [
    {
     "data": {
      "text/plain": [
       "funding_round_type\n",
       "angel             9.586945e+05\n",
       "private_equity    7.330859e+07\n",
       "seed              7.197796e+05\n",
       "venture           1.174895e+07\n",
       "Name: raised_amount_usd, dtype: float64"
      ]
     },
     "execution_count": 80,
     "metadata": {},
     "output_type": "execute_result"
    }
   ],
   "source": [
    "means"
   ]
  },
  {
   "cell_type": "code",
   "execution_count": 82,
   "metadata": {},
   "outputs": [],
   "source": [
    "means = master_frame2.groupby('funding_round_type')['raised_amount_usd'].mean()"
   ]
  },
  {
   "cell_type": "code",
   "execution_count": 83,
   "metadata": {},
   "outputs": [],
   "source": [
    "median = master_frame2.groupby('funding_round_type')['raised_amount_usd'].median()"
   ]
  },
  {
   "cell_type": "code",
   "execution_count": 84,
   "metadata": {},
   "outputs": [
    {
     "data": {
      "text/plain": [
       "funding_round_type\n",
       "angel               400000.0\n",
       "private_equity    20000000.0\n",
       "seed                275000.0\n",
       "venture            5000000.0\n",
       "Name: raised_amount_usd, dtype: float64"
      ]
     },
     "execution_count": 84,
     "metadata": {},
     "output_type": "execute_result"
    }
   ],
   "source": [
    "median"
   ]
  },
  {
   "cell_type": "code",
   "execution_count": 85,
   "metadata": {},
   "outputs": [],
   "source": [
    "quantile_50 = master_frame2.groupby('funding_round_type')['raised_amount_usd'].quantile(0.5)"
   ]
  },
  {
   "cell_type": "code",
   "execution_count": 86,
   "metadata": {},
   "outputs": [
    {
     "data": {
      "text/plain": [
       "funding_round_type\n",
       "angel               400000.0\n",
       "private_equity    20000000.0\n",
       "seed                275000.0\n",
       "venture            5000000.0\n",
       "Name: raised_amount_usd, dtype: float64"
      ]
     },
     "execution_count": 86,
     "metadata": {},
     "output_type": "execute_result"
    }
   ],
   "source": [
    "quantile_50"
   ]
  },
  {
   "cell_type": "code",
   "execution_count": 87,
   "metadata": {},
   "outputs": [],
   "source": [
    "quantile_25 = master_frame2.groupby('funding_round_type')['raised_amount_usd'].quantile(0.25)"
   ]
  },
  {
   "cell_type": "code",
   "execution_count": 88,
   "metadata": {},
   "outputs": [
    {
     "data": {
      "text/plain": [
       "funding_round_type\n",
       "angel              150000.00\n",
       "private_equity    5000000.00\n",
       "seed                55000.00\n",
       "venture           1600901.75\n",
       "Name: raised_amount_usd, dtype: float64"
      ]
     },
     "execution_count": 88,
     "metadata": {},
     "output_type": "execute_result"
    }
   ],
   "source": [
    "quantile_25"
   ]
  },
  {
   "cell_type": "code",
   "execution_count": 89,
   "metadata": {},
   "outputs": [],
   "source": [
    "quantile_75 = master_frame2.groupby('funding_round_type')['raised_amount_usd'].quantile(0.75)"
   ]
  },
  {
   "cell_type": "code",
   "execution_count": 90,
   "metadata": {},
   "outputs": [
    {
     "data": {
      "text/plain": [
       "funding_round_type\n",
       "angel              1000000.0\n",
       "private_equity    75000000.0\n",
       "seed               1000000.0\n",
       "venture           12000000.0\n",
       "Name: raised_amount_usd, dtype: float64"
      ]
     },
     "execution_count": 90,
     "metadata": {},
     "output_type": "execute_result"
    }
   ],
   "source": [
    "quantile_75"
   ]
  },
  {
   "cell_type": "code",
   "execution_count": 92,
   "metadata": {},
   "outputs": [],
   "source": [
    "max = master_frame2.groupby('funding_round_type')['raised_amount_usd'].max()"
   ]
  },
  {
   "cell_type": "code",
   "execution_count": 93,
   "metadata": {},
   "outputs": [
    {
     "data": {
      "text/plain": [
       "funding_round_type\n",
       "angel             4.945120e+08\n",
       "private_equity    4.745460e+09\n",
       "seed              2.000000e+08\n",
       "venture           1.760000e+10\n",
       "Name: raised_amount_usd, dtype: float64"
      ]
     },
     "execution_count": 93,
     "metadata": {},
     "output_type": "execute_result"
    }
   ],
   "source": [
    "max"
   ]
  },
  {
   "cell_type": "markdown",
   "metadata": {},
   "source": [
    "# Country Analysis"
   ]
  },
  {
   "cell_type": "code",
   "execution_count": 94,
   "metadata": {},
   "outputs": [
    {
     "data": {
      "text/plain": [
       "USA    51868\n",
       "GBR     4075\n",
       "CAN     2208\n",
       "CHN     1826\n",
       "IND     1574\n",
       "       ...  \n",
       "UZB        1\n",
       "SOM        1\n",
       "ZWE        1\n",
       "SYC        1\n",
       "SEN        1\n",
       "Name: country_code, Length: 131, dtype: int64"
      ]
     },
     "execution_count": 94,
     "metadata": {},
     "output_type": "execute_result"
    }
   ],
   "source": [
    "master_frame2.country_code.value_counts()"
   ]
  },
  {
   "cell_type": "code",
   "execution_count": 95,
   "metadata": {},
   "outputs": [
    {
     "data": {
      "text/plain": [
       "array(['IND', 'USA', nan, 'CHN', 'CAN', 'CHL', 'GBR', 'FRA', 'AUS', 'ROM',\n",
       "       'KOR', 'NLD', 'SWE', 'RUS', 'DNK', 'NOR', 'ESP', 'BEL', 'IRL',\n",
       "       'ITA', 'ISR', 'SGP', 'CHE', 'BRA', 'SVN', 'JOR', 'HUN', 'JPN',\n",
       "       'DEU', 'NGA', 'FIN', 'NZL', 'HKG', 'CYP', 'CRI', 'IDN', 'PRT',\n",
       "       'ARG', 'TWN', 'THA', 'COL', 'SVK', 'UKR', 'LTU', 'ISL', 'MEX',\n",
       "       'TUR', 'VEN', 'URY', 'AUT', 'KEN', 'ZAF', 'PHL', 'MNE', 'MYS',\n",
       "       'PER', 'POL', 'EGY', 'PAN', 'LVA', 'GGY', 'VNM', 'HRV', 'EST',\n",
       "       'BGR', 'LBN', 'GRC', 'UGA', 'NPL', 'LUX', 'CZE', 'ARE', 'SAU',\n",
       "       'PAK', 'IRN', 'ALB', 'BAH', 'ARM', 'BGD', 'MDA', 'GHA', 'SRB',\n",
       "       'TUN', 'ZWE', 'BRB', 'NIC', 'TAN', 'PRI', 'TTO', 'CMR', 'CYM',\n",
       "       'ECU', 'SLV', 'BWA', 'MLT', 'GTM', 'ZMB', 'GIB', 'BHR', 'BMU',\n",
       "       'HND', 'MUS', 'MCO', 'MMR', 'KAZ', 'QAT', 'MAR', 'LIE', 'BLR',\n",
       "       'GEO', 'DOM', 'DZA', 'JAM', 'KNA', 'AZE', 'SEN', 'RWA', 'DMA',\n",
       "       'UZB', 'PSE', 'KWT', 'CIV', 'BLM', 'GRD', 'KHM', 'LAO', 'SOM',\n",
       "       'MKD', 'LKA', 'SYC', 'PRY', 'MAF'], dtype=object)"
      ]
     },
     "execution_count": 95,
     "metadata": {},
     "output_type": "execute_result"
    }
   ],
   "source": [
    "master_frame2.country_code.unique()"
   ]
  },
  {
   "cell_type": "code",
   "execution_count": 97,
   "metadata": {},
   "outputs": [],
   "source": [
    "invest_venture = master_frame2[master_frame2.funding_round_type == 'venture']"
   ]
  },
  {
   "cell_type": "code",
   "execution_count": 98,
   "metadata": {},
   "outputs": [
    {
     "data": {
      "text/plain": [
       "venture    50228\n",
       "Name: funding_round_type, dtype: int64"
      ]
     },
     "execution_count": 98,
     "metadata": {},
     "output_type": "execute_result"
    }
   ],
   "source": [
    "invest_venture.funding_round_type.value_counts()"
   ]
  },
  {
   "cell_type": "code",
   "execution_count": 99,
   "metadata": {},
   "outputs": [
    {
     "data": {
      "text/plain": [
       "array(['IND', nan, 'CHN', 'CAN', 'USA', 'GBR', 'FRA', 'ROM', 'KOR', 'IRL',\n",
       "       'SWE', 'SGP', 'NLD', 'RUS', 'BEL', 'ESP', 'HUN', 'JPN', 'DEU',\n",
       "       'ITA', 'HKG', 'BRA', 'FIN', 'CHE', 'PRT', 'SVN', 'THA', 'DNK',\n",
       "       'TWN', 'ISR', 'NOR', 'LTU', 'ISL', 'MEX', 'AUS', 'NZL', 'AUT',\n",
       "       'ARG', 'PHL', 'MNE', 'MYS', 'TUR', 'POL', 'LVA', 'GGY', 'EST',\n",
       "       'LBN', 'GRC', 'IDN', 'CYP', 'SVK', 'ARE', 'EGY', 'ARM', 'ZAF',\n",
       "       'TUN', 'KEN', 'COL', 'CZE', 'CMR', 'PRI', 'CYM', 'PER', 'ECU',\n",
       "       'CHL', 'NGA', 'VNM', 'URY', 'PAK', 'HRV', 'LUX', 'UKR', 'BMU',\n",
       "       'MUS', 'BGR', 'TTO', 'PAN', 'MMR', 'JOR', 'KAZ', 'MAR', 'LIE',\n",
       "       'GTM', 'SAU', 'TAN', 'KNA', 'SEN', 'MLT', 'MCO', 'BAH', 'GHA',\n",
       "       'KWT', 'UGA', 'LAO', 'BGD', 'BWA', 'MAF', 'GIB'], dtype=object)"
      ]
     },
     "execution_count": 99,
     "metadata": {},
     "output_type": "execute_result"
    }
   ],
   "source": [
    "invest_venture.country_code.unique()"
   ]
  },
  {
   "cell_type": "code",
   "execution_count": 100,
   "metadata": {},
   "outputs": [],
   "source": [
    "country_list = invest_venture.country_code.unique().tolist()"
   ]
  },
  {
   "cell_type": "code",
   "execution_count": 101,
   "metadata": {},
   "outputs": [
    {
     "name": "stdout",
     "output_type": "stream",
     "text": [
      "['IND', nan, 'CHN', 'CAN', 'USA', 'GBR', 'FRA', 'ROM', 'KOR', 'IRL', 'SWE', 'SGP', 'NLD', 'RUS', 'BEL', 'ESP', 'HUN', 'JPN', 'DEU', 'ITA', 'HKG', 'BRA', 'FIN', 'CHE', 'PRT', 'SVN', 'THA', 'DNK', 'TWN', 'ISR', 'NOR', 'LTU', 'ISL', 'MEX', 'AUS', 'NZL', 'AUT', 'ARG', 'PHL', 'MNE', 'MYS', 'TUR', 'POL', 'LVA', 'GGY', 'EST', 'LBN', 'GRC', 'IDN', 'CYP', 'SVK', 'ARE', 'EGY', 'ARM', 'ZAF', 'TUN', 'KEN', 'COL', 'CZE', 'CMR', 'PRI', 'CYM', 'PER', 'ECU', 'CHL', 'NGA', 'VNM', 'URY', 'PAK', 'HRV', 'LUX', 'UKR', 'BMU', 'MUS', 'BGR', 'TTO', 'PAN', 'MMR', 'JOR', 'KAZ', 'MAR', 'LIE', 'GTM', 'SAU', 'TAN', 'KNA', 'SEN', 'MLT', 'MCO', 'BAH', 'GHA', 'KWT', 'UGA', 'LAO', 'BGD', 'BWA', 'MAF', 'GIB']\n"
     ]
    }
   ],
   "source": [
    "print(country_list)"
   ]
  },
  {
   "cell_type": "code",
   "execution_count": 102,
   "metadata": {},
   "outputs": [
    {
     "data": {
      "text/plain": [
       "2117"
      ]
     },
     "execution_count": 102,
     "metadata": {},
     "output_type": "execute_result"
    }
   ],
   "source": [
    "invest_venture.country_code.isnull().sum()"
   ]
  },
  {
   "cell_type": "code",
   "execution_count": 107,
   "metadata": {},
   "outputs": [],
   "source": [
    "# removing NaN countries rows from venture investment dataframe\n",
    "invest_venture2 = invest_venture[~invest_venture.country_code.isnull()]"
   ]
  },
  {
   "cell_type": "code",
   "execution_count": 108,
   "metadata": {},
   "outputs": [
    {
     "data": {
      "text/plain": [
       "0"
      ]
     },
     "execution_count": 108,
     "metadata": {},
     "output_type": "execute_result"
    }
   ],
   "source": [
    "invest_venture2.country_code.isnull().sum()"
   ]
  },
  {
   "cell_type": "code",
   "execution_count": 109,
   "metadata": {},
   "outputs": [
    {
     "data": {
      "text/plain": [
       "array(['IND', 'CHN', 'CAN', 'USA', 'GBR', 'FRA', 'ROM', 'KOR', 'IRL',\n",
       "       'SWE', 'SGP', 'NLD', 'RUS', 'BEL', 'ESP', 'HUN', 'JPN', 'DEU',\n",
       "       'ITA', 'HKG', 'BRA', 'FIN', 'CHE', 'PRT', 'SVN', 'THA', 'DNK',\n",
       "       'TWN', 'ISR', 'NOR', 'LTU', 'ISL', 'MEX', 'AUS', 'NZL', 'AUT',\n",
       "       'ARG', 'PHL', 'MNE', 'MYS', 'TUR', 'POL', 'LVA', 'GGY', 'EST',\n",
       "       'LBN', 'GRC', 'IDN', 'CYP', 'SVK', 'ARE', 'EGY', 'ARM', 'ZAF',\n",
       "       'TUN', 'KEN', 'COL', 'CZE', 'CMR', 'PRI', 'CYM', 'PER', 'ECU',\n",
       "       'CHL', 'NGA', 'VNM', 'URY', 'PAK', 'HRV', 'LUX', 'UKR', 'BMU',\n",
       "       'MUS', 'BGR', 'TTO', 'PAN', 'MMR', 'JOR', 'KAZ', 'MAR', 'LIE',\n",
       "       'GTM', 'SAU', 'TAN', 'KNA', 'SEN', 'MLT', 'MCO', 'BAH', 'GHA',\n",
       "       'KWT', 'UGA', 'LAO', 'BGD', 'BWA', 'MAF', 'GIB'], dtype=object)"
      ]
     },
     "execution_count": 109,
     "metadata": {},
     "output_type": "execute_result"
    }
   ],
   "source": [
    "invest_venture2.country_code.unique()"
   ]
  },
  {
   "cell_type": "code",
   "execution_count": 112,
   "metadata": {},
   "outputs": [],
   "source": [
    "country_list = invest_venture2.country_code.unique().tolist()"
   ]
  },
  {
   "cell_type": "code",
   "execution_count": 113,
   "metadata": {},
   "outputs": [
    {
     "name": "stdout",
     "output_type": "stream",
     "text": [
      "['IND', 'CHN', 'CAN', 'USA', 'GBR', 'FRA', 'ROM', 'KOR', 'IRL', 'SWE', 'SGP', 'NLD', 'RUS', 'BEL', 'ESP', 'HUN', 'JPN', 'DEU', 'ITA', 'HKG', 'BRA', 'FIN', 'CHE', 'PRT', 'SVN', 'THA', 'DNK', 'TWN', 'ISR', 'NOR', 'LTU', 'ISL', 'MEX', 'AUS', 'NZL', 'AUT', 'ARG', 'PHL', 'MNE', 'MYS', 'TUR', 'POL', 'LVA', 'GGY', 'EST', 'LBN', 'GRC', 'IDN', 'CYP', 'SVK', 'ARE', 'EGY', 'ARM', 'ZAF', 'TUN', 'KEN', 'COL', 'CZE', 'CMR', 'PRI', 'CYM', 'PER', 'ECU', 'CHL', 'NGA', 'VNM', 'URY', 'PAK', 'HRV', 'LUX', 'UKR', 'BMU', 'MUS', 'BGR', 'TTO', 'PAN', 'MMR', 'JOR', 'KAZ', 'MAR', 'LIE', 'GTM', 'SAU', 'TAN', 'KNA', 'SEN', 'MLT', 'MCO', 'BAH', 'GHA', 'KWT', 'UGA', 'LAO', 'BGD', 'BWA', 'MAF', 'GIB']\n"
     ]
    }
   ],
   "source": [
    "print(country_list)"
   ]
  },
  {
   "cell_type": "code",
   "execution_count": 114,
   "metadata": {},
   "outputs": [],
   "source": [
    "country_list_eng = ['IND','PAK',\n",
    "'RWA',\n",
    "'UGA',\n",
    "'MLT',\n",
    "'NRU',\n",
    "'NAM',\n",
    "'ZWE',\n",
    "'ATG',\n",
    "'BHS',\n",
    "'BLZ',\n",
    "'BRB',\n",
    "'DMA',\n",
    "'GUY',\n",
    "'JAM',\n",
    "'KNA',\n",
    "'LBR',\n",
    "'LCA',\n",
    "'PNG',\n",
    "'SLE',\n",
    "'TTO',\n",
    "'VCT',\n",
    "'ZAF',\n",
    "'PHL',\n",
    "'GRD',\n",
    "'CAN',\n",
    "'KEN',\n",
    "'IRL',\n",
    "'SGP',\n",
    "'FJI',\n",
    "'GHA',\n",
    "'NGA',\n",
    "'AUS',\n",
    "'NZL',\n",
    "'GBR',\n",
    "'USA']"
   ]
  },
  {
   "cell_type": "code",
   "execution_count": 115,
   "metadata": {},
   "outputs": [
    {
     "name": "stdout",
     "output_type": "stream",
     "text": [
      "['IND', 'PAK', 'RWA', 'UGA', 'MLT', 'NRU', 'NAM', 'ZWE', 'ATG', 'BHS', 'BLZ', 'BRB', 'DMA', 'GUY', 'JAM', 'KNA', 'LBR', 'LCA', 'PNG', 'SLE', 'TTO', 'VCT', 'ZAF', 'PHL', 'GRD', 'CAN', 'KEN', 'IRL', 'SGP', 'FJI', 'GHA', 'NGA', 'AUS', 'NZL', 'GBR', 'USA']\n"
     ]
    }
   ],
   "source": [
    "print(country_list_eng)"
   ]
  },
  {
   "cell_type": "code",
   "execution_count": 116,
   "metadata": {},
   "outputs": [],
   "source": [
    "funding_country_list = list(set(country_list).intersection(country_list_eng))"
   ]
  },
  {
   "cell_type": "code",
   "execution_count": 117,
   "metadata": {},
   "outputs": [
    {
     "name": "stdout",
     "output_type": "stream",
     "text": [
      "['USA', 'AUS', 'MLT', 'CAN', 'KEN', 'UGA', 'IND', 'NGA', 'GBR', 'ZAF', 'SGP', 'GHA', 'NZL', 'PHL', 'IRL', 'PAK', 'KNA', 'TTO']\n"
     ]
    }
   ],
   "source": [
    "print(funding_country_list)"
   ]
  },
  {
   "cell_type": "code",
   "execution_count": 118,
   "metadata": {},
   "outputs": [],
   "source": [
    "# Delete non-english countries rows\n",
    "invest_venture3 = invest_venture2[invest_venture2['country_code'].isin(funding_country_list)]"
   ]
  },
  {
   "cell_type": "code",
   "execution_count": 119,
   "metadata": {},
   "outputs": [
    {
     "data": {
      "text/plain": [
       "USA    36139\n",
       "GBR     2055\n",
       "CAN     1256\n",
       "IND      824\n",
       "IRL      222\n",
       "SGP      221\n",
       "AUS      206\n",
       "NZL       48\n",
       "ZAF       23\n",
       "NGA       15\n",
       "PHL       13\n",
       "KEN        7\n",
       "PAK        7\n",
       "TTO        3\n",
       "MLT        3\n",
       "GHA        3\n",
       "KNA        1\n",
       "UGA        1\n",
       "Name: country_code, dtype: int64"
      ]
     },
     "execution_count": 119,
     "metadata": {},
     "output_type": "execute_result"
    }
   ],
   "source": [
    "invest_venture3.country_code.value_counts()"
   ]
  },
  {
   "cell_type": "code",
   "execution_count": 120,
   "metadata": {},
   "outputs": [
    {
     "data": {
      "text/plain": [
       "permalink                      0\n",
       "name                           0\n",
       "homepage_url                1936\n",
       "category_list                229\n",
       "status                         0\n",
       "country_code                   0\n",
       "state_code                   335\n",
       "region                       185\n",
       "city                         185\n",
       "founded_at                  6736\n",
       "company_name                   0\n",
       "company_permalink              0\n",
       "funding_round_permalink        0\n",
       "funding_round_type             0\n",
       "funding_round_code         18840\n",
       "funded_at                      0\n",
       "raised_amount_usd              0\n",
       "dtype: int64"
      ]
     },
     "execution_count": 120,
     "metadata": {},
     "output_type": "execute_result"
    }
   ],
   "source": [
    "invest_venture3.isnull().sum()"
   ]
  },
  {
   "cell_type": "code",
   "execution_count": 135,
   "metadata": {},
   "outputs": [],
   "source": [
    "# Total funding received by all the english countries\n",
    "max_funding = invest_venture3.groupby('country_code')['raised_amount_usd'].sum()"
   ]
  },
  {
   "cell_type": "code",
   "execution_count": 136,
   "metadata": {},
   "outputs": [
    {
     "data": {
      "text/plain": [
       "country_code\n",
       "USA    4.225108e+11\n",
       "GBR    2.024563e+10\n",
       "IND    1.439186e+10\n",
       "CAN    9.583332e+09\n",
       "SGP    2.793918e+09\n",
       "IRL    1.676131e+09\n",
       "AUS    1.322935e+09\n",
       "NZL    4.483164e+08\n",
       "NGA    2.454400e+08\n",
       "ZAF    2.340629e+08\n",
       "PHL    1.144997e+08\n",
       "PAK    8.312500e+07\n",
       "KEN    5.394000e+07\n",
       "GHA    3.120000e+07\n",
       "MLT    1.772830e+07\n",
       "KNA    1.500000e+07\n",
       "TTO    8.500000e+06\n",
       "UGA    2.500000e+06\n",
       "Name: raised_amount_usd, dtype: float64"
      ]
     },
     "execution_count": 136,
     "metadata": {},
     "output_type": "execute_result"
    }
   ],
   "source": [
    "# Total funding received by all the english countries\n",
    "max_funding.sort_values(ascending=False)"
   ]
  },
  {
   "cell_type": "code",
   "execution_count": 133,
   "metadata": {},
   "outputs": [
    {
     "name": "stderr",
     "output_type": "stream",
     "text": [
      "<ipython-input-133-07d32869e3df>:2: UserWarning: Boolean Series key will be reindexed to match DataFrame index.\n",
      "  top9 = invest_venture3[invest_venture2['country_code'].isin(['USA','GBR','IND','CAN','SGP','IRL','AUS','NZL','NGA'])]\n"
     ]
    }
   ],
   "source": [
    "# Top 9 countries data frame\n",
    "top9 = invest_venture3[invest_venture2['country_code'].isin(['USA','GBR','IND','CAN','SGP','IRL','AUS','NZL','NGA'])]"
   ]
  },
  {
   "cell_type": "code",
   "execution_count": 134,
   "metadata": {},
   "outputs": [
    {
     "data": {
      "text/plain": [
       "USA    36139\n",
       "GBR     2055\n",
       "CAN     1256\n",
       "IND      824\n",
       "IRL      222\n",
       "SGP      221\n",
       "AUS      206\n",
       "NZL       48\n",
       "NGA       15\n",
       "Name: country_code, dtype: int64"
      ]
     },
     "execution_count": 134,
     "metadata": {},
     "output_type": "execute_result"
    }
   ],
   "source": [
    "top9.country_code.value_counts()"
   ]
  },
  {
   "cell_type": "code",
   "execution_count": 322,
   "metadata": {},
   "outputs": [],
   "source": [
    "# Total funding received by top9 countries\n",
    "max_funding = top9.groupby('country_code')['raised_amount_usd'].sum()"
   ]
  },
  {
   "cell_type": "code",
   "execution_count": 323,
   "metadata": {},
   "outputs": [
    {
     "data": {
      "text/plain": [
       "country_code\n",
       "USA    4.225108e+11\n",
       "GBR    2.024563e+10\n",
       "IND    1.439186e+10\n",
       "CAN    9.583332e+09\n",
       "SGP    2.793918e+09\n",
       "IRL    1.676131e+09\n",
       "AUS    1.322935e+09\n",
       "NZL    4.483164e+08\n",
       "NGA    2.454400e+08\n",
       "Name: raised_amount_usd, dtype: float64"
      ]
     },
     "execution_count": 323,
     "metadata": {},
     "output_type": "execute_result"
    }
   ],
   "source": [
    "# Total funding received by top9 countries in decending order to identify Top three countries\n",
    "max_funding.sort_values(ascending=False)"
   ]
  },
  {
   "cell_type": "markdown",
   "metadata": {},
   "source": [
    "# Sector Analysis 1"
   ]
  },
  {
   "cell_type": "code",
   "execution_count": 137,
   "metadata": {},
   "outputs": [],
   "source": [
    "mapping = pd.read_csv(\"mapping.csv\")"
   ]
  },
  {
   "cell_type": "code",
   "execution_count": 138,
   "metadata": {},
   "outputs": [
    {
     "data": {
      "text/plain": [
       "permalink                      0\n",
       "name                           0\n",
       "homepage_url                1934\n",
       "category_list                228\n",
       "status                         0\n",
       "country_code                   0\n",
       "state_code                   306\n",
       "region                       180\n",
       "city                         180\n",
       "founded_at                  6721\n",
       "company_name                   0\n",
       "company_permalink              0\n",
       "funding_round_permalink        0\n",
       "funding_round_type             0\n",
       "funding_round_code         18809\n",
       "funded_at                      0\n",
       "raised_amount_usd              0\n",
       "dtype: int64"
      ]
     },
     "execution_count": 138,
     "metadata": {},
     "output_type": "execute_result"
    }
   ],
   "source": [
    "top9.isnull().sum()"
   ]
  },
  {
   "cell_type": "code",
   "execution_count": 139,
   "metadata": {},
   "outputs": [],
   "source": [
    "top9_1 = top9[~top9.category_list.isnull()]"
   ]
  },
  {
   "cell_type": "code",
   "execution_count": 140,
   "metadata": {},
   "outputs": [
    {
     "data": {
      "text/plain": [
       "permalink                      0\n",
       "name                           0\n",
       "homepage_url                1868\n",
       "category_list                  0\n",
       "status                         0\n",
       "country_code                   0\n",
       "state_code                   305\n",
       "region                       178\n",
       "city                         178\n",
       "founded_at                  6563\n",
       "company_name                   0\n",
       "company_permalink              0\n",
       "funding_round_permalink        0\n",
       "funding_round_type             0\n",
       "funding_round_code         18705\n",
       "funded_at                      0\n",
       "raised_amount_usd              0\n",
       "dtype: int64"
      ]
     },
     "execution_count": 140,
     "metadata": {},
     "output_type": "execute_result"
    }
   ],
   "source": [
    "top9_1.isnull().sum()"
   ]
  },
  {
   "cell_type": "code",
   "execution_count": 145,
   "metadata": {},
   "outputs": [
    {
     "data": {
      "text/plain": [
       "category_list                              1\n",
       "Automotive & Sports                        0\n",
       "Blanks                                     0\n",
       "Cleantech / Semiconductors                 0\n",
       "Entertainment                              0\n",
       "Health                                     0\n",
       "Manufacturing                              0\n",
       "News, Search and Messaging                 0\n",
       "Others                                     0\n",
       "Social, Finance, Analytics, Advertising    0\n",
       "dtype: int64"
      ]
     },
     "execution_count": 145,
     "metadata": {},
     "output_type": "execute_result"
    }
   ],
   "source": [
    "mapping.isnull().sum()"
   ]
  },
  {
   "cell_type": "code",
   "execution_count": 146,
   "metadata": {},
   "outputs": [],
   "source": [
    "# Store the value and id variables in two sepearte arrays\n",
    "value_vars = list(mapping.columns[1:])\n",
    "id_Vars = list(np.setdiff1d(mapping.columns, value_vars))"
   ]
  },
  {
   "cell_type": "code",
   "execution_count": 147,
   "metadata": {},
   "outputs": [
    {
     "name": "stdout",
     "output_type": "stream",
     "text": [
      "['Automotive & Sports', 'Blanks', 'Cleantech / Semiconductors', 'Entertainment', 'Health', 'Manufacturing', 'News, Search and Messaging', 'Others', 'Social, Finance, Analytics, Advertising']\n"
     ]
    }
   ],
   "source": [
    "print(value_vars)"
   ]
  },
  {
   "cell_type": "code",
   "execution_count": 148,
   "metadata": {},
   "outputs": [
    {
     "name": "stdout",
     "output_type": "stream",
     "text": [
      "['category_list']\n"
     ]
    }
   ],
   "source": [
    "print(id_Vars)"
   ]
  },
  {
   "cell_type": "code",
   "execution_count": 149,
   "metadata": {},
   "outputs": [],
   "source": [
    "# Convert into long\n",
    "mapping_long_df = pd.melt(mapping, id_vars = id_Vars, value_vars= value_vars)"
   ]
  },
  {
   "cell_type": "code",
   "execution_count": 150,
   "metadata": {},
   "outputs": [
    {
     "data": {
      "text/html": [
       "<div>\n",
       "<style scoped>\n",
       "    .dataframe tbody tr th:only-of-type {\n",
       "        vertical-align: middle;\n",
       "    }\n",
       "\n",
       "    .dataframe tbody tr th {\n",
       "        vertical-align: top;\n",
       "    }\n",
       "\n",
       "    .dataframe thead th {\n",
       "        text-align: right;\n",
       "    }\n",
       "</style>\n",
       "<table border=\"1\" class=\"dataframe\">\n",
       "  <thead>\n",
       "    <tr style=\"text-align: right;\">\n",
       "      <th></th>\n",
       "      <th>category_list</th>\n",
       "      <th>variable</th>\n",
       "      <th>value</th>\n",
       "    </tr>\n",
       "  </thead>\n",
       "  <tbody>\n",
       "    <tr>\n",
       "      <th>0</th>\n",
       "      <td>NaN</td>\n",
       "      <td>Automotive &amp; Sports</td>\n",
       "      <td>0</td>\n",
       "    </tr>\n",
       "    <tr>\n",
       "      <th>1</th>\n",
       "      <td>3D</td>\n",
       "      <td>Automotive &amp; Sports</td>\n",
       "      <td>0</td>\n",
       "    </tr>\n",
       "    <tr>\n",
       "      <th>2</th>\n",
       "      <td>3D Printing</td>\n",
       "      <td>Automotive &amp; Sports</td>\n",
       "      <td>0</td>\n",
       "    </tr>\n",
       "    <tr>\n",
       "      <th>3</th>\n",
       "      <td>3D Technology</td>\n",
       "      <td>Automotive &amp; Sports</td>\n",
       "      <td>0</td>\n",
       "    </tr>\n",
       "    <tr>\n",
       "      <th>4</th>\n",
       "      <td>Accounting</td>\n",
       "      <td>Automotive &amp; Sports</td>\n",
       "      <td>0</td>\n",
       "    </tr>\n",
       "    <tr>\n",
       "      <th>...</th>\n",
       "      <td>...</td>\n",
       "      <td>...</td>\n",
       "      <td>...</td>\n",
       "    </tr>\n",
       "    <tr>\n",
       "      <th>6187</th>\n",
       "      <td>Wholesale</td>\n",
       "      <td>Social, Finance, Analytics, Advertising</td>\n",
       "      <td>0</td>\n",
       "    </tr>\n",
       "    <tr>\n",
       "      <th>6188</th>\n",
       "      <td>Wine And Spirits</td>\n",
       "      <td>Social, Finance, Analytics, Advertising</td>\n",
       "      <td>0</td>\n",
       "    </tr>\n",
       "    <tr>\n",
       "      <th>6189</th>\n",
       "      <td>Wireless</td>\n",
       "      <td>Social, Finance, Analytics, Advertising</td>\n",
       "      <td>0</td>\n",
       "    </tr>\n",
       "    <tr>\n",
       "      <th>6190</th>\n",
       "      <td>Women</td>\n",
       "      <td>Social, Finance, Analytics, Advertising</td>\n",
       "      <td>0</td>\n",
       "    </tr>\n",
       "    <tr>\n",
       "      <th>6191</th>\n",
       "      <td>Young Adults</td>\n",
       "      <td>Social, Finance, Analytics, Advertising</td>\n",
       "      <td>0</td>\n",
       "    </tr>\n",
       "  </tbody>\n",
       "</table>\n",
       "<p>6192 rows × 3 columns</p>\n",
       "</div>"
      ],
      "text/plain": [
       "         category_list                                 variable  value\n",
       "0                  NaN                      Automotive & Sports      0\n",
       "1                   3D                      Automotive & Sports      0\n",
       "2          3D Printing                      Automotive & Sports      0\n",
       "3        3D Technology                      Automotive & Sports      0\n",
       "4           Accounting                      Automotive & Sports      0\n",
       "...                ...                                      ...    ...\n",
       "6187         Wholesale  Social, Finance, Analytics, Advertising      0\n",
       "6188  Wine And Spirits  Social, Finance, Analytics, Advertising      0\n",
       "6189          Wireless  Social, Finance, Analytics, Advertising      0\n",
       "6190             Women  Social, Finance, Analytics, Advertising      0\n",
       "6191      Young Adults  Social, Finance, Analytics, Advertising      0\n",
       "\n",
       "[6192 rows x 3 columns]"
      ]
     },
     "execution_count": 150,
     "metadata": {},
     "output_type": "execute_result"
    }
   ],
   "source": [
    "mapping_long_df"
   ]
  },
  {
   "cell_type": "code",
   "execution_count": 152,
   "metadata": {},
   "outputs": [
    {
     "data": {
      "text/html": [
       "<div>\n",
       "<style scoped>\n",
       "    .dataframe tbody tr th:only-of-type {\n",
       "        vertical-align: middle;\n",
       "    }\n",
       "\n",
       "    .dataframe tbody tr th {\n",
       "        vertical-align: top;\n",
       "    }\n",
       "\n",
       "    .dataframe thead th {\n",
       "        text-align: right;\n",
       "    }\n",
       "</style>\n",
       "<table border=\"1\" class=\"dataframe\">\n",
       "  <thead>\n",
       "    <tr style=\"text-align: right;\">\n",
       "      <th></th>\n",
       "      <th>category_list</th>\n",
       "      <th>variable</th>\n",
       "      <th>value</th>\n",
       "    </tr>\n",
       "  </thead>\n",
       "  <tbody>\n",
       "    <tr>\n",
       "      <th>8</th>\n",
       "      <td>Adventure Travel</td>\n",
       "      <td>Automotive &amp; Sports</td>\n",
       "      <td>1</td>\n",
       "    </tr>\n",
       "    <tr>\n",
       "      <th>14</th>\n",
       "      <td>Aerospace</td>\n",
       "      <td>Automotive &amp; Sports</td>\n",
       "      <td>1</td>\n",
       "    </tr>\n",
       "    <tr>\n",
       "      <th>45</th>\n",
       "      <td>Auto</td>\n",
       "      <td>Automotive &amp; Sports</td>\n",
       "      <td>1</td>\n",
       "    </tr>\n",
       "    <tr>\n",
       "      <th>46</th>\n",
       "      <td>Automated Kiosk</td>\n",
       "      <td>Automotive &amp; Sports</td>\n",
       "      <td>1</td>\n",
       "    </tr>\n",
       "    <tr>\n",
       "      <th>47</th>\n",
       "      <td>Automotive</td>\n",
       "      <td>Automotive &amp; Sports</td>\n",
       "      <td>1</td>\n",
       "    </tr>\n",
       "    <tr>\n",
       "      <th>...</th>\n",
       "      <td>...</td>\n",
       "      <td>...</td>\n",
       "      <td>...</td>\n",
       "    </tr>\n",
       "    <tr>\n",
       "      <th>6121</th>\n",
       "      <td>Social Recruiting</td>\n",
       "      <td>Social, Finance, Analytics, Advertising</td>\n",
       "      <td>1</td>\n",
       "    </tr>\n",
       "    <tr>\n",
       "      <th>6122</th>\n",
       "      <td>Social Television</td>\n",
       "      <td>Social, Finance, Analytics, Advertising</td>\n",
       "      <td>1</td>\n",
       "    </tr>\n",
       "    <tr>\n",
       "      <th>6123</th>\n",
       "      <td>Social Travel</td>\n",
       "      <td>Social, Finance, Analytics, Advertising</td>\n",
       "      <td>1</td>\n",
       "    </tr>\n",
       "    <tr>\n",
       "      <th>6134</th>\n",
       "      <td>Stock Exchanges</td>\n",
       "      <td>Social, Finance, Analytics, Advertising</td>\n",
       "      <td>1</td>\n",
       "    </tr>\n",
       "    <tr>\n",
       "      <th>6167</th>\n",
       "      <td>Venture Capital</td>\n",
       "      <td>Social, Finance, Analytics, Advertising</td>\n",
       "      <td>1</td>\n",
       "    </tr>\n",
       "  </tbody>\n",
       "</table>\n",
       "<p>688 rows × 3 columns</p>\n",
       "</div>"
      ],
      "text/plain": [
       "          category_list                                 variable  value\n",
       "8      Adventure Travel                      Automotive & Sports      1\n",
       "14            Aerospace                      Automotive & Sports      1\n",
       "45                 Auto                      Automotive & Sports      1\n",
       "46      Automated Kiosk                      Automotive & Sports      1\n",
       "47           Automotive                      Automotive & Sports      1\n",
       "...                 ...                                      ...    ...\n",
       "6121  Social Recruiting  Social, Finance, Analytics, Advertising      1\n",
       "6122  Social Television  Social, Finance, Analytics, Advertising      1\n",
       "6123      Social Travel  Social, Finance, Analytics, Advertising      1\n",
       "6134    Stock Exchanges  Social, Finance, Analytics, Advertising      1\n",
       "6167    Venture Capital  Social, Finance, Analytics, Advertising      1\n",
       "\n",
       "[688 rows x 3 columns]"
      ]
     },
     "execution_count": 152,
     "metadata": {},
     "output_type": "execute_result"
    }
   ],
   "source": [
    "mapping_long_df[mapping_long_df.value == 1]"
   ]
  },
  {
   "cell_type": "code",
   "execution_count": 153,
   "metadata": {},
   "outputs": [],
   "source": [
    "mapping_long_df = mapping_long_df[mapping_long_df.value == 1]"
   ]
  },
  {
   "cell_type": "code",
   "execution_count": 154,
   "metadata": {},
   "outputs": [],
   "source": [
    "mapping_long_df = mapping_long_df.drop('value', axis=1)"
   ]
  },
  {
   "cell_type": "code",
   "execution_count": 155,
   "metadata": {},
   "outputs": [
    {
     "data": {
      "text/html": [
       "<div>\n",
       "<style scoped>\n",
       "    .dataframe tbody tr th:only-of-type {\n",
       "        vertical-align: middle;\n",
       "    }\n",
       "\n",
       "    .dataframe tbody tr th {\n",
       "        vertical-align: top;\n",
       "    }\n",
       "\n",
       "    .dataframe thead th {\n",
       "        text-align: right;\n",
       "    }\n",
       "</style>\n",
       "<table border=\"1\" class=\"dataframe\">\n",
       "  <thead>\n",
       "    <tr style=\"text-align: right;\">\n",
       "      <th></th>\n",
       "      <th>category_list</th>\n",
       "      <th>variable</th>\n",
       "    </tr>\n",
       "  </thead>\n",
       "  <tbody>\n",
       "    <tr>\n",
       "      <th>8</th>\n",
       "      <td>Adventure Travel</td>\n",
       "      <td>Automotive &amp; Sports</td>\n",
       "    </tr>\n",
       "    <tr>\n",
       "      <th>14</th>\n",
       "      <td>Aerospace</td>\n",
       "      <td>Automotive &amp; Sports</td>\n",
       "    </tr>\n",
       "    <tr>\n",
       "      <th>45</th>\n",
       "      <td>Auto</td>\n",
       "      <td>Automotive &amp; Sports</td>\n",
       "    </tr>\n",
       "    <tr>\n",
       "      <th>46</th>\n",
       "      <td>Automated Kiosk</td>\n",
       "      <td>Automotive &amp; Sports</td>\n",
       "    </tr>\n",
       "    <tr>\n",
       "      <th>47</th>\n",
       "      <td>Automotive</td>\n",
       "      <td>Automotive &amp; Sports</td>\n",
       "    </tr>\n",
       "    <tr>\n",
       "      <th>...</th>\n",
       "      <td>...</td>\n",
       "      <td>...</td>\n",
       "    </tr>\n",
       "    <tr>\n",
       "      <th>6121</th>\n",
       "      <td>Social Recruiting</td>\n",
       "      <td>Social, Finance, Analytics, Advertising</td>\n",
       "    </tr>\n",
       "    <tr>\n",
       "      <th>6122</th>\n",
       "      <td>Social Television</td>\n",
       "      <td>Social, Finance, Analytics, Advertising</td>\n",
       "    </tr>\n",
       "    <tr>\n",
       "      <th>6123</th>\n",
       "      <td>Social Travel</td>\n",
       "      <td>Social, Finance, Analytics, Advertising</td>\n",
       "    </tr>\n",
       "    <tr>\n",
       "      <th>6134</th>\n",
       "      <td>Stock Exchanges</td>\n",
       "      <td>Social, Finance, Analytics, Advertising</td>\n",
       "    </tr>\n",
       "    <tr>\n",
       "      <th>6167</th>\n",
       "      <td>Venture Capital</td>\n",
       "      <td>Social, Finance, Analytics, Advertising</td>\n",
       "    </tr>\n",
       "  </tbody>\n",
       "</table>\n",
       "<p>688 rows × 2 columns</p>\n",
       "</div>"
      ],
      "text/plain": [
       "          category_list                                 variable\n",
       "8      Adventure Travel                      Automotive & Sports\n",
       "14            Aerospace                      Automotive & Sports\n",
       "45                 Auto                      Automotive & Sports\n",
       "46      Automated Kiosk                      Automotive & Sports\n",
       "47           Automotive                      Automotive & Sports\n",
       "...                 ...                                      ...\n",
       "6121  Social Recruiting  Social, Finance, Analytics, Advertising\n",
       "6122  Social Television  Social, Finance, Analytics, Advertising\n",
       "6123      Social Travel  Social, Finance, Analytics, Advertising\n",
       "6134    Stock Exchanges  Social, Finance, Analytics, Advertising\n",
       "6167    Venture Capital  Social, Finance, Analytics, Advertising\n",
       "\n",
       "[688 rows x 2 columns]"
      ]
     },
     "execution_count": 155,
     "metadata": {},
     "output_type": "execute_result"
    }
   ],
   "source": [
    "mapping_long_df"
   ]
  },
  {
   "cell_type": "code",
   "execution_count": 157,
   "metadata": {},
   "outputs": [],
   "source": [
    "# Renaming the variable column to main_sector\n",
    "mapping_long_df = mapping_long_df.rename(columns={'variable': 'main_sector'})"
   ]
  },
  {
   "cell_type": "code",
   "execution_count": 158,
   "metadata": {},
   "outputs": [
    {
     "data": {
      "text/html": [
       "<div>\n",
       "<style scoped>\n",
       "    .dataframe tbody tr th:only-of-type {\n",
       "        vertical-align: middle;\n",
       "    }\n",
       "\n",
       "    .dataframe tbody tr th {\n",
       "        vertical-align: top;\n",
       "    }\n",
       "\n",
       "    .dataframe thead th {\n",
       "        text-align: right;\n",
       "    }\n",
       "</style>\n",
       "<table border=\"1\" class=\"dataframe\">\n",
       "  <thead>\n",
       "    <tr style=\"text-align: right;\">\n",
       "      <th></th>\n",
       "      <th>category_list</th>\n",
       "      <th>main_sector</th>\n",
       "    </tr>\n",
       "  </thead>\n",
       "  <tbody>\n",
       "    <tr>\n",
       "      <th>8</th>\n",
       "      <td>Adventure Travel</td>\n",
       "      <td>Automotive &amp; Sports</td>\n",
       "    </tr>\n",
       "    <tr>\n",
       "      <th>14</th>\n",
       "      <td>Aerospace</td>\n",
       "      <td>Automotive &amp; Sports</td>\n",
       "    </tr>\n",
       "    <tr>\n",
       "      <th>45</th>\n",
       "      <td>Auto</td>\n",
       "      <td>Automotive &amp; Sports</td>\n",
       "    </tr>\n",
       "    <tr>\n",
       "      <th>46</th>\n",
       "      <td>Automated Kiosk</td>\n",
       "      <td>Automotive &amp; Sports</td>\n",
       "    </tr>\n",
       "    <tr>\n",
       "      <th>47</th>\n",
       "      <td>Automotive</td>\n",
       "      <td>Automotive &amp; Sports</td>\n",
       "    </tr>\n",
       "    <tr>\n",
       "      <th>...</th>\n",
       "      <td>...</td>\n",
       "      <td>...</td>\n",
       "    </tr>\n",
       "    <tr>\n",
       "      <th>6121</th>\n",
       "      <td>Social Recruiting</td>\n",
       "      <td>Social, Finance, Analytics, Advertising</td>\n",
       "    </tr>\n",
       "    <tr>\n",
       "      <th>6122</th>\n",
       "      <td>Social Television</td>\n",
       "      <td>Social, Finance, Analytics, Advertising</td>\n",
       "    </tr>\n",
       "    <tr>\n",
       "      <th>6123</th>\n",
       "      <td>Social Travel</td>\n",
       "      <td>Social, Finance, Analytics, Advertising</td>\n",
       "    </tr>\n",
       "    <tr>\n",
       "      <th>6134</th>\n",
       "      <td>Stock Exchanges</td>\n",
       "      <td>Social, Finance, Analytics, Advertising</td>\n",
       "    </tr>\n",
       "    <tr>\n",
       "      <th>6167</th>\n",
       "      <td>Venture Capital</td>\n",
       "      <td>Social, Finance, Analytics, Advertising</td>\n",
       "    </tr>\n",
       "  </tbody>\n",
       "</table>\n",
       "<p>688 rows × 2 columns</p>\n",
       "</div>"
      ],
      "text/plain": [
       "          category_list                              main_sector\n",
       "8      Adventure Travel                      Automotive & Sports\n",
       "14            Aerospace                      Automotive & Sports\n",
       "45                 Auto                      Automotive & Sports\n",
       "46      Automated Kiosk                      Automotive & Sports\n",
       "47           Automotive                      Automotive & Sports\n",
       "...                 ...                                      ...\n",
       "6121  Social Recruiting  Social, Finance, Analytics, Advertising\n",
       "6122  Social Television  Social, Finance, Analytics, Advertising\n",
       "6123      Social Travel  Social, Finance, Analytics, Advertising\n",
       "6134    Stock Exchanges  Social, Finance, Analytics, Advertising\n",
       "6167    Venture Capital  Social, Finance, Analytics, Advertising\n",
       "\n",
       "[688 rows x 2 columns]"
      ]
     },
     "execution_count": 158,
     "metadata": {},
     "output_type": "execute_result"
    }
   ],
   "source": [
    "mapping_long_df"
   ]
  },
  {
   "cell_type": "code",
   "execution_count": 165,
   "metadata": {},
   "outputs": [
    {
     "data": {
      "text/html": [
       "<div>\n",
       "<style scoped>\n",
       "    .dataframe tbody tr th:only-of-type {\n",
       "        vertical-align: middle;\n",
       "    }\n",
       "\n",
       "    .dataframe tbody tr th {\n",
       "        vertical-align: top;\n",
       "    }\n",
       "\n",
       "    .dataframe thead th {\n",
       "        text-align: right;\n",
       "    }\n",
       "</style>\n",
       "<table border=\"1\" class=\"dataframe\">\n",
       "  <thead>\n",
       "    <tr style=\"text-align: right;\">\n",
       "      <th></th>\n",
       "      <th>category_list</th>\n",
       "      <th>main_sector</th>\n",
       "    </tr>\n",
       "  </thead>\n",
       "  <tbody>\n",
       "  </tbody>\n",
       "</table>\n",
       "</div>"
      ],
      "text/plain": [
       "Empty DataFrame\n",
       "Columns: [category_list, main_sector]\n",
       "Index: []"
      ]
     },
     "execution_count": 165,
     "metadata": {},
     "output_type": "execute_result"
    }
   ],
   "source": [
    "mapping_long_df[mapping_long_df.main_sector == '']"
   ]
  },
  {
   "cell_type": "code",
   "execution_count": 172,
   "metadata": {},
   "outputs": [
    {
     "data": {
      "text/html": [
       "<div>\n",
       "<style scoped>\n",
       "    .dataframe tbody tr th:only-of-type {\n",
       "        vertical-align: middle;\n",
       "    }\n",
       "\n",
       "    .dataframe tbody tr th {\n",
       "        vertical-align: top;\n",
       "    }\n",
       "\n",
       "    .dataframe thead th {\n",
       "        text-align: right;\n",
       "    }\n",
       "</style>\n",
       "<table border=\"1\" class=\"dataframe\">\n",
       "  <thead>\n",
       "    <tr style=\"text-align: right;\">\n",
       "      <th></th>\n",
       "      <th>category_list</th>\n",
       "      <th>main_sector</th>\n",
       "    </tr>\n",
       "  </thead>\n",
       "  <tbody>\n",
       "    <tr>\n",
       "      <th>688</th>\n",
       "      <td>NaN</td>\n",
       "      <td>Blanks</td>\n",
       "    </tr>\n",
       "  </tbody>\n",
       "</table>\n",
       "</div>"
      ],
      "text/plain": [
       "    category_list main_sector\n",
       "688           NaN      Blanks"
      ]
     },
     "execution_count": 172,
     "metadata": {},
     "output_type": "execute_result"
    }
   ],
   "source": [
    "mapping_long_df[mapping_long_df.isnull().any(axis=1)]"
   ]
  },
  {
   "cell_type": "code",
   "execution_count": 173,
   "metadata": {},
   "outputs": [],
   "source": [
    "# Removing the null value in categroy list\n",
    "mapping_long_df_1 = mapping_long_df[~mapping_long_df.isnull().any(axis=1)]"
   ]
  },
  {
   "cell_type": "code",
   "execution_count": 174,
   "metadata": {},
   "outputs": [
    {
     "data": {
      "text/html": [
       "<div>\n",
       "<style scoped>\n",
       "    .dataframe tbody tr th:only-of-type {\n",
       "        vertical-align: middle;\n",
       "    }\n",
       "\n",
       "    .dataframe tbody tr th {\n",
       "        vertical-align: top;\n",
       "    }\n",
       "\n",
       "    .dataframe thead th {\n",
       "        text-align: right;\n",
       "    }\n",
       "</style>\n",
       "<table border=\"1\" class=\"dataframe\">\n",
       "  <thead>\n",
       "    <tr style=\"text-align: right;\">\n",
       "      <th></th>\n",
       "      <th>category_list</th>\n",
       "      <th>main_sector</th>\n",
       "    </tr>\n",
       "  </thead>\n",
       "  <tbody>\n",
       "  </tbody>\n",
       "</table>\n",
       "</div>"
      ],
      "text/plain": [
       "Empty DataFrame\n",
       "Columns: [category_list, main_sector]\n",
       "Index: []"
      ]
     },
     "execution_count": 174,
     "metadata": {},
     "output_type": "execute_result"
    }
   ],
   "source": [
    "mapping_long_df_1[mapping_long_df_1.isnull().any(axis=1)]"
   ]
  },
  {
   "cell_type": "code",
   "execution_count": 175,
   "metadata": {},
   "outputs": [
    {
     "data": {
      "text/plain": [
       "category_list    0\n",
       "main_sector      0\n",
       "dtype: int64"
      ]
     },
     "execution_count": 175,
     "metadata": {},
     "output_type": "execute_result"
    }
   ],
   "source": [
    "mapping_long_df_1.isnull().sum()"
   ]
  },
  {
   "cell_type": "code",
   "execution_count": 176,
   "metadata": {},
   "outputs": [
    {
     "data": {
      "text/html": [
       "<div>\n",
       "<style scoped>\n",
       "    .dataframe tbody tr th:only-of-type {\n",
       "        vertical-align: middle;\n",
       "    }\n",
       "\n",
       "    .dataframe tbody tr th {\n",
       "        vertical-align: top;\n",
       "    }\n",
       "\n",
       "    .dataframe thead th {\n",
       "        text-align: right;\n",
       "    }\n",
       "</style>\n",
       "<table border=\"1\" class=\"dataframe\">\n",
       "  <thead>\n",
       "    <tr style=\"text-align: right;\">\n",
       "      <th></th>\n",
       "      <th>category_list</th>\n",
       "      <th>main_sector</th>\n",
       "    </tr>\n",
       "  </thead>\n",
       "  <tbody>\n",
       "    <tr>\n",
       "      <th>8</th>\n",
       "      <td>Adventure Travel</td>\n",
       "      <td>Automotive &amp; Sports</td>\n",
       "    </tr>\n",
       "    <tr>\n",
       "      <th>14</th>\n",
       "      <td>Aerospace</td>\n",
       "      <td>Automotive &amp; Sports</td>\n",
       "    </tr>\n",
       "    <tr>\n",
       "      <th>45</th>\n",
       "      <td>Auto</td>\n",
       "      <td>Automotive &amp; Sports</td>\n",
       "    </tr>\n",
       "    <tr>\n",
       "      <th>46</th>\n",
       "      <td>Automated Kiosk</td>\n",
       "      <td>Automotive &amp; Sports</td>\n",
       "    </tr>\n",
       "    <tr>\n",
       "      <th>47</th>\n",
       "      <td>Automotive</td>\n",
       "      <td>Automotive &amp; Sports</td>\n",
       "    </tr>\n",
       "    <tr>\n",
       "      <th>...</th>\n",
       "      <td>...</td>\n",
       "      <td>...</td>\n",
       "    </tr>\n",
       "    <tr>\n",
       "      <th>6121</th>\n",
       "      <td>Social Recruiting</td>\n",
       "      <td>Social, Finance, Analytics, Advertising</td>\n",
       "    </tr>\n",
       "    <tr>\n",
       "      <th>6122</th>\n",
       "      <td>Social Television</td>\n",
       "      <td>Social, Finance, Analytics, Advertising</td>\n",
       "    </tr>\n",
       "    <tr>\n",
       "      <th>6123</th>\n",
       "      <td>Social Travel</td>\n",
       "      <td>Social, Finance, Analytics, Advertising</td>\n",
       "    </tr>\n",
       "    <tr>\n",
       "      <th>6134</th>\n",
       "      <td>Stock Exchanges</td>\n",
       "      <td>Social, Finance, Analytics, Advertising</td>\n",
       "    </tr>\n",
       "    <tr>\n",
       "      <th>6167</th>\n",
       "      <td>Venture Capital</td>\n",
       "      <td>Social, Finance, Analytics, Advertising</td>\n",
       "    </tr>\n",
       "  </tbody>\n",
       "</table>\n",
       "<p>687 rows × 2 columns</p>\n",
       "</div>"
      ],
      "text/plain": [
       "          category_list                              main_sector\n",
       "8      Adventure Travel                      Automotive & Sports\n",
       "14            Aerospace                      Automotive & Sports\n",
       "45                 Auto                      Automotive & Sports\n",
       "46      Automated Kiosk                      Automotive & Sports\n",
       "47           Automotive                      Automotive & Sports\n",
       "...                 ...                                      ...\n",
       "6121  Social Recruiting  Social, Finance, Analytics, Advertising\n",
       "6122  Social Television  Social, Finance, Analytics, Advertising\n",
       "6123      Social Travel  Social, Finance, Analytics, Advertising\n",
       "6134    Stock Exchanges  Social, Finance, Analytics, Advertising\n",
       "6167    Venture Capital  Social, Finance, Analytics, Advertising\n",
       "\n",
       "[687 rows x 2 columns]"
      ]
     },
     "execution_count": 176,
     "metadata": {},
     "output_type": "execute_result"
    }
   ],
   "source": [
    "mapping_long_df_1"
   ]
  },
  {
   "cell_type": "code",
   "execution_count": 177,
   "metadata": {},
   "outputs": [
    {
     "data": {
      "text/html": [
       "<div>\n",
       "<style scoped>\n",
       "    .dataframe tbody tr th:only-of-type {\n",
       "        vertical-align: middle;\n",
       "    }\n",
       "\n",
       "    .dataframe tbody tr th {\n",
       "        vertical-align: top;\n",
       "    }\n",
       "\n",
       "    .dataframe thead th {\n",
       "        text-align: right;\n",
       "    }\n",
       "</style>\n",
       "<table border=\"1\" class=\"dataframe\">\n",
       "  <thead>\n",
       "    <tr style=\"text-align: right;\">\n",
       "      <th></th>\n",
       "      <th>permalink</th>\n",
       "      <th>name</th>\n",
       "      <th>homepage_url</th>\n",
       "      <th>category_list</th>\n",
       "      <th>status</th>\n",
       "      <th>country_code</th>\n",
       "      <th>state_code</th>\n",
       "      <th>region</th>\n",
       "      <th>city</th>\n",
       "      <th>founded_at</th>\n",
       "      <th>company_name</th>\n",
       "      <th>company_permalink</th>\n",
       "      <th>funding_round_permalink</th>\n",
       "      <th>funding_round_type</th>\n",
       "      <th>funding_round_code</th>\n",
       "      <th>funded_at</th>\n",
       "      <th>raised_amount_usd</th>\n",
       "      <th>primary_sector</th>\n",
       "    </tr>\n",
       "  </thead>\n",
       "  <tbody>\n",
       "    <tr>\n",
       "      <th>0</th>\n",
       "      <td>/Organization/-Fame</td>\n",
       "      <td>#fame</td>\n",
       "      <td>http://livfame.com</td>\n",
       "      <td>Media</td>\n",
       "      <td>operating</td>\n",
       "      <td>IND</td>\n",
       "      <td>16</td>\n",
       "      <td>Mumbai</td>\n",
       "      <td>Mumbai</td>\n",
       "      <td>NaN</td>\n",
       "      <td>fame</td>\n",
       "      <td>/organization/-fame</td>\n",
       "      <td>/funding-round/9a01d05418af9f794eebff7ace91f638</td>\n",
       "      <td>venture</td>\n",
       "      <td>B</td>\n",
       "      <td>05-01-2015</td>\n",
       "      <td>10000000.0</td>\n",
       "      <td>Media</td>\n",
       "    </tr>\n",
       "    <tr>\n",
       "      <th>8</th>\n",
       "      <td>/Organization/0Ndine-Biomedical-Inc</td>\n",
       "      <td>Ondine Biomedical Inc.</td>\n",
       "      <td>http://ondinebio.com</td>\n",
       "      <td>Biotechnology</td>\n",
       "      <td>operating</td>\n",
       "      <td>CAN</td>\n",
       "      <td>BC</td>\n",
       "      <td>Vancouver</td>\n",
       "      <td>Vancouver</td>\n",
       "      <td>01-01-1997</td>\n",
       "      <td>0ndine-biomedical-inc</td>\n",
       "      <td>/organization/0ndine-biomedical-inc</td>\n",
       "      <td>/funding-round/954b9499724b946ad8c396a57a5f3b72</td>\n",
       "      <td>venture</td>\n",
       "      <td>NaN</td>\n",
       "      <td>21-12-2009</td>\n",
       "      <td>719491.0</td>\n",
       "      <td>Biotechnology</td>\n",
       "    </tr>\n",
       "    <tr>\n",
       "      <th>10</th>\n",
       "      <td>/Organization/0Xdata</td>\n",
       "      <td>H2O.ai</td>\n",
       "      <td>http://h2o.ai/</td>\n",
       "      <td>Analytics</td>\n",
       "      <td>operating</td>\n",
       "      <td>USA</td>\n",
       "      <td>CA</td>\n",
       "      <td>SF Bay Area</td>\n",
       "      <td>Mountain View</td>\n",
       "      <td>01-01-2011</td>\n",
       "      <td>0xdata</td>\n",
       "      <td>/organization/0xdata</td>\n",
       "      <td>/funding-round/3bb2ee4a2d89251a10aaa735b1180e44</td>\n",
       "      <td>venture</td>\n",
       "      <td>B</td>\n",
       "      <td>09-11-2015</td>\n",
       "      <td>20000000.0</td>\n",
       "      <td>Analytics</td>\n",
       "    </tr>\n",
       "    <tr>\n",
       "      <th>11</th>\n",
       "      <td>/Organization/0Xdata</td>\n",
       "      <td>H2O.ai</td>\n",
       "      <td>http://h2o.ai/</td>\n",
       "      <td>Analytics</td>\n",
       "      <td>operating</td>\n",
       "      <td>USA</td>\n",
       "      <td>CA</td>\n",
       "      <td>SF Bay Area</td>\n",
       "      <td>Mountain View</td>\n",
       "      <td>01-01-2011</td>\n",
       "      <td>0xdata</td>\n",
       "      <td>/ORGANIZATION/0XDATA</td>\n",
       "      <td>/funding-round/ae2a174c06517c2394aed45006322a7e</td>\n",
       "      <td>venture</td>\n",
       "      <td>NaN</td>\n",
       "      <td>03-01-2013</td>\n",
       "      <td>1700000.0</td>\n",
       "      <td>Analytics</td>\n",
       "    </tr>\n",
       "    <tr>\n",
       "      <th>12</th>\n",
       "      <td>/Organization/0Xdata</td>\n",
       "      <td>H2O.ai</td>\n",
       "      <td>http://h2o.ai/</td>\n",
       "      <td>Analytics</td>\n",
       "      <td>operating</td>\n",
       "      <td>USA</td>\n",
       "      <td>CA</td>\n",
       "      <td>SF Bay Area</td>\n",
       "      <td>Mountain View</td>\n",
       "      <td>01-01-2011</td>\n",
       "      <td>0xdata</td>\n",
       "      <td>/organization/0xdata</td>\n",
       "      <td>/funding-round/e1cfcbe1bdf4c70277c5f29a3482f24e</td>\n",
       "      <td>venture</td>\n",
       "      <td>A</td>\n",
       "      <td>19-07-2014</td>\n",
       "      <td>8900000.0</td>\n",
       "      <td>Analytics</td>\n",
       "    </tr>\n",
       "    <tr>\n",
       "      <th>...</th>\n",
       "      <td>...</td>\n",
       "      <td>...</td>\n",
       "      <td>...</td>\n",
       "      <td>...</td>\n",
       "      <td>...</td>\n",
       "      <td>...</td>\n",
       "      <td>...</td>\n",
       "      <td>...</td>\n",
       "      <td>...</td>\n",
       "      <td>...</td>\n",
       "      <td>...</td>\n",
       "      <td>...</td>\n",
       "      <td>...</td>\n",
       "      <td>...</td>\n",
       "      <td>...</td>\n",
       "      <td>...</td>\n",
       "      <td>...</td>\n",
       "      <td>...</td>\n",
       "    </tr>\n",
       "    <tr>\n",
       "      <th>114913</th>\n",
       "      <td>/Organization/Zyomyx-Inc</td>\n",
       "      <td>ZYOMYX</td>\n",
       "      <td>http://www.zyomyx.com</td>\n",
       "      <td>Biotechnology</td>\n",
       "      <td>operating</td>\n",
       "      <td>USA</td>\n",
       "      <td>MO</td>\n",
       "      <td>MO - Other</td>\n",
       "      <td>Fremont</td>\n",
       "      <td>01-01-1998</td>\n",
       "      <td>zyomyx-inc</td>\n",
       "      <td>/organization/zyomyx-inc</td>\n",
       "      <td>/funding-round/4191cb5258d3863b0212d1083881da64</td>\n",
       "      <td>venture</td>\n",
       "      <td>B</td>\n",
       "      <td>30-06-2013</td>\n",
       "      <td>12000000.0</td>\n",
       "      <td>Biotechnology</td>\n",
       "    </tr>\n",
       "    <tr>\n",
       "      <th>114915</th>\n",
       "      <td>/Organization/Zyomyx-Inc</td>\n",
       "      <td>ZYOMYX</td>\n",
       "      <td>http://www.zyomyx.com</td>\n",
       "      <td>Biotechnology</td>\n",
       "      <td>operating</td>\n",
       "      <td>USA</td>\n",
       "      <td>MO</td>\n",
       "      <td>MO - Other</td>\n",
       "      <td>Fremont</td>\n",
       "      <td>01-01-1998</td>\n",
       "      <td>zyomyx-inc</td>\n",
       "      <td>/organization/zyomyx-inc</td>\n",
       "      <td>/funding-round/b4fce7f8a13267353d57db09099800e8</td>\n",
       "      <td>venture</td>\n",
       "      <td>NaN</td>\n",
       "      <td>11-07-2013</td>\n",
       "      <td>14219999.0</td>\n",
       "      <td>Biotechnology</td>\n",
       "    </tr>\n",
       "    <tr>\n",
       "      <th>114916</th>\n",
       "      <td>/Organization/Zyomyx-Inc</td>\n",
       "      <td>ZYOMYX</td>\n",
       "      <td>http://www.zyomyx.com</td>\n",
       "      <td>Biotechnology</td>\n",
       "      <td>operating</td>\n",
       "      <td>USA</td>\n",
       "      <td>MO</td>\n",
       "      <td>MO - Other</td>\n",
       "      <td>Fremont</td>\n",
       "      <td>01-01-1998</td>\n",
       "      <td>zyomyx-inc</td>\n",
       "      <td>/ORGANIZATION/ZYOMYX-INC</td>\n",
       "      <td>/funding-round/ea5b21da6cf999ff4d5667431fe318d7</td>\n",
       "      <td>venture</td>\n",
       "      <td>NaN</td>\n",
       "      <td>29-01-2010</td>\n",
       "      <td>555016.0</td>\n",
       "      <td>Biotechnology</td>\n",
       "    </tr>\n",
       "    <tr>\n",
       "      <th>114927</th>\n",
       "      <td>/Organization/Zyrra</td>\n",
       "      <td>Zyrra</td>\n",
       "      <td>http://www.zyrra.com</td>\n",
       "      <td>E-Commerce</td>\n",
       "      <td>operating</td>\n",
       "      <td>USA</td>\n",
       "      <td>MA</td>\n",
       "      <td>Boston</td>\n",
       "      <td>Cambridge</td>\n",
       "      <td>NaN</td>\n",
       "      <td>zyrra</td>\n",
       "      <td>/organization/zyrra</td>\n",
       "      <td>/funding-round/7a0fa791c96c9c447ee54662395beab9</td>\n",
       "      <td>venture</td>\n",
       "      <td>NaN</td>\n",
       "      <td>18-10-2012</td>\n",
       "      <td>140500.0</td>\n",
       "      <td>E-Commerce</td>\n",
       "    </tr>\n",
       "    <tr>\n",
       "      <th>114929</th>\n",
       "      <td>/Organization/Zystor</td>\n",
       "      <td>Zystor</td>\n",
       "      <td>http://www.zystor.com</td>\n",
       "      <td>Biotechnology</td>\n",
       "      <td>acquired</td>\n",
       "      <td>USA</td>\n",
       "      <td>WI</td>\n",
       "      <td>Milwaukee</td>\n",
       "      <td>Milwaukee</td>\n",
       "      <td>NaN</td>\n",
       "      <td>zystor</td>\n",
       "      <td>/organization/zystor</td>\n",
       "      <td>/funding-round/7ea37c0ff4132b084832039a9380d34e</td>\n",
       "      <td>venture</td>\n",
       "      <td>A</td>\n",
       "      <td>16-12-2004</td>\n",
       "      <td>8500000.0</td>\n",
       "      <td>Biotechnology</td>\n",
       "    </tr>\n",
       "  </tbody>\n",
       "</table>\n",
       "<p>40758 rows × 18 columns</p>\n",
       "</div>"
      ],
      "text/plain": [
       "                                  permalink                    name  \\\n",
       "0                       /Organization/-Fame                   #fame   \n",
       "8       /Organization/0Ndine-Biomedical-Inc  Ondine Biomedical Inc.   \n",
       "10                     /Organization/0Xdata                  H2O.ai   \n",
       "11                     /Organization/0Xdata                  H2O.ai   \n",
       "12                     /Organization/0Xdata                  H2O.ai   \n",
       "...                                     ...                     ...   \n",
       "114913             /Organization/Zyomyx-Inc                  ZYOMYX   \n",
       "114915             /Organization/Zyomyx-Inc                  ZYOMYX   \n",
       "114916             /Organization/Zyomyx-Inc                  ZYOMYX   \n",
       "114927                  /Organization/Zyrra                   Zyrra   \n",
       "114929                 /Organization/Zystor                  Zystor   \n",
       "\n",
       "                 homepage_url  category_list     status country_code  \\\n",
       "0          http://livfame.com          Media  operating          IND   \n",
       "8        http://ondinebio.com  Biotechnology  operating          CAN   \n",
       "10             http://h2o.ai/      Analytics  operating          USA   \n",
       "11             http://h2o.ai/      Analytics  operating          USA   \n",
       "12             http://h2o.ai/      Analytics  operating          USA   \n",
       "...                       ...            ...        ...          ...   \n",
       "114913  http://www.zyomyx.com  Biotechnology  operating          USA   \n",
       "114915  http://www.zyomyx.com  Biotechnology  operating          USA   \n",
       "114916  http://www.zyomyx.com  Biotechnology  operating          USA   \n",
       "114927   http://www.zyrra.com     E-Commerce  operating          USA   \n",
       "114929  http://www.zystor.com  Biotechnology   acquired          USA   \n",
       "\n",
       "       state_code       region           city  founded_at  \\\n",
       "0              16       Mumbai         Mumbai         NaN   \n",
       "8              BC    Vancouver      Vancouver  01-01-1997   \n",
       "10             CA  SF Bay Area  Mountain View  01-01-2011   \n",
       "11             CA  SF Bay Area  Mountain View  01-01-2011   \n",
       "12             CA  SF Bay Area  Mountain View  01-01-2011   \n",
       "...           ...          ...            ...         ...   \n",
       "114913         MO   MO - Other        Fremont  01-01-1998   \n",
       "114915         MO   MO - Other        Fremont  01-01-1998   \n",
       "114916         MO   MO - Other        Fremont  01-01-1998   \n",
       "114927         MA       Boston      Cambridge         NaN   \n",
       "114929         WI    Milwaukee      Milwaukee         NaN   \n",
       "\n",
       "                 company_name                    company_permalink  \\\n",
       "0                        fame                  /organization/-fame   \n",
       "8       0ndine-biomedical-inc  /organization/0ndine-biomedical-inc   \n",
       "10                     0xdata                 /organization/0xdata   \n",
       "11                     0xdata                 /ORGANIZATION/0XDATA   \n",
       "12                     0xdata                 /organization/0xdata   \n",
       "...                       ...                                  ...   \n",
       "114913             zyomyx-inc             /organization/zyomyx-inc   \n",
       "114915             zyomyx-inc             /organization/zyomyx-inc   \n",
       "114916             zyomyx-inc             /ORGANIZATION/ZYOMYX-INC   \n",
       "114927                  zyrra                  /organization/zyrra   \n",
       "114929                 zystor                 /organization/zystor   \n",
       "\n",
       "                                funding_round_permalink funding_round_type  \\\n",
       "0       /funding-round/9a01d05418af9f794eebff7ace91f638            venture   \n",
       "8       /funding-round/954b9499724b946ad8c396a57a5f3b72            venture   \n",
       "10      /funding-round/3bb2ee4a2d89251a10aaa735b1180e44            venture   \n",
       "11      /funding-round/ae2a174c06517c2394aed45006322a7e            venture   \n",
       "12      /funding-round/e1cfcbe1bdf4c70277c5f29a3482f24e            venture   \n",
       "...                                                 ...                ...   \n",
       "114913  /funding-round/4191cb5258d3863b0212d1083881da64            venture   \n",
       "114915  /funding-round/b4fce7f8a13267353d57db09099800e8            venture   \n",
       "114916  /funding-round/ea5b21da6cf999ff4d5667431fe318d7            venture   \n",
       "114927  /funding-round/7a0fa791c96c9c447ee54662395beab9            venture   \n",
       "114929  /funding-round/7ea37c0ff4132b084832039a9380d34e            venture   \n",
       "\n",
       "       funding_round_code   funded_at  raised_amount_usd primary_sector  \n",
       "0                       B  05-01-2015         10000000.0          Media  \n",
       "8                     NaN  21-12-2009           719491.0  Biotechnology  \n",
       "10                      B  09-11-2015         20000000.0      Analytics  \n",
       "11                    NaN  03-01-2013          1700000.0      Analytics  \n",
       "12                      A  19-07-2014          8900000.0      Analytics  \n",
       "...                   ...         ...                ...            ...  \n",
       "114913                  B  30-06-2013         12000000.0  Biotechnology  \n",
       "114915                NaN  11-07-2013         14219999.0  Biotechnology  \n",
       "114916                NaN  29-01-2010           555016.0  Biotechnology  \n",
       "114927                NaN  18-10-2012           140500.0     E-Commerce  \n",
       "114929                  A  16-12-2004          8500000.0  Biotechnology  \n",
       "\n",
       "[40758 rows x 18 columns]"
      ]
     },
     "execution_count": 177,
     "metadata": {},
     "output_type": "execute_result"
    }
   ],
   "source": [
    "top9_1"
   ]
  },
  {
   "cell_type": "code",
   "execution_count": 178,
   "metadata": {},
   "outputs": [
    {
     "data": {
      "text/plain": [
       "0"
      ]
     },
     "execution_count": 178,
     "metadata": {},
     "output_type": "execute_result"
    }
   ],
   "source": [
    "top9_1.category_list.isnull().sum()"
   ]
  },
  {
   "cell_type": "code",
   "execution_count": 179,
   "metadata": {},
   "outputs": [
    {
     "data": {
      "text/plain": [
       "Biotechnology                                                               4840\n",
       "Software                                                                    3419\n",
       "Health Care                                                                 1253\n",
       "Clean Technology                                                            1113\n",
       "Enterprise Software                                                         1058\n",
       "                                                                            ... \n",
       "Communications Infrastructure|Internet of Things|Transportation|Wireless       1\n",
       "Internet|Networking|Wireless                                                   1\n",
       "Bio-Pharm|Pharmaceuticals|Therapeutics                                         1\n",
       "Crowdfunding|Finance|FinTech|Startups|Technology|Venture Capital               1\n",
       "Energy|Innovation Management|Technology                                        1\n",
       "Name: category_list, Length: 8319, dtype: int64"
      ]
     },
     "execution_count": 179,
     "metadata": {},
     "output_type": "execute_result"
    }
   ],
   "source": [
    "top9_1.category_list.value_counts()"
   ]
  },
  {
   "cell_type": "code",
   "execution_count": 186,
   "metadata": {},
   "outputs": [
    {
     "data": {
      "text/plain": [
       "0                 Media\n",
       "8         Biotechnology\n",
       "10            Analytics\n",
       "11            Analytics\n",
       "12            Analytics\n",
       "              ...      \n",
       "114913    Biotechnology\n",
       "114915    Biotechnology\n",
       "114916    Biotechnology\n",
       "114927       E-Commerce\n",
       "114929    Biotechnology\n",
       "Name: category_list, Length: 40758, dtype: object"
      ]
     },
     "execution_count": 186,
     "metadata": {},
     "output_type": "execute_result"
    }
   ],
   "source": [
    "top9_1['category_list'].astype(str)"
   ]
  },
  {
   "cell_type": "code",
   "execution_count": 188,
   "metadata": {},
   "outputs": [
    {
     "data": {
      "text/plain": [
       "0                 Media\n",
       "8         Biotechnology\n",
       "10            Analytics\n",
       "11            Analytics\n",
       "12            Analytics\n",
       "              ...      \n",
       "114913    Biotechnology\n",
       "114915    Biotechnology\n",
       "114916    Biotechnology\n",
       "114927       E-Commerce\n",
       "114929    Biotechnology\n",
       "Name: category_list, Length: 40758, dtype: object"
      ]
     },
     "execution_count": 188,
     "metadata": {},
     "output_type": "execute_result"
    }
   ],
   "source": [
    "top9_1.category_list.apply(lambda x : x.replace(\"\\n\",\"\"))"
   ]
  },
  {
   "cell_type": "code",
   "execution_count": 191,
   "metadata": {},
   "outputs": [],
   "source": [
    "top9_2 = top9_1[top9_1['category_list'].notnull()].copy()\n",
    "top9_2['category_list'] = top9_2['category_list'].astype(str)"
   ]
  },
  {
   "cell_type": "code",
   "execution_count": 192,
   "metadata": {},
   "outputs": [
    {
     "data": {
      "text/plain": [
       "(40758, 18)"
      ]
     },
     "execution_count": 192,
     "metadata": {},
     "output_type": "execute_result"
    }
   ],
   "source": [
    "top9_2.shape"
   ]
  },
  {
   "cell_type": "code",
   "execution_count": 193,
   "metadata": {},
   "outputs": [
    {
     "data": {
      "text/plain": [
       "(40758, 18)"
      ]
     },
     "execution_count": 193,
     "metadata": {},
     "output_type": "execute_result"
    }
   ],
   "source": [
    "top9_1.shape"
   ]
  },
  {
   "cell_type": "code",
   "execution_count": 194,
   "metadata": {},
   "outputs": [],
   "source": [
    "top9_2.category_list = top9_2.category_list.apply(lambda x : x.replace(\"\\n\",\"\"))"
   ]
  },
  {
   "cell_type": "code",
   "execution_count": 195,
   "metadata": {},
   "outputs": [],
   "source": [
    "top9_2['primary_sector'] = top9_2.category_list.apply(lambda x : x.split(\"|\")[0])"
   ]
  },
  {
   "cell_type": "code",
   "execution_count": 197,
   "metadata": {},
   "outputs": [
    {
     "data": {
      "text/html": [
       "<div>\n",
       "<style scoped>\n",
       "    .dataframe tbody tr th:only-of-type {\n",
       "        vertical-align: middle;\n",
       "    }\n",
       "\n",
       "    .dataframe tbody tr th {\n",
       "        vertical-align: top;\n",
       "    }\n",
       "\n",
       "    .dataframe thead th {\n",
       "        text-align: right;\n",
       "    }\n",
       "</style>\n",
       "<table border=\"1\" class=\"dataframe\">\n",
       "  <thead>\n",
       "    <tr style=\"text-align: right;\">\n",
       "      <th></th>\n",
       "      <th>permalink</th>\n",
       "      <th>name</th>\n",
       "      <th>homepage_url</th>\n",
       "      <th>category_list</th>\n",
       "      <th>status</th>\n",
       "      <th>country_code</th>\n",
       "      <th>state_code</th>\n",
       "      <th>region</th>\n",
       "      <th>city</th>\n",
       "      <th>founded_at</th>\n",
       "      <th>company_name</th>\n",
       "      <th>company_permalink</th>\n",
       "      <th>funding_round_permalink</th>\n",
       "      <th>funding_round_type</th>\n",
       "      <th>funding_round_code</th>\n",
       "      <th>funded_at</th>\n",
       "      <th>raised_amount_usd</th>\n",
       "      <th>primary_sector</th>\n",
       "    </tr>\n",
       "  </thead>\n",
       "  <tbody>\n",
       "    <tr>\n",
       "      <th>114913</th>\n",
       "      <td>/Organization/Zyomyx-Inc</td>\n",
       "      <td>ZYOMYX</td>\n",
       "      <td>http://www.zyomyx.com</td>\n",
       "      <td>Biotechnology</td>\n",
       "      <td>operating</td>\n",
       "      <td>USA</td>\n",
       "      <td>MO</td>\n",
       "      <td>MO - Other</td>\n",
       "      <td>Fremont</td>\n",
       "      <td>01-01-1998</td>\n",
       "      <td>zyomyx-inc</td>\n",
       "      <td>/organization/zyomyx-inc</td>\n",
       "      <td>/funding-round/4191cb5258d3863b0212d1083881da64</td>\n",
       "      <td>venture</td>\n",
       "      <td>B</td>\n",
       "      <td>30-06-2013</td>\n",
       "      <td>12000000.0</td>\n",
       "      <td>Biotechnology</td>\n",
       "    </tr>\n",
       "    <tr>\n",
       "      <th>114915</th>\n",
       "      <td>/Organization/Zyomyx-Inc</td>\n",
       "      <td>ZYOMYX</td>\n",
       "      <td>http://www.zyomyx.com</td>\n",
       "      <td>Biotechnology</td>\n",
       "      <td>operating</td>\n",
       "      <td>USA</td>\n",
       "      <td>MO</td>\n",
       "      <td>MO - Other</td>\n",
       "      <td>Fremont</td>\n",
       "      <td>01-01-1998</td>\n",
       "      <td>zyomyx-inc</td>\n",
       "      <td>/organization/zyomyx-inc</td>\n",
       "      <td>/funding-round/b4fce7f8a13267353d57db09099800e8</td>\n",
       "      <td>venture</td>\n",
       "      <td>NaN</td>\n",
       "      <td>11-07-2013</td>\n",
       "      <td>14219999.0</td>\n",
       "      <td>Biotechnology</td>\n",
       "    </tr>\n",
       "    <tr>\n",
       "      <th>114916</th>\n",
       "      <td>/Organization/Zyomyx-Inc</td>\n",
       "      <td>ZYOMYX</td>\n",
       "      <td>http://www.zyomyx.com</td>\n",
       "      <td>Biotechnology</td>\n",
       "      <td>operating</td>\n",
       "      <td>USA</td>\n",
       "      <td>MO</td>\n",
       "      <td>MO - Other</td>\n",
       "      <td>Fremont</td>\n",
       "      <td>01-01-1998</td>\n",
       "      <td>zyomyx-inc</td>\n",
       "      <td>/ORGANIZATION/ZYOMYX-INC</td>\n",
       "      <td>/funding-round/ea5b21da6cf999ff4d5667431fe318d7</td>\n",
       "      <td>venture</td>\n",
       "      <td>NaN</td>\n",
       "      <td>29-01-2010</td>\n",
       "      <td>555016.0</td>\n",
       "      <td>Biotechnology</td>\n",
       "    </tr>\n",
       "    <tr>\n",
       "      <th>114927</th>\n",
       "      <td>/Organization/Zyrra</td>\n",
       "      <td>Zyrra</td>\n",
       "      <td>http://www.zyrra.com</td>\n",
       "      <td>E-Commerce</td>\n",
       "      <td>operating</td>\n",
       "      <td>USA</td>\n",
       "      <td>MA</td>\n",
       "      <td>Boston</td>\n",
       "      <td>Cambridge</td>\n",
       "      <td>NaN</td>\n",
       "      <td>zyrra</td>\n",
       "      <td>/organization/zyrra</td>\n",
       "      <td>/funding-round/7a0fa791c96c9c447ee54662395beab9</td>\n",
       "      <td>venture</td>\n",
       "      <td>NaN</td>\n",
       "      <td>18-10-2012</td>\n",
       "      <td>140500.0</td>\n",
       "      <td>E-Commerce</td>\n",
       "    </tr>\n",
       "    <tr>\n",
       "      <th>114929</th>\n",
       "      <td>/Organization/Zystor</td>\n",
       "      <td>Zystor</td>\n",
       "      <td>http://www.zystor.com</td>\n",
       "      <td>Biotechnology</td>\n",
       "      <td>acquired</td>\n",
       "      <td>USA</td>\n",
       "      <td>WI</td>\n",
       "      <td>Milwaukee</td>\n",
       "      <td>Milwaukee</td>\n",
       "      <td>NaN</td>\n",
       "      <td>zystor</td>\n",
       "      <td>/organization/zystor</td>\n",
       "      <td>/funding-round/7ea37c0ff4132b084832039a9380d34e</td>\n",
       "      <td>venture</td>\n",
       "      <td>A</td>\n",
       "      <td>16-12-2004</td>\n",
       "      <td>8500000.0</td>\n",
       "      <td>Biotechnology</td>\n",
       "    </tr>\n",
       "  </tbody>\n",
       "</table>\n",
       "</div>"
      ],
      "text/plain": [
       "                       permalink    name           homepage_url  \\\n",
       "114913  /Organization/Zyomyx-Inc  ZYOMYX  http://www.zyomyx.com   \n",
       "114915  /Organization/Zyomyx-Inc  ZYOMYX  http://www.zyomyx.com   \n",
       "114916  /Organization/Zyomyx-Inc  ZYOMYX  http://www.zyomyx.com   \n",
       "114927       /Organization/Zyrra   Zyrra   http://www.zyrra.com   \n",
       "114929      /Organization/Zystor  Zystor  http://www.zystor.com   \n",
       "\n",
       "        category_list     status country_code state_code      region  \\\n",
       "114913  Biotechnology  operating          USA         MO  MO - Other   \n",
       "114915  Biotechnology  operating          USA         MO  MO - Other   \n",
       "114916  Biotechnology  operating          USA         MO  MO - Other   \n",
       "114927     E-Commerce  operating          USA         MA      Boston   \n",
       "114929  Biotechnology   acquired          USA         WI   Milwaukee   \n",
       "\n",
       "             city  founded_at company_name         company_permalink  \\\n",
       "114913    Fremont  01-01-1998   zyomyx-inc  /organization/zyomyx-inc   \n",
       "114915    Fremont  01-01-1998   zyomyx-inc  /organization/zyomyx-inc   \n",
       "114916    Fremont  01-01-1998   zyomyx-inc  /ORGANIZATION/ZYOMYX-INC   \n",
       "114927  Cambridge         NaN        zyrra       /organization/zyrra   \n",
       "114929  Milwaukee         NaN       zystor      /organization/zystor   \n",
       "\n",
       "                                funding_round_permalink funding_round_type  \\\n",
       "114913  /funding-round/4191cb5258d3863b0212d1083881da64            venture   \n",
       "114915  /funding-round/b4fce7f8a13267353d57db09099800e8            venture   \n",
       "114916  /funding-round/ea5b21da6cf999ff4d5667431fe318d7            venture   \n",
       "114927  /funding-round/7a0fa791c96c9c447ee54662395beab9            venture   \n",
       "114929  /funding-round/7ea37c0ff4132b084832039a9380d34e            venture   \n",
       "\n",
       "       funding_round_code   funded_at  raised_amount_usd primary_sector  \n",
       "114913                  B  30-06-2013         12000000.0  Biotechnology  \n",
       "114915                NaN  11-07-2013         14219999.0  Biotechnology  \n",
       "114916                NaN  29-01-2010           555016.0  Biotechnology  \n",
       "114927                NaN  18-10-2012           140500.0     E-Commerce  \n",
       "114929                  A  16-12-2004          8500000.0  Biotechnology  "
      ]
     },
     "execution_count": 197,
     "metadata": {},
     "output_type": "execute_result"
    }
   ],
   "source": [
    "top9_2.tail()"
   ]
  },
  {
   "cell_type": "code",
   "execution_count": 208,
   "metadata": {},
   "outputs": [
    {
     "data": {
      "text/html": [
       "<div>\n",
       "<style scoped>\n",
       "    .dataframe tbody tr th:only-of-type {\n",
       "        vertical-align: middle;\n",
       "    }\n",
       "\n",
       "    .dataframe tbody tr th {\n",
       "        vertical-align: top;\n",
       "    }\n",
       "\n",
       "    .dataframe thead th {\n",
       "        text-align: right;\n",
       "    }\n",
       "</style>\n",
       "<table border=\"1\" class=\"dataframe\">\n",
       "  <thead>\n",
       "    <tr style=\"text-align: right;\">\n",
       "      <th></th>\n",
       "      <th>permalink</th>\n",
       "      <th>name</th>\n",
       "      <th>homepage_url</th>\n",
       "      <th>category_list</th>\n",
       "      <th>status</th>\n",
       "      <th>country_code</th>\n",
       "      <th>state_code</th>\n",
       "      <th>region</th>\n",
       "      <th>city</th>\n",
       "      <th>founded_at</th>\n",
       "      <th>company_name</th>\n",
       "      <th>company_permalink</th>\n",
       "      <th>funding_round_permalink</th>\n",
       "      <th>funding_round_type</th>\n",
       "      <th>funding_round_code</th>\n",
       "      <th>funded_at</th>\n",
       "      <th>raised_amount_usd</th>\n",
       "      <th>primary_sector</th>\n",
       "    </tr>\n",
       "  </thead>\n",
       "  <tbody>\n",
       "    <tr>\n",
       "      <th>129</th>\n",
       "      <td>/Organization/16-Mile-Solutions</td>\n",
       "      <td>16 Mile Solutions</td>\n",
       "      <td>NaN</td>\n",
       "      <td>Software</td>\n",
       "      <td>operating</td>\n",
       "      <td>USA</td>\n",
       "      <td>WA</td>\n",
       "      <td>Seattle</td>\n",
       "      <td>Seattle</td>\n",
       "      <td>01-01-2006</td>\n",
       "      <td>16-mile-solutions</td>\n",
       "      <td>/ORGANIZATION/16-MILE-SOLUTIONS</td>\n",
       "      <td>/funding-round/3a671cf6f08fe5d0a878f5627134384c</td>\n",
       "      <td>venture</td>\n",
       "      <td>NaN</td>\n",
       "      <td>11-06-2009</td>\n",
       "      <td>199957.0</td>\n",
       "      <td>Software</td>\n",
       "    </tr>\n",
       "    <tr>\n",
       "      <th>146</th>\n",
       "      <td>/Organization/180Solutions</td>\n",
       "      <td>180Solutions</td>\n",
       "      <td>NaN</td>\n",
       "      <td>Advertising|Advertising Platforms|Promotional</td>\n",
       "      <td>closed</td>\n",
       "      <td>USA</td>\n",
       "      <td>WA</td>\n",
       "      <td>Seattle</td>\n",
       "      <td>Bellevue</td>\n",
       "      <td>NaN</td>\n",
       "      <td>180solutions</td>\n",
       "      <td>/organization/180solutions</td>\n",
       "      <td>/funding-round/e55f5f2b9ee65826cc5bf2e1cc2eec9e</td>\n",
       "      <td>venture</td>\n",
       "      <td>A</td>\n",
       "      <td>05-04-2004</td>\n",
       "      <td>40000000.0</td>\n",
       "      <td>Advertising</td>\n",
       "    </tr>\n",
       "    <tr>\n",
       "      <th>167</th>\n",
       "      <td>/Organization/1Energy-Systems</td>\n",
       "      <td>1Energy Systems</td>\n",
       "      <td>http://1energysystems.com</td>\n",
       "      <td>Software</td>\n",
       "      <td>operating</td>\n",
       "      <td>USA</td>\n",
       "      <td>WA</td>\n",
       "      <td>Seattle</td>\n",
       "      <td>Seattle</td>\n",
       "      <td>01-01-2010</td>\n",
       "      <td>1energy-systems</td>\n",
       "      <td>/ORGANIZATION/1ENERGY-SYSTEMS</td>\n",
       "      <td>/funding-round/0502de190cb6fd03ba9435767080bcdb</td>\n",
       "      <td>venture</td>\n",
       "      <td>NaN</td>\n",
       "      <td>22-04-2013</td>\n",
       "      <td>1450000.0</td>\n",
       "      <td>Software</td>\n",
       "    </tr>\n",
       "    <tr>\n",
       "      <th>327</th>\n",
       "      <td>/Organization/2Nd-Watch</td>\n",
       "      <td>2nd Watch</td>\n",
       "      <td>http://2ndwatch.com</td>\n",
       "      <td>Cloud Infrastructure|Corporate IT|Enterprise S...</td>\n",
       "      <td>operating</td>\n",
       "      <td>USA</td>\n",
       "      <td>WA</td>\n",
       "      <td>Seattle</td>\n",
       "      <td>Seattle</td>\n",
       "      <td>01-01-2010</td>\n",
       "      <td>2nd-watch</td>\n",
       "      <td>/ORGANIZATION/2ND-WATCH</td>\n",
       "      <td>/funding-round/08108acd1a58480a1331ee7d4bc9abda</td>\n",
       "      <td>venture</td>\n",
       "      <td>C</td>\n",
       "      <td>14-10-2014</td>\n",
       "      <td>10000000.0</td>\n",
       "      <td>Cloud Infrastructure</td>\n",
       "    </tr>\n",
       "    <tr>\n",
       "      <th>328</th>\n",
       "      <td>/Organization/2Nd-Watch</td>\n",
       "      <td>2nd Watch</td>\n",
       "      <td>http://2ndwatch.com</td>\n",
       "      <td>Cloud Infrastructure|Corporate IT|Enterprise S...</td>\n",
       "      <td>operating</td>\n",
       "      <td>USA</td>\n",
       "      <td>WA</td>\n",
       "      <td>Seattle</td>\n",
       "      <td>Seattle</td>\n",
       "      <td>01-01-2010</td>\n",
       "      <td>2nd-watch</td>\n",
       "      <td>/organization/2nd-watch</td>\n",
       "      <td>/funding-round/6896177b78d57e903be44fd6a199f88b</td>\n",
       "      <td>venture</td>\n",
       "      <td>NaN</td>\n",
       "      <td>06-12-2011</td>\n",
       "      <td>490000.0</td>\n",
       "      <td>Cloud Infrastructure</td>\n",
       "    </tr>\n",
       "    <tr>\n",
       "      <th>...</th>\n",
       "      <td>...</td>\n",
       "      <td>...</td>\n",
       "      <td>...</td>\n",
       "      <td>...</td>\n",
       "      <td>...</td>\n",
       "      <td>...</td>\n",
       "      <td>...</td>\n",
       "      <td>...</td>\n",
       "      <td>...</td>\n",
       "      <td>...</td>\n",
       "      <td>...</td>\n",
       "      <td>...</td>\n",
       "      <td>...</td>\n",
       "      <td>...</td>\n",
       "      <td>...</td>\n",
       "      <td>...</td>\n",
       "      <td>...</td>\n",
       "      <td>...</td>\n",
       "    </tr>\n",
       "    <tr>\n",
       "      <th>114759</th>\n",
       "      <td>/Organization/Zulily</td>\n",
       "      <td>zulily</td>\n",
       "      <td>http://www.zulily.com</td>\n",
       "      <td>Babies|E-Commerce|Flash Sales|Kids|Retail|Spec...</td>\n",
       "      <td>acquired</td>\n",
       "      <td>USA</td>\n",
       "      <td>WA</td>\n",
       "      <td>Seattle</td>\n",
       "      <td>Seattle</td>\n",
       "      <td>01-01-2010</td>\n",
       "      <td>zulily</td>\n",
       "      <td>/organization/zulily</td>\n",
       "      <td>/funding-round/231238fae1987c6c11b45ef6c2f12d2c</td>\n",
       "      <td>venture</td>\n",
       "      <td>A</td>\n",
       "      <td>17-12-2009</td>\n",
       "      <td>4600000.0</td>\n",
       "      <td>Babies</td>\n",
       "    </tr>\n",
       "    <tr>\n",
       "      <th>114760</th>\n",
       "      <td>/Organization/Zulily</td>\n",
       "      <td>zulily</td>\n",
       "      <td>http://www.zulily.com</td>\n",
       "      <td>Babies|E-Commerce|Flash Sales|Kids|Retail|Spec...</td>\n",
       "      <td>acquired</td>\n",
       "      <td>USA</td>\n",
       "      <td>WA</td>\n",
       "      <td>Seattle</td>\n",
       "      <td>Seattle</td>\n",
       "      <td>01-01-2010</td>\n",
       "      <td>zulily</td>\n",
       "      <td>/ORGANIZATION/ZULILY</td>\n",
       "      <td>/funding-round/80316213cd2b73841ca57592b838b01a</td>\n",
       "      <td>venture</td>\n",
       "      <td>C</td>\n",
       "      <td>11-08-2011</td>\n",
       "      <td>43000000.0</td>\n",
       "      <td>Babies</td>\n",
       "    </tr>\n",
       "    <tr>\n",
       "      <th>114761</th>\n",
       "      <td>/Organization/Zulily</td>\n",
       "      <td>zulily</td>\n",
       "      <td>http://www.zulily.com</td>\n",
       "      <td>Babies|E-Commerce|Flash Sales|Kids|Retail|Spec...</td>\n",
       "      <td>acquired</td>\n",
       "      <td>USA</td>\n",
       "      <td>WA</td>\n",
       "      <td>Seattle</td>\n",
       "      <td>Seattle</td>\n",
       "      <td>01-01-2010</td>\n",
       "      <td>zulily</td>\n",
       "      <td>/organization/zulily</td>\n",
       "      <td>/funding-round/c1175b564b8b82aabf53839234e4bc39</td>\n",
       "      <td>venture</td>\n",
       "      <td>B</td>\n",
       "      <td>04-08-2010</td>\n",
       "      <td>6000000.0</td>\n",
       "      <td>Babies</td>\n",
       "    </tr>\n",
       "    <tr>\n",
       "      <th>114762</th>\n",
       "      <td>/Organization/Zulily</td>\n",
       "      <td>zulily</td>\n",
       "      <td>http://www.zulily.com</td>\n",
       "      <td>Babies|E-Commerce|Flash Sales|Kids|Retail|Spec...</td>\n",
       "      <td>acquired</td>\n",
       "      <td>USA</td>\n",
       "      <td>WA</td>\n",
       "      <td>Seattle</td>\n",
       "      <td>Seattle</td>\n",
       "      <td>01-01-2010</td>\n",
       "      <td>zulily</td>\n",
       "      <td>/ORGANIZATION/ZULILY</td>\n",
       "      <td>/funding-round/fe4ecba4141a1b51886811cebd1f91b8</td>\n",
       "      <td>venture</td>\n",
       "      <td>D</td>\n",
       "      <td>15-11-2012</td>\n",
       "      <td>85000000.0</td>\n",
       "      <td>Babies</td>\n",
       "    </tr>\n",
       "    <tr>\n",
       "      <th>114785</th>\n",
       "      <td>/Organization/Zumobi</td>\n",
       "      <td>Zumobi</td>\n",
       "      <td>http://www.zumobi.com</td>\n",
       "      <td>Mobile</td>\n",
       "      <td>operating</td>\n",
       "      <td>USA</td>\n",
       "      <td>WA</td>\n",
       "      <td>Seattle</td>\n",
       "      <td>Seattle</td>\n",
       "      <td>01-03-2007</td>\n",
       "      <td>zumobi</td>\n",
       "      <td>/organization/zumobi</td>\n",
       "      <td>/funding-round/7c851e1658d23b45351fb33c16a3d629</td>\n",
       "      <td>venture</td>\n",
       "      <td>A</td>\n",
       "      <td>07-05-2007</td>\n",
       "      <td>12000000.0</td>\n",
       "      <td>Mobile</td>\n",
       "    </tr>\n",
       "  </tbody>\n",
       "</table>\n",
       "<p>1377 rows × 18 columns</p>\n",
       "</div>"
      ],
      "text/plain": [
       "                              permalink               name  \\\n",
       "129     /Organization/16-Mile-Solutions  16 Mile Solutions   \n",
       "146          /Organization/180Solutions       180Solutions   \n",
       "167       /Organization/1Energy-Systems    1Energy Systems   \n",
       "327             /Organization/2Nd-Watch          2nd Watch   \n",
       "328             /Organization/2Nd-Watch          2nd Watch   \n",
       "...                                 ...                ...   \n",
       "114759             /Organization/Zulily             zulily   \n",
       "114760             /Organization/Zulily             zulily   \n",
       "114761             /Organization/Zulily             zulily   \n",
       "114762             /Organization/Zulily             zulily   \n",
       "114785             /Organization/Zumobi             Zumobi   \n",
       "\n",
       "                     homepage_url  \\\n",
       "129                           NaN   \n",
       "146                           NaN   \n",
       "167     http://1energysystems.com   \n",
       "327           http://2ndwatch.com   \n",
       "328           http://2ndwatch.com   \n",
       "...                           ...   \n",
       "114759      http://www.zulily.com   \n",
       "114760      http://www.zulily.com   \n",
       "114761      http://www.zulily.com   \n",
       "114762      http://www.zulily.com   \n",
       "114785      http://www.zumobi.com   \n",
       "\n",
       "                                            category_list     status  \\\n",
       "129                                              Software  operating   \n",
       "146         Advertising|Advertising Platforms|Promotional     closed   \n",
       "167                                              Software  operating   \n",
       "327     Cloud Infrastructure|Corporate IT|Enterprise S...  operating   \n",
       "328     Cloud Infrastructure|Corporate IT|Enterprise S...  operating   \n",
       "...                                                   ...        ...   \n",
       "114759  Babies|E-Commerce|Flash Sales|Kids|Retail|Spec...   acquired   \n",
       "114760  Babies|E-Commerce|Flash Sales|Kids|Retail|Spec...   acquired   \n",
       "114761  Babies|E-Commerce|Flash Sales|Kids|Retail|Spec...   acquired   \n",
       "114762  Babies|E-Commerce|Flash Sales|Kids|Retail|Spec...   acquired   \n",
       "114785                                             Mobile  operating   \n",
       "\n",
       "       country_code state_code   region      city  founded_at  \\\n",
       "129             USA         WA  Seattle   Seattle  01-01-2006   \n",
       "146             USA         WA  Seattle  Bellevue         NaN   \n",
       "167             USA         WA  Seattle   Seattle  01-01-2010   \n",
       "327             USA         WA  Seattle   Seattle  01-01-2010   \n",
       "328             USA         WA  Seattle   Seattle  01-01-2010   \n",
       "...             ...        ...      ...       ...         ...   \n",
       "114759          USA         WA  Seattle   Seattle  01-01-2010   \n",
       "114760          USA         WA  Seattle   Seattle  01-01-2010   \n",
       "114761          USA         WA  Seattle   Seattle  01-01-2010   \n",
       "114762          USA         WA  Seattle   Seattle  01-01-2010   \n",
       "114785          USA         WA  Seattle   Seattle  01-03-2007   \n",
       "\n",
       "             company_name                company_permalink  \\\n",
       "129     16-mile-solutions  /ORGANIZATION/16-MILE-SOLUTIONS   \n",
       "146          180solutions       /organization/180solutions   \n",
       "167       1energy-systems    /ORGANIZATION/1ENERGY-SYSTEMS   \n",
       "327             2nd-watch          /ORGANIZATION/2ND-WATCH   \n",
       "328             2nd-watch          /organization/2nd-watch   \n",
       "...                   ...                              ...   \n",
       "114759             zulily             /organization/zulily   \n",
       "114760             zulily             /ORGANIZATION/ZULILY   \n",
       "114761             zulily             /organization/zulily   \n",
       "114762             zulily             /ORGANIZATION/ZULILY   \n",
       "114785             zumobi             /organization/zumobi   \n",
       "\n",
       "                                funding_round_permalink funding_round_type  \\\n",
       "129     /funding-round/3a671cf6f08fe5d0a878f5627134384c            venture   \n",
       "146     /funding-round/e55f5f2b9ee65826cc5bf2e1cc2eec9e            venture   \n",
       "167     /funding-round/0502de190cb6fd03ba9435767080bcdb            venture   \n",
       "327     /funding-round/08108acd1a58480a1331ee7d4bc9abda            venture   \n",
       "328     /funding-round/6896177b78d57e903be44fd6a199f88b            venture   \n",
       "...                                                 ...                ...   \n",
       "114759  /funding-round/231238fae1987c6c11b45ef6c2f12d2c            venture   \n",
       "114760  /funding-round/80316213cd2b73841ca57592b838b01a            venture   \n",
       "114761  /funding-round/c1175b564b8b82aabf53839234e4bc39            venture   \n",
       "114762  /funding-round/fe4ecba4141a1b51886811cebd1f91b8            venture   \n",
       "114785  /funding-round/7c851e1658d23b45351fb33c16a3d629            venture   \n",
       "\n",
       "       funding_round_code   funded_at  raised_amount_usd        primary_sector  \n",
       "129                   NaN  11-06-2009           199957.0              Software  \n",
       "146                     A  05-04-2004         40000000.0           Advertising  \n",
       "167                   NaN  22-04-2013          1450000.0              Software  \n",
       "327                     C  14-10-2014         10000000.0  Cloud Infrastructure  \n",
       "328                   NaN  06-12-2011           490000.0  Cloud Infrastructure  \n",
       "...                   ...         ...                ...                   ...  \n",
       "114759                  A  17-12-2009          4600000.0                Babies  \n",
       "114760                  C  11-08-2011         43000000.0                Babies  \n",
       "114761                  B  04-08-2010          6000000.0                Babies  \n",
       "114762                  D  15-11-2012         85000000.0                Babies  \n",
       "114785                  A  07-05-2007         12000000.0                Mobile  \n",
       "\n",
       "[1377 rows x 18 columns]"
      ]
     },
     "execution_count": 208,
     "metadata": {},
     "output_type": "execute_result"
    }
   ],
   "source": [
    "top9_2[top9_2.state_code == 'WA']"
   ]
  },
  {
   "cell_type": "code",
   "execution_count": 209,
   "metadata": {},
   "outputs": [],
   "source": [
    "# Merging top9 and mapping dataframe\n",
    "master = pd.merge(top9_2,mapping_long_df_1, how=\"inner\", left_on=\"primary_sector\", right_on=\"category_list\")"
   ]
  },
  {
   "cell_type": "code",
   "execution_count": 210,
   "metadata": {},
   "outputs": [
    {
     "data": {
      "text/plain": [
       "Index(['permalink', 'name', 'homepage_url', 'category_list', 'status',\n",
       "       'country_code', 'state_code', 'region', 'city', 'founded_at',\n",
       "       'company_name', 'company_permalink', 'funding_round_permalink',\n",
       "       'funding_round_type', 'funding_round_code', 'funded_at',\n",
       "       'raised_amount_usd', 'primary_sector'],\n",
       "      dtype='object')"
      ]
     },
     "execution_count": 210,
     "metadata": {},
     "output_type": "execute_result"
    }
   ],
   "source": [
    "top9_2.columns"
   ]
  },
  {
   "cell_type": "code",
   "execution_count": 211,
   "metadata": {},
   "outputs": [
    {
     "data": {
      "text/plain": [
       "Index(['category_list', 'main_sector'], dtype='object')"
      ]
     },
     "execution_count": 211,
     "metadata": {},
     "output_type": "execute_result"
    }
   ],
   "source": [
    "mapping_long_df_1.columns"
   ]
  },
  {
   "cell_type": "code",
   "execution_count": 212,
   "metadata": {},
   "outputs": [
    {
     "data": {
      "text/plain": [
       "Index(['permalink', 'name', 'homepage_url', 'category_list_x', 'status',\n",
       "       'country_code', 'state_code', 'region', 'city', 'founded_at',\n",
       "       'company_name', 'company_permalink', 'funding_round_permalink',\n",
       "       'funding_round_type', 'funding_round_code', 'funded_at',\n",
       "       'raised_amount_usd', 'primary_sector', 'category_list_y',\n",
       "       'main_sector'],\n",
       "      dtype='object')"
      ]
     },
     "execution_count": 212,
     "metadata": {},
     "output_type": "execute_result"
    }
   ],
   "source": [
    "master.columns"
   ]
  },
  {
   "cell_type": "code",
   "execution_count": 215,
   "metadata": {},
   "outputs": [],
   "source": [
    "master = master.rename(columns={'category_list_x': 'category_list'})"
   ]
  },
  {
   "cell_type": "code",
   "execution_count": 216,
   "metadata": {},
   "outputs": [
    {
     "data": {
      "text/plain": [
       "Index(['permalink', 'name', 'homepage_url', 'category_list', 'status',\n",
       "       'country_code', 'state_code', 'region', 'city', 'founded_at',\n",
       "       'company_name', 'company_permalink', 'funding_round_permalink',\n",
       "       'funding_round_type', 'funding_round_code', 'funded_at',\n",
       "       'raised_amount_usd', 'primary_sector', 'main_sector'],\n",
       "      dtype='object')"
      ]
     },
     "execution_count": 216,
     "metadata": {},
     "output_type": "execute_result"
    }
   ],
   "source": [
    "master.columns"
   ]
  },
  {
   "cell_type": "code",
   "execution_count": 218,
   "metadata": {},
   "outputs": [
    {
     "data": {
      "text/plain": [
       "permalink                      0\n",
       "name                           0\n",
       "homepage_url                1796\n",
       "category_list                  0\n",
       "status                         0\n",
       "country_code                   0\n",
       "state_code                   289\n",
       "region                       175\n",
       "city                         175\n",
       "founded_at                  6263\n",
       "company_name                   0\n",
       "company_permalink              0\n",
       "funding_round_permalink        0\n",
       "funding_round_type             0\n",
       "funding_round_code         17686\n",
       "funded_at                      0\n",
       "raised_amount_usd              0\n",
       "primary_sector                 0\n",
       "main_sector                    0\n",
       "dtype: int64"
      ]
     },
     "execution_count": 218,
     "metadata": {},
     "output_type": "execute_result"
    }
   ],
   "source": [
    "master.isnull().sum()"
   ]
  },
  {
   "cell_type": "code",
   "execution_count": 219,
   "metadata": {},
   "outputs": [
    {
     "data": {
      "text/plain": [
       "venture    38026\n",
       "Name: funding_round_type, dtype: int64"
      ]
     },
     "execution_count": 219,
     "metadata": {},
     "output_type": "execute_result"
    }
   ],
   "source": [
    "master.funding_round_type.value_counts()"
   ]
  },
  {
   "cell_type": "code",
   "execution_count": 336,
   "metadata": {},
   "outputs": [],
   "source": [
    "# Top three English speaking countries seprate dataframes, D1: USA, D2: GBR, D3: IND\n",
    "# Investement funding within the 5-15 million USD range\n",
    "# Funding type \"venture\"\n",
    "D1 = master[(master.country_code == 'USA') & (master.raised_amount_usd > 5000000) & (master.raised_amount_usd < 15000000)]\n",
    "D2 = master[(master.country_code == 'GBR') & (master.raised_amount_usd > 5000000) & (master.raised_amount_usd < 15000000)]\n",
    "D3 = master[(master.country_code == 'IND') & (master.raised_amount_usd > 5000000) & (master.raised_amount_usd < 15000000)]"
   ]
  },
  {
   "cell_type": "code",
   "execution_count": 221,
   "metadata": {},
   "outputs": [
    {
     "data": {
      "text/plain": [
       "USA    9227\n",
       "Name: country_code, dtype: int64"
      ]
     },
     "execution_count": 221,
     "metadata": {},
     "output_type": "execute_result"
    }
   ],
   "source": [
    "D1.country_code.value_counts()"
   ]
  },
  {
   "cell_type": "code",
   "execution_count": 222,
   "metadata": {},
   "outputs": [
    {
     "data": {
      "text/plain": [
       "GBR    524\n",
       "Name: country_code, dtype: int64"
      ]
     },
     "execution_count": 222,
     "metadata": {},
     "output_type": "execute_result"
    }
   ],
   "source": [
    "D2.country_code.value_counts()"
   ]
  },
  {
   "cell_type": "code",
   "execution_count": 337,
   "metadata": {},
   "outputs": [
    {
     "data": {
      "text/plain": [
       "IND    222\n",
       "Name: country_code, dtype: int64"
      ]
     },
     "execution_count": 337,
     "metadata": {},
     "output_type": "execute_result"
    }
   ],
   "source": [
    "D3.country_code.value_counts()"
   ]
  },
  {
   "cell_type": "code",
   "execution_count": 225,
   "metadata": {},
   "outputs": [
    {
     "data": {
      "text/plain": [
       "(9227, 19)"
      ]
     },
     "execution_count": 225,
     "metadata": {},
     "output_type": "execute_result"
    }
   ],
   "source": [
    "# Total number of investments (count) for D1 country\n",
    "D1.shape"
   ]
  },
  {
   "cell_type": "code",
   "execution_count": 226,
   "metadata": {},
   "outputs": [
    {
     "data": {
      "text/plain": [
       "(524, 19)"
      ]
     },
     "execution_count": 226,
     "metadata": {},
     "output_type": "execute_result"
    }
   ],
   "source": [
    "# Total number of investments (count) for D2 country\n",
    "D2.shape"
   ]
  },
  {
   "cell_type": "code",
   "execution_count": 333,
   "metadata": {},
   "outputs": [
    {
     "data": {
      "text/plain": [
       "(222, 19)"
      ]
     },
     "execution_count": 333,
     "metadata": {},
     "output_type": "execute_result"
    }
   ],
   "source": [
    "# Total number of investments (count) for D3 country\n",
    "D3.shape"
   ]
  },
  {
   "cell_type": "code",
   "execution_count": 228,
   "metadata": {},
   "outputs": [
    {
     "data": {
      "text/plain": [
       "permalink                     0\n",
       "name                          0\n",
       "homepage_url                457\n",
       "category_list                 0\n",
       "status                        0\n",
       "country_code                  0\n",
       "state_code                    2\n",
       "region                        9\n",
       "city                          9\n",
       "founded_at                 1341\n",
       "company_name                  0\n",
       "company_permalink             0\n",
       "funding_round_permalink       0\n",
       "funding_round_type            0\n",
       "funding_round_code         2765\n",
       "funded_at                     0\n",
       "raised_amount_usd             0\n",
       "primary_sector                0\n",
       "main_sector                   0\n",
       "dtype: int64"
      ]
     },
     "execution_count": 228,
     "metadata": {},
     "output_type": "execute_result"
    }
   ],
   "source": [
    "D1.isnull().sum()"
   ]
  },
  {
   "cell_type": "code",
   "execution_count": 229,
   "metadata": {},
   "outputs": [
    {
     "data": {
      "text/plain": [
       "permalink                    0\n",
       "name                         0\n",
       "homepage_url                24\n",
       "category_list                0\n",
       "status                       0\n",
       "country_code                 0\n",
       "state_code                  13\n",
       "region                      27\n",
       "city                        27\n",
       "founded_at                 112\n",
       "company_name                 0\n",
       "company_permalink            0\n",
       "funding_round_permalink      0\n",
       "funding_round_type           0\n",
       "funding_round_code         198\n",
       "funded_at                    0\n",
       "raised_amount_usd            0\n",
       "primary_sector               0\n",
       "main_sector                  0\n",
       "dtype: int64"
      ]
     },
     "execution_count": 229,
     "metadata": {},
     "output_type": "execute_result"
    }
   ],
   "source": [
    "D2.isnull().sum()"
   ]
  },
  {
   "cell_type": "code",
   "execution_count": 338,
   "metadata": {},
   "outputs": [
    {
     "data": {
      "text/plain": [
       "permalink                   0\n",
       "name                        0\n",
       "homepage_url                2\n",
       "category_list               0\n",
       "status                      0\n",
       "country_code                0\n",
       "state_code                  0\n",
       "region                      0\n",
       "city                        0\n",
       "founded_at                 32\n",
       "company_name                0\n",
       "company_permalink           0\n",
       "funding_round_permalink     0\n",
       "funding_round_type          0\n",
       "funding_round_code         67\n",
       "funded_at                   0\n",
       "raised_amount_usd           0\n",
       "primary_sector              0\n",
       "main_sector                 0\n",
       "dtype: int64"
      ]
     },
     "execution_count": 338,
     "metadata": {},
     "output_type": "execute_result"
    }
   ],
   "source": [
    "D3.isnull().sum()"
   ]
  },
  {
   "cell_type": "code",
   "execution_count": 231,
   "metadata": {},
   "outputs": [
    {
     "data": {
      "text/plain": [
       "82391524549.0"
      ]
     },
     "execution_count": 231,
     "metadata": {},
     "output_type": "execute_result"
    }
   ],
   "source": [
    "# Total amount of investment (USD) for D1 country\n",
    "D1.raised_amount_usd.sum()"
   ]
  },
  {
   "cell_type": "code",
   "execution_count": 232,
   "metadata": {},
   "outputs": [
    {
     "data": {
      "text/plain": [
       "4593704358.0"
      ]
     },
     "execution_count": 232,
     "metadata": {},
     "output_type": "execute_result"
    }
   ],
   "source": [
    "# Total amount of investment (USD) for D2 country\n",
    "D2.raised_amount_usd.sum()"
   ]
  },
  {
   "cell_type": "code",
   "execution_count": 339,
   "metadata": {},
   "outputs": [
    {
     "data": {
      "text/plain": [
       "1998537552.0"
      ]
     },
     "execution_count": 339,
     "metadata": {},
     "output_type": "execute_result"
    }
   ],
   "source": [
    "# Total amount of investment (USD) for D3 country\n",
    "D3.raised_amount_usd.sum()"
   ]
  },
  {
   "cell_type": "code",
   "execution_count": 236,
   "metadata": {},
   "outputs": [],
   "source": [
    "# Top sector (based on sum of investments) for D1 country\n",
    "top_sector_D1 = D1.groupby(['main_sector'])['raised_amount_usd'].sum()"
   ]
  },
  {
   "cell_type": "code",
   "execution_count": 237,
   "metadata": {},
   "outputs": [
    {
     "data": {
      "text/plain": [
       "main_sector\n",
       "Others                                     2.153428e+10\n",
       "Cleantech / Semiconductors                 1.779600e+10\n",
       "Social, Finance, Analytics, Advertising    1.359070e+10\n",
       "News, Search and Messaging                 1.107682e+10\n",
       "Health                                     6.855859e+09\n",
       "Manufacturing                              6.228553e+09\n",
       "Entertainment                              4.040213e+09\n",
       "Automotive & Sports                        1.269104e+09\n",
       "Name: raised_amount_usd, dtype: float64"
      ]
     },
     "execution_count": 237,
     "metadata": {},
     "output_type": "execute_result"
    }
   ],
   "source": [
    "# Sorting them in descending order\n",
    "top_sector_D1.sort_values(ascending=False)"
   ]
  },
  {
   "cell_type": "code",
   "execution_count": 353,
   "metadata": {},
   "outputs": [],
   "source": [
    "# Top sector (based on sum of investments) for D2 country\n",
    "top_sector_D2 = D2.groupby(['main_sector'])['raised_amount_usd'].sum()"
   ]
  },
  {
   "cell_type": "code",
   "execution_count": 354,
   "metadata": {},
   "outputs": [
    {
     "data": {
      "text/plain": [
       "main_sector\n",
       "Cleantech / Semiconductors                 1.096905e+09\n",
       "Others                                     1.094124e+09\n",
       "Social, Finance, Analytics, Advertising    7.568884e+08\n",
       "News, Search and Messaging                 5.657462e+08\n",
       "Entertainment                              4.015111e+08\n",
       "Manufacturing                              3.319403e+08\n",
       "Health                                     2.095375e+08\n",
       "Automotive & Sports                        1.370516e+08\n",
       "Name: raised_amount_usd, dtype: float64"
      ]
     },
     "execution_count": 354,
     "metadata": {},
     "output_type": "execute_result"
    }
   ],
   "source": [
    "# Sorting them in descending order\n",
    "top_sector_D2.sort_values(ascending=False)"
   ]
  },
  {
   "cell_type": "code",
   "execution_count": 355,
   "metadata": {},
   "outputs": [],
   "source": [
    "# Top sector (based on sum of investments) for D3 country\n",
    "top_sector_D3 = D3.groupby(['main_sector'])['raised_amount_usd'].sum()"
   ]
  },
  {
   "cell_type": "code",
   "execution_count": 356,
   "metadata": {},
   "outputs": [
    {
     "data": {
      "text/plain": [
       "main_sector\n",
       "Others                                     697409507.0\n",
       "News, Search and Messaging                 368834545.0\n",
       "Social, Finance, Analytics, Advertising    215543500.0\n",
       "Entertainment                              200830000.0\n",
       "Manufacturing                              165900000.0\n",
       "Health                                     157740000.0\n",
       "Cleantech / Semiconductors                 125380000.0\n",
       "Automotive & Sports                         66900000.0\n",
       "Name: raised_amount_usd, dtype: float64"
      ]
     },
     "execution_count": 356,
     "metadata": {},
     "output_type": "execute_result"
    }
   ],
   "source": [
    "# Sorting them in descending order\n",
    "top_sector_D3.sort_values(ascending=False)"
   ]
  },
  {
   "cell_type": "code",
   "execution_count": 238,
   "metadata": {},
   "outputs": [
    {
     "data": {
      "text/plain": [
       "Others                                     2400\n",
       "Cleantech / Semiconductors                 1950\n",
       "Social, Finance, Analytics, Advertising    1550\n",
       "News, Search and Messaging                 1265\n",
       "Health                                      759\n",
       "Manufacturing                               691\n",
       "Entertainment                               470\n",
       "Automotive & Sports                         142\n",
       "Name: main_sector, dtype: int64"
      ]
     },
     "execution_count": 238,
     "metadata": {},
     "output_type": "execute_result"
    }
   ],
   "source": [
    "# Top sector (based on count of investments) for D1 country\n",
    "D1.main_sector.value_counts()"
   ]
  },
  {
   "cell_type": "code",
   "execution_count": 239,
   "metadata": {},
   "outputs": [
    {
     "data": {
      "text/plain": [
       "Others                                     126\n",
       "Cleantech / Semiconductors                 123\n",
       "Social, Finance, Analytics, Advertising     89\n",
       "News, Search and Messaging                  65\n",
       "Entertainment                               46\n",
       "Manufacturing                               38\n",
       "Health                                      23\n",
       "Automotive & Sports                         14\n",
       "Name: main_sector, dtype: int64"
      ]
     },
     "execution_count": 239,
     "metadata": {},
     "output_type": "execute_result"
    }
   ],
   "source": [
    "# Top sector (based on count of investments) for D2 country\n",
    "D2.main_sector.value_counts()"
   ]
  },
  {
   "cell_type": "code",
   "execution_count": 340,
   "metadata": {},
   "outputs": [
    {
     "data": {
      "text/plain": [
       "Others                                     77\n",
       "News, Search and Messaging                 41\n",
       "Social, Finance, Analytics, Advertising    25\n",
       "Entertainment                              23\n",
       "Manufacturing                              18\n",
       "Health                                     17\n",
       "Cleantech / Semiconductors                 14\n",
       "Automotive & Sports                         7\n",
       "Name: main_sector, dtype: int64"
      ]
     },
     "execution_count": 340,
     "metadata": {},
     "output_type": "execute_result"
    }
   ],
   "source": [
    "# Top sector (based on count of investments) for D3 country\n",
    "D3.main_sector.value_counts()"
   ]
  },
  {
   "cell_type": "code",
   "execution_count": 241,
   "metadata": {},
   "outputs": [],
   "source": [
    "# Company received the highest investement for D1 country and Others main sector\n",
    "top_company_sector_D1 = D1.groupby('company_name')['main_sector'].count()"
   ]
  },
  {
   "cell_type": "code",
   "execution_count": 242,
   "metadata": {},
   "outputs": [
    {
     "data": {
      "text/plain": [
       "company_name\n",
       "biodesix             8\n",
       "tigo-energy          7\n",
       "avnera               7\n",
       "choicestream         6\n",
       "patientkeeper        6\n",
       "                    ..\n",
       "oncopep              1\n",
       "one-medical-group    1\n",
       "one-true-media       1\n",
       "onechannel           1\n",
       "128-technology       1\n",
       "Name: main_sector, Length: 6795, dtype: int64"
      ]
     },
     "execution_count": 242,
     "metadata": {},
     "output_type": "execute_result"
    }
   ],
   "source": [
    "# Sorting them in descending order\n",
    "top_company_sector_D1.sort_values(ascending=False)"
   ]
  },
  {
   "cell_type": "code",
   "execution_count": 248,
   "metadata": {},
   "outputs": [
    {
     "data": {
      "text/plain": [
       "company_name       main_sector                            \n",
       "biodesix           Cleantech / Semiconductors                 8\n",
       "tigo-energy        Cleantech / Semiconductors                 7\n",
       "avnera             Entertainment                              7\n",
       "choicestream       Social, Finance, Analytics, Advertising    6\n",
       "patientkeeper      Health                                     6\n",
       "                                                             ..\n",
       "oncopep            Cleantech / Semiconductors                 1\n",
       "one-medical-group  Health                                     1\n",
       "one-true-media     Social, Finance, Analytics, Advertising    1\n",
       "onechannel         Entertainment                              1\n",
       "128-technology     Others                                     1\n",
       "Name: main_sector, Length: 6795, dtype: int64"
      ]
     },
     "execution_count": 248,
     "metadata": {},
     "output_type": "execute_result"
    }
   ],
   "source": [
    "(D1.groupby(['company_name','main_sector'])['main_sector'].count()).sort_values(ascending=False)"
   ]
  },
  {
   "cell_type": "code",
   "execution_count": 253,
   "metadata": {},
   "outputs": [
    {
     "data": {
      "text/plain": [
       "9227"
      ]
     },
     "execution_count": 253,
     "metadata": {},
     "output_type": "execute_result"
    }
   ],
   "source": [
    "(D1.main_sector == \"Others\").count()"
   ]
  },
  {
   "cell_type": "code",
   "execution_count": 251,
   "metadata": {},
   "outputs": [
    {
     "data": {
      "text/plain": [
       "9227"
      ]
     },
     "execution_count": 251,
     "metadata": {},
     "output_type": "execute_result"
    }
   ],
   "source": [
    "(D1.main_sector == 'Cleantech / Semiconductors').count()"
   ]
  },
  {
   "cell_type": "code",
   "execution_count": 254,
   "metadata": {},
   "outputs": [
    {
     "data": {
      "text/plain": [
       "Others                                     2400\n",
       "Cleantech / Semiconductors                 1950\n",
       "Social, Finance, Analytics, Advertising    1550\n",
       "News, Search and Messaging                 1265\n",
       "Health                                      759\n",
       "Manufacturing                               691\n",
       "Entertainment                               470\n",
       "Automotive & Sports                         142\n",
       "Name: main_sector, dtype: int64"
      ]
     },
     "execution_count": 254,
     "metadata": {},
     "output_type": "execute_result"
    }
   ],
   "source": [
    "D1.main_sector.value_counts()"
   ]
  },
  {
   "cell_type": "code",
   "execution_count": 265,
   "metadata": {},
   "outputs": [],
   "source": [
    "# Creating new dataframe for D1 Country for top sector 'Others'\n",
    "D1_1 = D1[D1.main_sector == \"Others\"]"
   ]
  },
  {
   "cell_type": "code",
   "execution_count": 266,
   "metadata": {},
   "outputs": [
    {
     "data": {
      "text/plain": [
       "(2400, 19)"
      ]
     },
     "execution_count": 266,
     "metadata": {},
     "output_type": "execute_result"
    }
   ],
   "source": [
    "D1_1.shape"
   ]
  },
  {
   "cell_type": "code",
   "execution_count": 272,
   "metadata": {},
   "outputs": [
    {
     "data": {
      "text/html": [
       "<div>\n",
       "<style scoped>\n",
       "    .dataframe tbody tr th:only-of-type {\n",
       "        vertical-align: middle;\n",
       "    }\n",
       "\n",
       "    .dataframe tbody tr th {\n",
       "        vertical-align: top;\n",
       "    }\n",
       "\n",
       "    .dataframe thead th {\n",
       "        text-align: right;\n",
       "    }\n",
       "</style>\n",
       "<table border=\"1\" class=\"dataframe\">\n",
       "  <thead>\n",
       "    <tr style=\"text-align: right;\">\n",
       "      <th></th>\n",
       "      <th>permalink</th>\n",
       "      <th>name</th>\n",
       "      <th>homepage_url</th>\n",
       "      <th>category_list</th>\n",
       "      <th>status</th>\n",
       "      <th>country_code</th>\n",
       "      <th>state_code</th>\n",
       "      <th>region</th>\n",
       "      <th>city</th>\n",
       "      <th>founded_at</th>\n",
       "      <th>company_name</th>\n",
       "      <th>company_permalink</th>\n",
       "      <th>funding_round_permalink</th>\n",
       "      <th>funding_round_type</th>\n",
       "      <th>funding_round_code</th>\n",
       "      <th>funded_at</th>\n",
       "      <th>raised_amount_usd</th>\n",
       "      <th>primary_sector</th>\n",
       "      <th>main_sector</th>\n",
       "    </tr>\n",
       "  </thead>\n",
       "  <tbody>\n",
       "    <tr>\n",
       "      <th>14440</th>\n",
       "      <td>/Organization/Spidercloud-Wireless</td>\n",
       "      <td>SpiderCloud Wireless</td>\n",
       "      <td>http://www.spidercloud.com</td>\n",
       "      <td>Enterprise Software</td>\n",
       "      <td>operating</td>\n",
       "      <td>USA</td>\n",
       "      <td>CA</td>\n",
       "      <td>SF Bay Area</td>\n",
       "      <td>San Jose</td>\n",
       "      <td>01-01-2007</td>\n",
       "      <td>spidercloud-wireless</td>\n",
       "      <td>/ORGANIZATION/SPIDERCLOUD-WIRELESS</td>\n",
       "      <td>/funding-round/f075bcbb79bf46485b861e01aaad62d8</td>\n",
       "      <td>venture</td>\n",
       "      <td>NaN</td>\n",
       "      <td>06-01-2015</td>\n",
       "      <td>14999999.0</td>\n",
       "      <td>Enterprise Software</td>\n",
       "      <td>Others</td>\n",
       "    </tr>\n",
       "    <tr>\n",
       "      <th>26892</th>\n",
       "      <td>/Organization/Onstor</td>\n",
       "      <td>ONStor</td>\n",
       "      <td>http://www.onstor.com</td>\n",
       "      <td>Web Hosting</td>\n",
       "      <td>acquired</td>\n",
       "      <td>USA</td>\n",
       "      <td>CA</td>\n",
       "      <td>SF Bay Area</td>\n",
       "      <td>Campbell</td>\n",
       "      <td>01-01-2000</td>\n",
       "      <td>onstor</td>\n",
       "      <td>/ORGANIZATION/ONSTOR</td>\n",
       "      <td>/funding-round/2b3c1d1a478c1562088c1f49fec1485c</td>\n",
       "      <td>venture</td>\n",
       "      <td>F</td>\n",
       "      <td>18-04-2008</td>\n",
       "      <td>14800000.0</td>\n",
       "      <td>Web Hosting</td>\n",
       "      <td>Others</td>\n",
       "    </tr>\n",
       "    <tr>\n",
       "      <th>29529</th>\n",
       "      <td>/Organization/Redfin</td>\n",
       "      <td>Redfin</td>\n",
       "      <td>http://redfin.com</td>\n",
       "      <td>Real Estate</td>\n",
       "      <td>operating</td>\n",
       "      <td>USA</td>\n",
       "      <td>WA</td>\n",
       "      <td>Seattle</td>\n",
       "      <td>Seattle</td>\n",
       "      <td>01-10-2004</td>\n",
       "      <td>redfin</td>\n",
       "      <td>/ORGANIZATION/REDFIN</td>\n",
       "      <td>/funding-round/8971121cb6408b7cbbb1f7781a7619ba</td>\n",
       "      <td>venture</td>\n",
       "      <td>E</td>\n",
       "      <td>27-10-2011</td>\n",
       "      <td>14800000.0</td>\n",
       "      <td>Real Estate</td>\n",
       "      <td>Others</td>\n",
       "    </tr>\n",
       "    <tr>\n",
       "      <th>20568</th>\n",
       "      <td>/Organization/Paynearme</td>\n",
       "      <td>PayNearMe</td>\n",
       "      <td>http://www.paynearme.com</td>\n",
       "      <td>E-Commerce|Government Innovation|Payments|Prop...</td>\n",
       "      <td>operating</td>\n",
       "      <td>USA</td>\n",
       "      <td>CA</td>\n",
       "      <td>SF Bay Area</td>\n",
       "      <td>Sunnyvale</td>\n",
       "      <td>01-03-2009</td>\n",
       "      <td>paynearme</td>\n",
       "      <td>/ORGANIZATION/PAYNEARME</td>\n",
       "      <td>/funding-round/11d1cdb33757026d636e779082095534</td>\n",
       "      <td>venture</td>\n",
       "      <td>F</td>\n",
       "      <td>06-04-2015</td>\n",
       "      <td>14699988.0</td>\n",
       "      <td>E-Commerce</td>\n",
       "      <td>Others</td>\n",
       "    </tr>\n",
       "    <tr>\n",
       "      <th>27718</th>\n",
       "      <td>/Organization/Lockdown-Networks</td>\n",
       "      <td>Lockdown Networks</td>\n",
       "      <td>http://www.lockdownnetworks.com</td>\n",
       "      <td>Security</td>\n",
       "      <td>acquired</td>\n",
       "      <td>USA</td>\n",
       "      <td>WA</td>\n",
       "      <td>Seattle</td>\n",
       "      <td>Seattle</td>\n",
       "      <td>01-01-2001</td>\n",
       "      <td>lockdown-networks</td>\n",
       "      <td>/organization/lockdown-networks</td>\n",
       "      <td>/funding-round/c1d3b2e9c422fda144283fdbf8a24507</td>\n",
       "      <td>venture</td>\n",
       "      <td>B</td>\n",
       "      <td>13-11-2007</td>\n",
       "      <td>14680000.0</td>\n",
       "      <td>Security</td>\n",
       "      <td>Others</td>\n",
       "    </tr>\n",
       "    <tr>\n",
       "      <th>...</th>\n",
       "      <td>...</td>\n",
       "      <td>...</td>\n",
       "      <td>...</td>\n",
       "      <td>...</td>\n",
       "      <td>...</td>\n",
       "      <td>...</td>\n",
       "      <td>...</td>\n",
       "      <td>...</td>\n",
       "      <td>...</td>\n",
       "      <td>...</td>\n",
       "      <td>...</td>\n",
       "      <td>...</td>\n",
       "      <td>...</td>\n",
       "      <td>...</td>\n",
       "      <td>...</td>\n",
       "      <td>...</td>\n",
       "      <td>...</td>\n",
       "      <td>...</td>\n",
       "      <td>...</td>\n",
       "    </tr>\n",
       "    <tr>\n",
       "      <th>10177</th>\n",
       "      <td>/Organization/Ceon</td>\n",
       "      <td>Ceon</td>\n",
       "      <td>http://www.ceon.com</td>\n",
       "      <td>Software</td>\n",
       "      <td>acquired</td>\n",
       "      <td>USA</td>\n",
       "      <td>CA</td>\n",
       "      <td>SF Bay Area</td>\n",
       "      <td>Redwood City</td>\n",
       "      <td>01-01-1982</td>\n",
       "      <td>ceon</td>\n",
       "      <td>/ORGANIZATION/CEON</td>\n",
       "      <td>/funding-round/649996dbcc88a4d6c56f3e89dfd76a4f</td>\n",
       "      <td>venture</td>\n",
       "      <td>NaN</td>\n",
       "      <td>01-09-2005</td>\n",
       "      <td>5040000.0</td>\n",
       "      <td>Software</td>\n",
       "      <td>Others</td>\n",
       "    </tr>\n",
       "    <tr>\n",
       "      <th>13279</th>\n",
       "      <td>/Organization/Azaleos</td>\n",
       "      <td>Azaleos</td>\n",
       "      <td>http://www.azaleos.com</td>\n",
       "      <td>Enterprise Software|Mobile|Unifed Communicatio...</td>\n",
       "      <td>acquired</td>\n",
       "      <td>USA</td>\n",
       "      <td>WA</td>\n",
       "      <td>Seattle</td>\n",
       "      <td>Seattle</td>\n",
       "      <td>11-05-2004</td>\n",
       "      <td>azaleos</td>\n",
       "      <td>/organization/azaleos</td>\n",
       "      <td>/funding-round/dc68e37c90b5fb8f62d15135402ed90c</td>\n",
       "      <td>venture</td>\n",
       "      <td>NaN</td>\n",
       "      <td>13-04-2009</td>\n",
       "      <td>5000297.0</td>\n",
       "      <td>Enterprise Software</td>\n",
       "      <td>Others</td>\n",
       "    </tr>\n",
       "    <tr>\n",
       "      <th>6649</th>\n",
       "      <td>/Organization/Fullbridge</td>\n",
       "      <td>Fullbridge</td>\n",
       "      <td>http://fullbridge.com</td>\n",
       "      <td>Education</td>\n",
       "      <td>operating</td>\n",
       "      <td>USA</td>\n",
       "      <td>MA</td>\n",
       "      <td>Boston</td>\n",
       "      <td>Cambridge</td>\n",
       "      <td>01-01-2010</td>\n",
       "      <td>fullbridge</td>\n",
       "      <td>/organization/fullbridge</td>\n",
       "      <td>/funding-round/232ba42631e36d0def96b3d1b7366294</td>\n",
       "      <td>venture</td>\n",
       "      <td>NaN</td>\n",
       "      <td>03-07-2014</td>\n",
       "      <td>5000048.0</td>\n",
       "      <td>Education</td>\n",
       "      <td>Others</td>\n",
       "    </tr>\n",
       "    <tr>\n",
       "      <th>12443</th>\n",
       "      <td>/Organization/Silverlink-Communications</td>\n",
       "      <td>Silverlink Communications</td>\n",
       "      <td>http://www.silverlink.com</td>\n",
       "      <td>Software</td>\n",
       "      <td>acquired</td>\n",
       "      <td>USA</td>\n",
       "      <td>MA</td>\n",
       "      <td>Boston</td>\n",
       "      <td>Burlington</td>\n",
       "      <td>01-01-2001</td>\n",
       "      <td>silverlink-communications</td>\n",
       "      <td>/ORGANIZATION/SILVERLINK-COMMUNICATIONS</td>\n",
       "      <td>/funding-round/b016aaa4a1656d04d74c06600c89d013</td>\n",
       "      <td>venture</td>\n",
       "      <td>NaN</td>\n",
       "      <td>14-08-2009</td>\n",
       "      <td>5000032.0</td>\n",
       "      <td>Software</td>\n",
       "      <td>Others</td>\n",
       "    </tr>\n",
       "    <tr>\n",
       "      <th>11311</th>\n",
       "      <td>/Organization/Knowledge-Factor</td>\n",
       "      <td>Knowledge Factor</td>\n",
       "      <td>http://knowledgefactor.com</td>\n",
       "      <td>Software</td>\n",
       "      <td>operating</td>\n",
       "      <td>USA</td>\n",
       "      <td>CO</td>\n",
       "      <td>Denver</td>\n",
       "      <td>Boulder</td>\n",
       "      <td>01-01-2000</td>\n",
       "      <td>knowledge-factor</td>\n",
       "      <td>/ORGANIZATION/KNOWLEDGE-FACTOR</td>\n",
       "      <td>/funding-round/e54b5e5b9adf4817312b14ba2b18913d</td>\n",
       "      <td>venture</td>\n",
       "      <td>NaN</td>\n",
       "      <td>18-06-2012</td>\n",
       "      <td>5000001.0</td>\n",
       "      <td>Software</td>\n",
       "      <td>Others</td>\n",
       "    </tr>\n",
       "  </tbody>\n",
       "</table>\n",
       "<p>2400 rows × 19 columns</p>\n",
       "</div>"
      ],
      "text/plain": [
       "                                     permalink                       name  \\\n",
       "14440       /Organization/Spidercloud-Wireless       SpiderCloud Wireless   \n",
       "26892                     /Organization/Onstor                     ONStor   \n",
       "29529                     /Organization/Redfin                     Redfin   \n",
       "20568                  /Organization/Paynearme                  PayNearMe   \n",
       "27718          /Organization/Lockdown-Networks          Lockdown Networks   \n",
       "...                                        ...                        ...   \n",
       "10177                       /Organization/Ceon                       Ceon   \n",
       "13279                    /Organization/Azaleos                    Azaleos   \n",
       "6649                  /Organization/Fullbridge                 Fullbridge   \n",
       "12443  /Organization/Silverlink-Communications  Silverlink Communications   \n",
       "11311           /Organization/Knowledge-Factor           Knowledge Factor   \n",
       "\n",
       "                          homepage_url  \\\n",
       "14440       http://www.spidercloud.com   \n",
       "26892            http://www.onstor.com   \n",
       "29529                http://redfin.com   \n",
       "20568         http://www.paynearme.com   \n",
       "27718  http://www.lockdownnetworks.com   \n",
       "...                                ...   \n",
       "10177              http://www.ceon.com   \n",
       "13279           http://www.azaleos.com   \n",
       "6649             http://fullbridge.com   \n",
       "12443        http://www.silverlink.com   \n",
       "11311       http://knowledgefactor.com   \n",
       "\n",
       "                                           category_list     status  \\\n",
       "14440                                Enterprise Software  operating   \n",
       "26892                                        Web Hosting   acquired   \n",
       "29529                                        Real Estate  operating   \n",
       "20568  E-Commerce|Government Innovation|Payments|Prop...  operating   \n",
       "27718                                           Security   acquired   \n",
       "...                                                  ...        ...   \n",
       "10177                                           Software   acquired   \n",
       "13279  Enterprise Software|Mobile|Unifed Communicatio...   acquired   \n",
       "6649                                           Education  operating   \n",
       "12443                                           Software   acquired   \n",
       "11311                                           Software  operating   \n",
       "\n",
       "      country_code state_code       region          city  founded_at  \\\n",
       "14440          USA         CA  SF Bay Area      San Jose  01-01-2007   \n",
       "26892          USA         CA  SF Bay Area      Campbell  01-01-2000   \n",
       "29529          USA         WA      Seattle       Seattle  01-10-2004   \n",
       "20568          USA         CA  SF Bay Area     Sunnyvale  01-03-2009   \n",
       "27718          USA         WA      Seattle       Seattle  01-01-2001   \n",
       "...            ...        ...          ...           ...         ...   \n",
       "10177          USA         CA  SF Bay Area  Redwood City  01-01-1982   \n",
       "13279          USA         WA      Seattle       Seattle  11-05-2004   \n",
       "6649           USA         MA       Boston     Cambridge  01-01-2010   \n",
       "12443          USA         MA       Boston    Burlington  01-01-2001   \n",
       "11311          USA         CO       Denver       Boulder  01-01-2000   \n",
       "\n",
       "                    company_name                        company_permalink  \\\n",
       "14440       spidercloud-wireless       /ORGANIZATION/SPIDERCLOUD-WIRELESS   \n",
       "26892                     onstor                     /ORGANIZATION/ONSTOR   \n",
       "29529                     redfin                     /ORGANIZATION/REDFIN   \n",
       "20568                  paynearme                  /ORGANIZATION/PAYNEARME   \n",
       "27718          lockdown-networks          /organization/lockdown-networks   \n",
       "...                          ...                                      ...   \n",
       "10177                       ceon                       /ORGANIZATION/CEON   \n",
       "13279                    azaleos                    /organization/azaleos   \n",
       "6649                  fullbridge                 /organization/fullbridge   \n",
       "12443  silverlink-communications  /ORGANIZATION/SILVERLINK-COMMUNICATIONS   \n",
       "11311           knowledge-factor           /ORGANIZATION/KNOWLEDGE-FACTOR   \n",
       "\n",
       "                               funding_round_permalink funding_round_type  \\\n",
       "14440  /funding-round/f075bcbb79bf46485b861e01aaad62d8            venture   \n",
       "26892  /funding-round/2b3c1d1a478c1562088c1f49fec1485c            venture   \n",
       "29529  /funding-round/8971121cb6408b7cbbb1f7781a7619ba            venture   \n",
       "20568  /funding-round/11d1cdb33757026d636e779082095534            venture   \n",
       "27718  /funding-round/c1d3b2e9c422fda144283fdbf8a24507            venture   \n",
       "...                                                ...                ...   \n",
       "10177  /funding-round/649996dbcc88a4d6c56f3e89dfd76a4f            venture   \n",
       "13279  /funding-round/dc68e37c90b5fb8f62d15135402ed90c            venture   \n",
       "6649   /funding-round/232ba42631e36d0def96b3d1b7366294            venture   \n",
       "12443  /funding-round/b016aaa4a1656d04d74c06600c89d013            venture   \n",
       "11311  /funding-round/e54b5e5b9adf4817312b14ba2b18913d            venture   \n",
       "\n",
       "      funding_round_code   funded_at  raised_amount_usd       primary_sector  \\\n",
       "14440                NaN  06-01-2015         14999999.0  Enterprise Software   \n",
       "26892                  F  18-04-2008         14800000.0          Web Hosting   \n",
       "29529                  E  27-10-2011         14800000.0          Real Estate   \n",
       "20568                  F  06-04-2015         14699988.0           E-Commerce   \n",
       "27718                  B  13-11-2007         14680000.0             Security   \n",
       "...                  ...         ...                ...                  ...   \n",
       "10177                NaN  01-09-2005          5040000.0             Software   \n",
       "13279                NaN  13-04-2009          5000297.0  Enterprise Software   \n",
       "6649                 NaN  03-07-2014          5000048.0            Education   \n",
       "12443                NaN  14-08-2009          5000032.0             Software   \n",
       "11311                NaN  18-06-2012          5000001.0             Software   \n",
       "\n",
       "      main_sector  \n",
       "14440      Others  \n",
       "26892      Others  \n",
       "29529      Others  \n",
       "20568      Others  \n",
       "27718      Others  \n",
       "...           ...  \n",
       "10177      Others  \n",
       "13279      Others  \n",
       "6649       Others  \n",
       "12443      Others  \n",
       "11311      Others  \n",
       "\n",
       "[2400 rows x 19 columns]"
      ]
     },
     "execution_count": 272,
     "metadata": {},
     "output_type": "execute_result"
    }
   ],
   "source": [
    "D1_1.sort_values(by=['raised_amount_usd'], ascending=False)"
   ]
  },
  {
   "cell_type": "code",
   "execution_count": 276,
   "metadata": {},
   "outputs": [
    {
     "data": {
      "text/plain": [
       "company_name       main_sector\n",
       "airtight-networks  Others         54201907.0\n",
       "bit9               Others         48433533.0\n",
       "zilliant           Others         45600000.0\n",
       "redfin             Others         44800000.0\n",
       "five9              Others         44600000.0\n",
       "                                     ...    \n",
       "naartjie           Others          5071177.0\n",
       "camino-real        Others          5068086.0\n",
       "lagotek            Others          5063236.0\n",
       "pax8               Others          5050000.0\n",
       "ceon               Others          5040000.0\n",
       "Name: raised_amount_usd, Length: 1778, dtype: float64"
      ]
     },
     "execution_count": 276,
     "metadata": {},
     "output_type": "execute_result"
    }
   ],
   "source": [
    "# Top sector count-wise (Others) for D1 Country, which company received the highiest investment\n",
    "(D1_1.groupby(['company_name','main_sector'])['raised_amount_usd'].sum()).sort_values(ascending=False)"
   ]
  },
  {
   "cell_type": "code",
   "execution_count": 280,
   "metadata": {},
   "outputs": [
    {
     "data": {
      "text/plain": [
       "company_name     main_sector\n",
       "electric-cloud   Others         37000000.0\n",
       "enigmatic        Others         32500000.0\n",
       "opencloud        Others         27972766.0\n",
       "myoptique-group  Others         27694613.0\n",
       "acs-clothing     Others         26239014.0\n",
       "                                   ...    \n",
       "clarisite        Others          5500000.0\n",
       "zbd-displays     Others          5430000.0\n",
       "almondy          Others          5407412.0\n",
       "gear4music-com   Others          5385352.0\n",
       "medikidz         Others          5055753.0\n",
       "Name: raised_amount_usd, Length: 109, dtype: float64"
      ]
     },
     "execution_count": 280,
     "metadata": {},
     "output_type": "execute_result"
    }
   ],
   "source": [
    "# Top sector count-wise (Others) for D3 Country, which company received the highiest investment\n",
    "(D2_1.groupby(['company_name','main_sector'])['raised_amount_usd'].sum()).sort_values(ascending=False)"
   ]
  },
  {
   "cell_type": "code",
   "execution_count": 343,
   "metadata": {},
   "outputs": [
    {
     "data": {
      "text/plain": [
       "company_name                                                            main_sector\n",
       "myntra                                                                  Others         33000000.0\n",
       "firstcry-com                                                            Others         24000000.0\n",
       "nxtgen-data-center-cloud-services                                       Others         22300000.0\n",
       "maharana-infrastructure-and-professional-services-private-limited-mips  Others         21600000.0\n",
       "india-property-online                                                   Others         19000000.0\n",
       "                                                                                          ...    \n",
       "citrus                                                                  Others          5500000.0\n",
       "goldvip-technology-solutions-crown-it                                   Others          5500000.0\n",
       "monarch-innovative-technologies                                         Others          5500000.0\n",
       "aujas-networks                                                          Others          5400000.0\n",
       "hurix-systems-private                                                   Others          5100000.0\n",
       "Name: raised_amount_usd, Length: 67, dtype: float64"
      ]
     },
     "execution_count": 343,
     "metadata": {},
     "output_type": "execute_result"
    }
   ],
   "source": [
    "# Top sector count-wise (Others) for D3 Country, which company received the highiest investment\n",
    "(D3_1.groupby(['company_name','main_sector'])['raised_amount_usd'].sum()).sort_values(ascending=False)"
   ]
  },
  {
   "cell_type": "code",
   "execution_count": 344,
   "metadata": {},
   "outputs": [],
   "source": [
    "# Creating new dataframes for D1, D2, D3 Countries for second best sector \n",
    "D1_2 = D1[D1.main_sector == \"Cleantech / Semiconductors\"]\n",
    "D2_2 = D2[D2.main_sector == \"Cleantech / Semiconductors\"]\n",
    "D3_2 = D3[D3.main_sector == \"News, Search and Messaging\"]"
   ]
  },
  {
   "cell_type": "code",
   "execution_count": 293,
   "metadata": {},
   "outputs": [
    {
     "data": {
      "text/plain": [
       "company_name                   main_sector               \n",
       "biodesix                       Cleantech / Semiconductors    75300000.0\n",
       "tigo-energy                    Cleantech / Semiconductors    63739496.0\n",
       "rheonix                        Cleantech / Semiconductors    56124758.0\n",
       "scienergy                      Cleantech / Semiconductors    55375423.0\n",
       "alung-technologies             Cleantech / Semiconductors    54110403.0\n",
       "                                                                ...    \n",
       "ebr-systems                    Cleantech / Semiconductors     5000026.0\n",
       "huya-bioscience-international  Cleantech / Semiconductors     5000025.0\n",
       "cardiodx                       Cleantech / Semiconductors     5000008.0\n",
       "taris-biomedical               Cleantech / Semiconductors     5000001.0\n",
       "setpoint-medical               Cleantech / Semiconductors     5000001.0\n",
       "Name: raised_amount_usd, Length: 1414, dtype: float64"
      ]
     },
     "execution_count": 293,
     "metadata": {},
     "output_type": "execute_result"
    }
   ],
   "source": [
    "# Top second best sector count-wise for D1 Countries, which company received the highiest investment\n",
    "(D1_2.groupby(['company_name','main_sector'])['raised_amount_usd'].sum()).sort_values(ascending=False)"
   ]
  },
  {
   "cell_type": "code",
   "execution_count": 294,
   "metadata": {},
   "outputs": [
    {
     "data": {
      "text/plain": [
       "company_name                                                   main_sector               \n",
       "eusa-pharma                                                    Cleantech / Semiconductors    35600000.0\n",
       "horizon-discovery                                              Cleantech / Semiconductors    31353719.0\n",
       "f-star-biotechnologische-forschungs-und-entwicklungsges-m-b-h  Cleantech / Semiconductors    29132906.0\n",
       "takeda-cambridge                                               Cleantech / Semiconductors    22340000.0\n",
       "immune-targeting-systems                                       Cleantech / Semiconductors    20320961.0\n",
       "                                                                                                ...    \n",
       "bourn-hall-clinic                                              Cleantech / Semiconductors     5303380.0\n",
       "lamellar-biomedical                                            Cleantech / Semiconductors     5301059.0\n",
       "mmic-solutions                                                 Cleantech / Semiconductors     5250000.0\n",
       "flowline                                                       Cleantech / Semiconductors     5104587.0\n",
       "ignis-energy                                                   Cleantech / Semiconductors     5014644.0\n",
       "Name: raised_amount_usd, Length: 102, dtype: float64"
      ]
     },
     "execution_count": 294,
     "metadata": {},
     "output_type": "execute_result"
    }
   ],
   "source": [
    "# Top second best sector count-wise for D2 Countries, which company received the highiest investment\n",
    "(D2_2.groupby(['company_name','main_sector'])['raised_amount_usd'].sum()).sort_values(ascending=False)"
   ]
  },
  {
   "cell_type": "code",
   "execution_count": 345,
   "metadata": {},
   "outputs": [
    {
     "data": {
      "text/plain": [
       "company_name                      main_sector               \n",
       "gupshup-technology-india-pvt-ltd  News, Search and Messaging    33000000.0\n",
       "imimobile                         News, Search and Messaging    23000000.0\n",
       "sms-gupshup                       News, Search and Messaging    22000000.0\n",
       "roadrunnr                         News, Search and Messaging    21000000.0\n",
       "hike                              News, Search and Messaging    21000000.0\n",
       "matrimony-com                     News, Search and Messaging    20400000.0\n",
       "guruji                            News, Search and Messaging    15000000.0\n",
       "quikr-india                       News, Search and Messaging    14000000.0\n",
       "bharat-matrimony                  News, Search and Messaging    11750000.0\n",
       "teledna                           News, Search and Messaging    10490000.0\n",
       "money-on-mobile                   News, Search and Messaging    10000000.0\n",
       "webshastra-pvt-ltd                News, Search and Messaging    10000000.0\n",
       "bluestone-com                     News, Search and Messaging    10000000.0\n",
       "fourinteractive                   News, Search and Messaging    10000000.0\n",
       "just-dial                         News, Search and Messaging    10000000.0\n",
       "babajob                           News, Search and Messaging    10000000.0\n",
       "one97-communications              News, Search and Messaging    10000000.0\n",
       "peppertap                         News, Search and Messaging    10000000.0\n",
       "urbanclap                         News, Search and Messaging    10000000.0\n",
       "shadowfax-technologies            News, Search and Messaging     8500000.0\n",
       "people-interactive-india          News, Search and Messaging     8000000.0\n",
       "ezetap                            News, Search and Messaging     8000000.0\n",
       "tinyowl-technology                News, Search and Messaging     7665775.0\n",
       "nazara-technologies               News, Search and Messaging     7000000.0\n",
       "knowlarity-communications         News, Search and Messaging     6500000.0\n",
       "culturealley                      News, Search and Messaging     6500000.0\n",
       "redbus-in                         News, Search and Messaging     6428770.0\n",
       "chillr-2                          News, Search and Messaging     6000000.0\n",
       "zinka-logistics                   News, Search and Messaging     6000000.0\n",
       "surewaves                         News, Search and Messaging     5700000.0\n",
       "the-porter                        News, Search and Messaging     5500000.0\n",
       "easylink                          News, Search and Messaging     5400000.0\n",
       "Name: raised_amount_usd, dtype: float64"
      ]
     },
     "execution_count": 345,
     "metadata": {},
     "output_type": "execute_result"
    }
   ],
   "source": [
    "# Top second best sector count-wise for D3 Countries, which company received the highiest investment\n",
    "(D3_2.groupby(['company_name','main_sector'])['raised_amount_usd'].sum()).sort_values(ascending=False)"
   ]
  },
  {
   "cell_type": "markdown",
   "metadata": {},
   "source": [
    "# Plots"
   ]
  },
  {
   "cell_type": "code",
   "execution_count": 296,
   "metadata": {},
   "outputs": [
    {
     "data": {
      "image/png": "[encoded data removed]",
      "text/plain": [
       "<Figure size 2160x2160 with 1 Axes>"
      ]
     },
     "metadata": {
      "needs_background": "light"
     },
     "output_type": "display_data"
    }
   ],
   "source": [
    "plt.figure(figsize=[30,30])\n",
    "sns.boxplot(master_frame2.funding_round_type,master_frame2.raised_amount_usd)\n",
    "plt.show()"
   ]
  },
  {
   "cell_type": "code",
   "execution_count": 318,
   "metadata": {},
   "outputs": [],
   "source": [
    "# Removing some outliers\n",
    "investment_ft = master_frame2[(master_frame2.raised_amount_usd < 170000000)]"
   ]
  },
  {
   "cell_type": "code",
   "execution_count": 320,
   "metadata": {},
   "outputs": [
    {
     "data": {
      "image/png": "[encoded data removed]",
      "text/plain": [
       "<Figure size 2160x2160 with 1 Axes>"
      ]
     },
     "metadata": {
      "needs_background": "light"
     },
     "output_type": "display_data"
    }
   ],
   "source": [
    "# Plot showing the representative amount of investment in each funding type\n",
    "plt.figure(figsize=[30,30])\n",
    "sns.boxplot(investment_ft.funding_round_type,investment_ft.raised_amount_usd)\n",
    "plt.show()"
   ]
  },
  {
   "cell_type": "code",
   "execution_count": 321,
   "metadata": {},
   "outputs": [
    {
     "data": {
      "image/png": "[encoded data removed]",
      "text/plain": [
       "<Figure size 2160x2160 with 1 Axes>"
      ]
     },
     "metadata": {
      "needs_background": "light"
     },
     "output_type": "display_data"
    }
   ],
   "source": [
    "# Plot showing the top 9 countries against the total amount of investments of funding type FT\n",
    "plt.figure(figsize=[30,30])\n",
    "sns.barplot(data=top9, x=\"country_code\", y=\"raised_amount_usd\", estimator=sum)\n",
    "plt.show()"
   ]
  },
  {
   "cell_type": "code",
   "execution_count": 350,
   "metadata": {},
   "outputs": [
    {
     "data": {
      "image/png": "[encoded data removed]",
      "text/plain": [
       "<Figure size 2160x2160 with 1 Axes>"
      ]
     },
     "metadata": {
      "needs_background": "light"
     },
     "output_type": "display_data"
    }
   ],
   "source": [
    "# Plot showing the number of investments in the top 3 sectors of the top 3 countries on one chart for venture investment type. \n",
    "plt.figure(figsize=[30,30])\n",
    "master.groupby(['country_code','main_sector'])['raised_amount_usd'].sum().plot.bar()\n",
    "plt.show()"
   ]
  },
  {
   "cell_type": "code",
   "execution_count": null,
   "metadata": {},
   "outputs": [],
   "source": []
  }
 ],
 "metadata": {
  "kernelspec": {
   "display_name": "Python 3",
   "language": "python",
   "name": "python3"
  },
  "language_info": {
   "codemirror_mode": {
    "name": "ipython",
    "version": 3
   },
   "file_extension": ".py",
   "mimetype": "text/x-python",
   "name": "python",
   "nbconvert_exporter": "python",
   "pygments_lexer": "ipython3",
   "version": "3.8.3"
  }
 },
 "nbformat": 4,
 "nbformat_minor": 4
}
